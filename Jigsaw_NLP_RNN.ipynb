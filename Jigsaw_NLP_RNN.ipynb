{
  "nbformat": 4,
  "nbformat_minor": 0,
  "metadata": {
    "colab": {
      "provenance": []
    },
    "kernelspec": {
      "name": "python3",
      "display_name": "Python 3"
    },
    "language_info": {
      "name": "python"
    },
    "accelerator": "GPU",
    "gpuClass": "standard",
    "widgets": {
      "application/vnd.jupyter.widget-state+json": {
        "487a761d7a614e2c96f4af6cc68b0990": {
          "model_module": "@jupyter-widgets/controls",
          "model_name": "HBoxModel",
          "model_module_version": "1.5.0",
          "state": {
            "_dom_classes": [],
            "_model_module": "@jupyter-widgets/controls",
            "_model_module_version": "1.5.0",
            "_model_name": "HBoxModel",
            "_view_count": null,
            "_view_module": "@jupyter-widgets/controls",
            "_view_module_version": "1.5.0",
            "_view_name": "HBoxView",
            "box_style": "",
            "children": [
              "IPY_MODEL_82d64ddfe776473bb3f1312ed916a377",
              "IPY_MODEL_50d812a3a6eb48a3b908ea83bd336461",
              "IPY_MODEL_f844c11d02c44d6582197fb7793c1d29"
            ],
            "layout": "IPY_MODEL_7fe5010ab5b9458e979a412aefa67d90"
          }
        },
        "82d64ddfe776473bb3f1312ed916a377": {
          "model_module": "@jupyter-widgets/controls",
          "model_name": "HTMLModel",
          "model_module_version": "1.5.0",
          "state": {
            "_dom_classes": [],
            "_model_module": "@jupyter-widgets/controls",
            "_model_module_version": "1.5.0",
            "_model_name": "HTMLModel",
            "_view_count": null,
            "_view_module": "@jupyter-widgets/controls",
            "_view_module_version": "1.5.0",
            "_view_name": "HTMLView",
            "description": "",
            "description_tooltip": null,
            "layout": "IPY_MODEL_a0d22d2689c54fd8b70cd5ab5e3b08ea",
            "placeholder": "​",
            "style": "IPY_MODEL_03ee2e5bc0a24e1481c6b7fb29a50f97",
            "value": "Finding best initial lr: 100%"
          }
        },
        "50d812a3a6eb48a3b908ea83bd336461": {
          "model_module": "@jupyter-widgets/controls",
          "model_name": "FloatProgressModel",
          "model_module_version": "1.5.0",
          "state": {
            "_dom_classes": [],
            "_model_module": "@jupyter-widgets/controls",
            "_model_module_version": "1.5.0",
            "_model_name": "FloatProgressModel",
            "_view_count": null,
            "_view_module": "@jupyter-widgets/controls",
            "_view_module_version": "1.5.0",
            "_view_name": "ProgressView",
            "bar_style": "success",
            "description": "",
            "description_tooltip": null,
            "layout": "IPY_MODEL_dce0103c350344619de92d559015e4dd",
            "max": 100,
            "min": 0,
            "orientation": "horizontal",
            "style": "IPY_MODEL_481f03446ae8473aa471d0d07a097b6e",
            "value": 100
          }
        },
        "f844c11d02c44d6582197fb7793c1d29": {
          "model_module": "@jupyter-widgets/controls",
          "model_name": "HTMLModel",
          "model_module_version": "1.5.0",
          "state": {
            "_dom_classes": [],
            "_model_module": "@jupyter-widgets/controls",
            "_model_module_version": "1.5.0",
            "_model_name": "HTMLModel",
            "_view_count": null,
            "_view_module": "@jupyter-widgets/controls",
            "_view_module_version": "1.5.0",
            "_view_name": "HTMLView",
            "description": "",
            "description_tooltip": null,
            "layout": "IPY_MODEL_2adfab10338f4019b9d04bc12f6d81d6",
            "placeholder": "​",
            "style": "IPY_MODEL_aa35f0bc2baa436e9bd4c6cca983eab0",
            "value": " 100/100 [00:54&lt;00:00,  3.10it/s]"
          }
        },
        "7fe5010ab5b9458e979a412aefa67d90": {
          "model_module": "@jupyter-widgets/base",
          "model_name": "LayoutModel",
          "model_module_version": "1.2.0",
          "state": {
            "_model_module": "@jupyter-widgets/base",
            "_model_module_version": "1.2.0",
            "_model_name": "LayoutModel",
            "_view_count": null,
            "_view_module": "@jupyter-widgets/base",
            "_view_module_version": "1.2.0",
            "_view_name": "LayoutView",
            "align_content": null,
            "align_items": null,
            "align_self": null,
            "border": null,
            "bottom": null,
            "display": null,
            "flex": null,
            "flex_flow": null,
            "grid_area": null,
            "grid_auto_columns": null,
            "grid_auto_flow": null,
            "grid_auto_rows": null,
            "grid_column": null,
            "grid_gap": null,
            "grid_row": null,
            "grid_template_areas": null,
            "grid_template_columns": null,
            "grid_template_rows": null,
            "height": null,
            "justify_content": null,
            "justify_items": null,
            "left": null,
            "margin": null,
            "max_height": null,
            "max_width": null,
            "min_height": null,
            "min_width": null,
            "object_fit": null,
            "object_position": null,
            "order": null,
            "overflow": null,
            "overflow_x": null,
            "overflow_y": null,
            "padding": null,
            "right": null,
            "top": null,
            "visibility": null,
            "width": null
          }
        },
        "a0d22d2689c54fd8b70cd5ab5e3b08ea": {
          "model_module": "@jupyter-widgets/base",
          "model_name": "LayoutModel",
          "model_module_version": "1.2.0",
          "state": {
            "_model_module": "@jupyter-widgets/base",
            "_model_module_version": "1.2.0",
            "_model_name": "LayoutModel",
            "_view_count": null,
            "_view_module": "@jupyter-widgets/base",
            "_view_module_version": "1.2.0",
            "_view_name": "LayoutView",
            "align_content": null,
            "align_items": null,
            "align_self": null,
            "border": null,
            "bottom": null,
            "display": null,
            "flex": null,
            "flex_flow": null,
            "grid_area": null,
            "grid_auto_columns": null,
            "grid_auto_flow": null,
            "grid_auto_rows": null,
            "grid_column": null,
            "grid_gap": null,
            "grid_row": null,
            "grid_template_areas": null,
            "grid_template_columns": null,
            "grid_template_rows": null,
            "height": null,
            "justify_content": null,
            "justify_items": null,
            "left": null,
            "margin": null,
            "max_height": null,
            "max_width": null,
            "min_height": null,
            "min_width": null,
            "object_fit": null,
            "object_position": null,
            "order": null,
            "overflow": null,
            "overflow_x": null,
            "overflow_y": null,
            "padding": null,
            "right": null,
            "top": null,
            "visibility": null,
            "width": null
          }
        },
        "03ee2e5bc0a24e1481c6b7fb29a50f97": {
          "model_module": "@jupyter-widgets/controls",
          "model_name": "DescriptionStyleModel",
          "model_module_version": "1.5.0",
          "state": {
            "_model_module": "@jupyter-widgets/controls",
            "_model_module_version": "1.5.0",
            "_model_name": "DescriptionStyleModel",
            "_view_count": null,
            "_view_module": "@jupyter-widgets/base",
            "_view_module_version": "1.2.0",
            "_view_name": "StyleView",
            "description_width": ""
          }
        },
        "dce0103c350344619de92d559015e4dd": {
          "model_module": "@jupyter-widgets/base",
          "model_name": "LayoutModel",
          "model_module_version": "1.2.0",
          "state": {
            "_model_module": "@jupyter-widgets/base",
            "_model_module_version": "1.2.0",
            "_model_name": "LayoutModel",
            "_view_count": null,
            "_view_module": "@jupyter-widgets/base",
            "_view_module_version": "1.2.0",
            "_view_name": "LayoutView",
            "align_content": null,
            "align_items": null,
            "align_self": null,
            "border": null,
            "bottom": null,
            "display": null,
            "flex": null,
            "flex_flow": null,
            "grid_area": null,
            "grid_auto_columns": null,
            "grid_auto_flow": null,
            "grid_auto_rows": null,
            "grid_column": null,
            "grid_gap": null,
            "grid_row": null,
            "grid_template_areas": null,
            "grid_template_columns": null,
            "grid_template_rows": null,
            "height": null,
            "justify_content": null,
            "justify_items": null,
            "left": null,
            "margin": null,
            "max_height": null,
            "max_width": null,
            "min_height": null,
            "min_width": null,
            "object_fit": null,
            "object_position": null,
            "order": null,
            "overflow": null,
            "overflow_x": null,
            "overflow_y": null,
            "padding": null,
            "right": null,
            "top": null,
            "visibility": null,
            "width": null
          }
        },
        "481f03446ae8473aa471d0d07a097b6e": {
          "model_module": "@jupyter-widgets/controls",
          "model_name": "ProgressStyleModel",
          "model_module_version": "1.5.0",
          "state": {
            "_model_module": "@jupyter-widgets/controls",
            "_model_module_version": "1.5.0",
            "_model_name": "ProgressStyleModel",
            "_view_count": null,
            "_view_module": "@jupyter-widgets/base",
            "_view_module_version": "1.2.0",
            "_view_name": "StyleView",
            "bar_color": null,
            "description_width": ""
          }
        },
        "2adfab10338f4019b9d04bc12f6d81d6": {
          "model_module": "@jupyter-widgets/base",
          "model_name": "LayoutModel",
          "model_module_version": "1.2.0",
          "state": {
            "_model_module": "@jupyter-widgets/base",
            "_model_module_version": "1.2.0",
            "_model_name": "LayoutModel",
            "_view_count": null,
            "_view_module": "@jupyter-widgets/base",
            "_view_module_version": "1.2.0",
            "_view_name": "LayoutView",
            "align_content": null,
            "align_items": null,
            "align_self": null,
            "border": null,
            "bottom": null,
            "display": null,
            "flex": null,
            "flex_flow": null,
            "grid_area": null,
            "grid_auto_columns": null,
            "grid_auto_flow": null,
            "grid_auto_rows": null,
            "grid_column": null,
            "grid_gap": null,
            "grid_row": null,
            "grid_template_areas": null,
            "grid_template_columns": null,
            "grid_template_rows": null,
            "height": null,
            "justify_content": null,
            "justify_items": null,
            "left": null,
            "margin": null,
            "max_height": null,
            "max_width": null,
            "min_height": null,
            "min_width": null,
            "object_fit": null,
            "object_position": null,
            "order": null,
            "overflow": null,
            "overflow_x": null,
            "overflow_y": null,
            "padding": null,
            "right": null,
            "top": null,
            "visibility": null,
            "width": null
          }
        },
        "aa35f0bc2baa436e9bd4c6cca983eab0": {
          "model_module": "@jupyter-widgets/controls",
          "model_name": "DescriptionStyleModel",
          "model_module_version": "1.5.0",
          "state": {
            "_model_module": "@jupyter-widgets/controls",
            "_model_module_version": "1.5.0",
            "_model_name": "DescriptionStyleModel",
            "_view_count": null,
            "_view_module": "@jupyter-widgets/base",
            "_view_module_version": "1.2.0",
            "_view_name": "StyleView",
            "description_width": ""
          }
        },
        "8f607ac39a4b4a21935a9c331e55135a": {
          "model_module": "@jupyter-widgets/controls",
          "model_name": "HBoxModel",
          "model_module_version": "1.5.0",
          "state": {
            "_dom_classes": [],
            "_model_module": "@jupyter-widgets/controls",
            "_model_module_version": "1.5.0",
            "_model_name": "HBoxModel",
            "_view_count": null,
            "_view_module": "@jupyter-widgets/controls",
            "_view_module_version": "1.5.0",
            "_view_name": "HBoxView",
            "box_style": "",
            "children": [
              "IPY_MODEL_d1e58222be994d59b7b0ad57f3ae1834",
              "IPY_MODEL_a0bf51b250f64dc3937dd131a575eb2a",
              "IPY_MODEL_931939805fe1469e9b56d945b71571ec"
            ],
            "layout": "IPY_MODEL_f626573e48404d67af4b320851e0a74c"
          }
        },
        "d1e58222be994d59b7b0ad57f3ae1834": {
          "model_module": "@jupyter-widgets/controls",
          "model_name": "HTMLModel",
          "model_module_version": "1.5.0",
          "state": {
            "_dom_classes": [],
            "_model_module": "@jupyter-widgets/controls",
            "_model_module_version": "1.5.0",
            "_model_name": "HTMLModel",
            "_view_count": null,
            "_view_module": "@jupyter-widgets/controls",
            "_view_module_version": "1.5.0",
            "_view_name": "HTMLView",
            "description": "",
            "description_tooltip": null,
            "layout": "IPY_MODEL_3b09cdd4e0774991a04640354fc078eb",
            "placeholder": "​",
            "style": "IPY_MODEL_a31d22e437d842cdb922748c5bd81664",
            "value": "Sanity Checking DataLoader 0: 100%"
          }
        },
        "a0bf51b250f64dc3937dd131a575eb2a": {
          "model_module": "@jupyter-widgets/controls",
          "model_name": "FloatProgressModel",
          "model_module_version": "1.5.0",
          "state": {
            "_dom_classes": [],
            "_model_module": "@jupyter-widgets/controls",
            "_model_module_version": "1.5.0",
            "_model_name": "FloatProgressModel",
            "_view_count": null,
            "_view_module": "@jupyter-widgets/controls",
            "_view_module_version": "1.5.0",
            "_view_name": "ProgressView",
            "bar_style": "",
            "description": "",
            "description_tooltip": null,
            "layout": "IPY_MODEL_6b1ba1905e114e8b910203ab5dd56459",
            "max": 2,
            "min": 0,
            "orientation": "horizontal",
            "style": "IPY_MODEL_aee750c04376460da003dc8e04314788",
            "value": 2
          }
        },
        "931939805fe1469e9b56d945b71571ec": {
          "model_module": "@jupyter-widgets/controls",
          "model_name": "HTMLModel",
          "model_module_version": "1.5.0",
          "state": {
            "_dom_classes": [],
            "_model_module": "@jupyter-widgets/controls",
            "_model_module_version": "1.5.0",
            "_model_name": "HTMLModel",
            "_view_count": null,
            "_view_module": "@jupyter-widgets/controls",
            "_view_module_version": "1.5.0",
            "_view_name": "HTMLView",
            "description": "",
            "description_tooltip": null,
            "layout": "IPY_MODEL_cdee40ed8d274a99801905216afeae20",
            "placeholder": "​",
            "style": "IPY_MODEL_6c1d6baea5444072bda2fc3b944aaa53",
            "value": " 2/2 [00:00&lt;00:00, 14.21it/s]"
          }
        },
        "f626573e48404d67af4b320851e0a74c": {
          "model_module": "@jupyter-widgets/base",
          "model_name": "LayoutModel",
          "model_module_version": "1.2.0",
          "state": {
            "_model_module": "@jupyter-widgets/base",
            "_model_module_version": "1.2.0",
            "_model_name": "LayoutModel",
            "_view_count": null,
            "_view_module": "@jupyter-widgets/base",
            "_view_module_version": "1.2.0",
            "_view_name": "LayoutView",
            "align_content": null,
            "align_items": null,
            "align_self": null,
            "border": null,
            "bottom": null,
            "display": "inline-flex",
            "flex": null,
            "flex_flow": "row wrap",
            "grid_area": null,
            "grid_auto_columns": null,
            "grid_auto_flow": null,
            "grid_auto_rows": null,
            "grid_column": null,
            "grid_gap": null,
            "grid_row": null,
            "grid_template_areas": null,
            "grid_template_columns": null,
            "grid_template_rows": null,
            "height": null,
            "justify_content": null,
            "justify_items": null,
            "left": null,
            "margin": null,
            "max_height": null,
            "max_width": null,
            "min_height": null,
            "min_width": null,
            "object_fit": null,
            "object_position": null,
            "order": null,
            "overflow": null,
            "overflow_x": null,
            "overflow_y": null,
            "padding": null,
            "right": null,
            "top": null,
            "visibility": "hidden",
            "width": "100%"
          }
        },
        "3b09cdd4e0774991a04640354fc078eb": {
          "model_module": "@jupyter-widgets/base",
          "model_name": "LayoutModel",
          "model_module_version": "1.2.0",
          "state": {
            "_model_module": "@jupyter-widgets/base",
            "_model_module_version": "1.2.0",
            "_model_name": "LayoutModel",
            "_view_count": null,
            "_view_module": "@jupyter-widgets/base",
            "_view_module_version": "1.2.0",
            "_view_name": "LayoutView",
            "align_content": null,
            "align_items": null,
            "align_self": null,
            "border": null,
            "bottom": null,
            "display": null,
            "flex": null,
            "flex_flow": null,
            "grid_area": null,
            "grid_auto_columns": null,
            "grid_auto_flow": null,
            "grid_auto_rows": null,
            "grid_column": null,
            "grid_gap": null,
            "grid_row": null,
            "grid_template_areas": null,
            "grid_template_columns": null,
            "grid_template_rows": null,
            "height": null,
            "justify_content": null,
            "justify_items": null,
            "left": null,
            "margin": null,
            "max_height": null,
            "max_width": null,
            "min_height": null,
            "min_width": null,
            "object_fit": null,
            "object_position": null,
            "order": null,
            "overflow": null,
            "overflow_x": null,
            "overflow_y": null,
            "padding": null,
            "right": null,
            "top": null,
            "visibility": null,
            "width": null
          }
        },
        "a31d22e437d842cdb922748c5bd81664": {
          "model_module": "@jupyter-widgets/controls",
          "model_name": "DescriptionStyleModel",
          "model_module_version": "1.5.0",
          "state": {
            "_model_module": "@jupyter-widgets/controls",
            "_model_module_version": "1.5.0",
            "_model_name": "DescriptionStyleModel",
            "_view_count": null,
            "_view_module": "@jupyter-widgets/base",
            "_view_module_version": "1.2.0",
            "_view_name": "StyleView",
            "description_width": ""
          }
        },
        "6b1ba1905e114e8b910203ab5dd56459": {
          "model_module": "@jupyter-widgets/base",
          "model_name": "LayoutModel",
          "model_module_version": "1.2.0",
          "state": {
            "_model_module": "@jupyter-widgets/base",
            "_model_module_version": "1.2.0",
            "_model_name": "LayoutModel",
            "_view_count": null,
            "_view_module": "@jupyter-widgets/base",
            "_view_module_version": "1.2.0",
            "_view_name": "LayoutView",
            "align_content": null,
            "align_items": null,
            "align_self": null,
            "border": null,
            "bottom": null,
            "display": null,
            "flex": "2",
            "flex_flow": null,
            "grid_area": null,
            "grid_auto_columns": null,
            "grid_auto_flow": null,
            "grid_auto_rows": null,
            "grid_column": null,
            "grid_gap": null,
            "grid_row": null,
            "grid_template_areas": null,
            "grid_template_columns": null,
            "grid_template_rows": null,
            "height": null,
            "justify_content": null,
            "justify_items": null,
            "left": null,
            "margin": null,
            "max_height": null,
            "max_width": null,
            "min_height": null,
            "min_width": null,
            "object_fit": null,
            "object_position": null,
            "order": null,
            "overflow": null,
            "overflow_x": null,
            "overflow_y": null,
            "padding": null,
            "right": null,
            "top": null,
            "visibility": null,
            "width": null
          }
        },
        "aee750c04376460da003dc8e04314788": {
          "model_module": "@jupyter-widgets/controls",
          "model_name": "ProgressStyleModel",
          "model_module_version": "1.5.0",
          "state": {
            "_model_module": "@jupyter-widgets/controls",
            "_model_module_version": "1.5.0",
            "_model_name": "ProgressStyleModel",
            "_view_count": null,
            "_view_module": "@jupyter-widgets/base",
            "_view_module_version": "1.2.0",
            "_view_name": "StyleView",
            "bar_color": null,
            "description_width": ""
          }
        },
        "cdee40ed8d274a99801905216afeae20": {
          "model_module": "@jupyter-widgets/base",
          "model_name": "LayoutModel",
          "model_module_version": "1.2.0",
          "state": {
            "_model_module": "@jupyter-widgets/base",
            "_model_module_version": "1.2.0",
            "_model_name": "LayoutModel",
            "_view_count": null,
            "_view_module": "@jupyter-widgets/base",
            "_view_module_version": "1.2.0",
            "_view_name": "LayoutView",
            "align_content": null,
            "align_items": null,
            "align_self": null,
            "border": null,
            "bottom": null,
            "display": null,
            "flex": null,
            "flex_flow": null,
            "grid_area": null,
            "grid_auto_columns": null,
            "grid_auto_flow": null,
            "grid_auto_rows": null,
            "grid_column": null,
            "grid_gap": null,
            "grid_row": null,
            "grid_template_areas": null,
            "grid_template_columns": null,
            "grid_template_rows": null,
            "height": null,
            "justify_content": null,
            "justify_items": null,
            "left": null,
            "margin": null,
            "max_height": null,
            "max_width": null,
            "min_height": null,
            "min_width": null,
            "object_fit": null,
            "object_position": null,
            "order": null,
            "overflow": null,
            "overflow_x": null,
            "overflow_y": null,
            "padding": null,
            "right": null,
            "top": null,
            "visibility": null,
            "width": null
          }
        },
        "6c1d6baea5444072bda2fc3b944aaa53": {
          "model_module": "@jupyter-widgets/controls",
          "model_name": "DescriptionStyleModel",
          "model_module_version": "1.5.0",
          "state": {
            "_model_module": "@jupyter-widgets/controls",
            "_model_module_version": "1.5.0",
            "_model_name": "DescriptionStyleModel",
            "_view_count": null,
            "_view_module": "@jupyter-widgets/base",
            "_view_module_version": "1.2.0",
            "_view_name": "StyleView",
            "description_width": ""
          }
        },
        "1e750560577940558f8d23764b5f377b": {
          "model_module": "@jupyter-widgets/controls",
          "model_name": "HBoxModel",
          "model_module_version": "1.5.0",
          "state": {
            "_dom_classes": [],
            "_model_module": "@jupyter-widgets/controls",
            "_model_module_version": "1.5.0",
            "_model_name": "HBoxModel",
            "_view_count": null,
            "_view_module": "@jupyter-widgets/controls",
            "_view_module_version": "1.5.0",
            "_view_name": "HBoxView",
            "box_style": "",
            "children": [
              "IPY_MODEL_7432c38acd5f43779ba8213b09990c36",
              "IPY_MODEL_68c482eab30044719f5642bb2951dd6b",
              "IPY_MODEL_e4745e2264df4f4f9c8070945ad04599"
            ],
            "layout": "IPY_MODEL_b25d80005322479e9bfe43e8daa7f8ff"
          }
        },
        "7432c38acd5f43779ba8213b09990c36": {
          "model_module": "@jupyter-widgets/controls",
          "model_name": "HTMLModel",
          "model_module_version": "1.5.0",
          "state": {
            "_dom_classes": [],
            "_model_module": "@jupyter-widgets/controls",
            "_model_module_version": "1.5.0",
            "_model_name": "HTMLModel",
            "_view_count": null,
            "_view_module": "@jupyter-widgets/controls",
            "_view_module_version": "1.5.0",
            "_view_name": "HTMLView",
            "description": "",
            "description_tooltip": null,
            "layout": "IPY_MODEL_0b16e679b6324f99bb357d0094f48c48",
            "placeholder": "​",
            "style": "IPY_MODEL_0f31d09707294724822a96d5e9084964",
            "value": "Epoch 2: 100%"
          }
        },
        "68c482eab30044719f5642bb2951dd6b": {
          "model_module": "@jupyter-widgets/controls",
          "model_name": "FloatProgressModel",
          "model_module_version": "1.5.0",
          "state": {
            "_dom_classes": [],
            "_model_module": "@jupyter-widgets/controls",
            "_model_module_version": "1.5.0",
            "_model_name": "FloatProgressModel",
            "_view_count": null,
            "_view_module": "@jupyter-widgets/controls",
            "_view_module_version": "1.5.0",
            "_view_name": "ProgressView",
            "bar_style": "success",
            "description": "",
            "description_tooltip": null,
            "layout": "IPY_MODEL_f1c6588c4e99468a8b696172ffb5adde",
            "max": 546,
            "min": 0,
            "orientation": "horizontal",
            "style": "IPY_MODEL_a9e2e8ed8dd64adfbc85be975701e2dc",
            "value": 546
          }
        },
        "e4745e2264df4f4f9c8070945ad04599": {
          "model_module": "@jupyter-widgets/controls",
          "model_name": "HTMLModel",
          "model_module_version": "1.5.0",
          "state": {
            "_dom_classes": [],
            "_model_module": "@jupyter-widgets/controls",
            "_model_module_version": "1.5.0",
            "_model_name": "HTMLModel",
            "_view_count": null,
            "_view_module": "@jupyter-widgets/controls",
            "_view_module_version": "1.5.0",
            "_view_name": "HTMLView",
            "description": "",
            "description_tooltip": null,
            "layout": "IPY_MODEL_db5ca0869f0b414493b304fdbca70af2",
            "placeholder": "​",
            "style": "IPY_MODEL_7afa3bad03154ad9a7a61620f2d85481",
            "value": " 546/546 [03:31&lt;00:00,  2.59it/s, loss=0.0554, v_num=0]"
          }
        },
        "b25d80005322479e9bfe43e8daa7f8ff": {
          "model_module": "@jupyter-widgets/base",
          "model_name": "LayoutModel",
          "model_module_version": "1.2.0",
          "state": {
            "_model_module": "@jupyter-widgets/base",
            "_model_module_version": "1.2.0",
            "_model_name": "LayoutModel",
            "_view_count": null,
            "_view_module": "@jupyter-widgets/base",
            "_view_module_version": "1.2.0",
            "_view_name": "LayoutView",
            "align_content": null,
            "align_items": null,
            "align_self": null,
            "border": null,
            "bottom": null,
            "display": "inline-flex",
            "flex": null,
            "flex_flow": "row wrap",
            "grid_area": null,
            "grid_auto_columns": null,
            "grid_auto_flow": null,
            "grid_auto_rows": null,
            "grid_column": null,
            "grid_gap": null,
            "grid_row": null,
            "grid_template_areas": null,
            "grid_template_columns": null,
            "grid_template_rows": null,
            "height": null,
            "justify_content": null,
            "justify_items": null,
            "left": null,
            "margin": null,
            "max_height": null,
            "max_width": null,
            "min_height": null,
            "min_width": null,
            "object_fit": null,
            "object_position": null,
            "order": null,
            "overflow": null,
            "overflow_x": null,
            "overflow_y": null,
            "padding": null,
            "right": null,
            "top": null,
            "visibility": null,
            "width": "100%"
          }
        },
        "0b16e679b6324f99bb357d0094f48c48": {
          "model_module": "@jupyter-widgets/base",
          "model_name": "LayoutModel",
          "model_module_version": "1.2.0",
          "state": {
            "_model_module": "@jupyter-widgets/base",
            "_model_module_version": "1.2.0",
            "_model_name": "LayoutModel",
            "_view_count": null,
            "_view_module": "@jupyter-widgets/base",
            "_view_module_version": "1.2.0",
            "_view_name": "LayoutView",
            "align_content": null,
            "align_items": null,
            "align_self": null,
            "border": null,
            "bottom": null,
            "display": null,
            "flex": null,
            "flex_flow": null,
            "grid_area": null,
            "grid_auto_columns": null,
            "grid_auto_flow": null,
            "grid_auto_rows": null,
            "grid_column": null,
            "grid_gap": null,
            "grid_row": null,
            "grid_template_areas": null,
            "grid_template_columns": null,
            "grid_template_rows": null,
            "height": null,
            "justify_content": null,
            "justify_items": null,
            "left": null,
            "margin": null,
            "max_height": null,
            "max_width": null,
            "min_height": null,
            "min_width": null,
            "object_fit": null,
            "object_position": null,
            "order": null,
            "overflow": null,
            "overflow_x": null,
            "overflow_y": null,
            "padding": null,
            "right": null,
            "top": null,
            "visibility": null,
            "width": null
          }
        },
        "0f31d09707294724822a96d5e9084964": {
          "model_module": "@jupyter-widgets/controls",
          "model_name": "DescriptionStyleModel",
          "model_module_version": "1.5.0",
          "state": {
            "_model_module": "@jupyter-widgets/controls",
            "_model_module_version": "1.5.0",
            "_model_name": "DescriptionStyleModel",
            "_view_count": null,
            "_view_module": "@jupyter-widgets/base",
            "_view_module_version": "1.2.0",
            "_view_name": "StyleView",
            "description_width": ""
          }
        },
        "f1c6588c4e99468a8b696172ffb5adde": {
          "model_module": "@jupyter-widgets/base",
          "model_name": "LayoutModel",
          "model_module_version": "1.2.0",
          "state": {
            "_model_module": "@jupyter-widgets/base",
            "_model_module_version": "1.2.0",
            "_model_name": "LayoutModel",
            "_view_count": null,
            "_view_module": "@jupyter-widgets/base",
            "_view_module_version": "1.2.0",
            "_view_name": "LayoutView",
            "align_content": null,
            "align_items": null,
            "align_self": null,
            "border": null,
            "bottom": null,
            "display": null,
            "flex": "2",
            "flex_flow": null,
            "grid_area": null,
            "grid_auto_columns": null,
            "grid_auto_flow": null,
            "grid_auto_rows": null,
            "grid_column": null,
            "grid_gap": null,
            "grid_row": null,
            "grid_template_areas": null,
            "grid_template_columns": null,
            "grid_template_rows": null,
            "height": null,
            "justify_content": null,
            "justify_items": null,
            "left": null,
            "margin": null,
            "max_height": null,
            "max_width": null,
            "min_height": null,
            "min_width": null,
            "object_fit": null,
            "object_position": null,
            "order": null,
            "overflow": null,
            "overflow_x": null,
            "overflow_y": null,
            "padding": null,
            "right": null,
            "top": null,
            "visibility": null,
            "width": null
          }
        },
        "a9e2e8ed8dd64adfbc85be975701e2dc": {
          "model_module": "@jupyter-widgets/controls",
          "model_name": "ProgressStyleModel",
          "model_module_version": "1.5.0",
          "state": {
            "_model_module": "@jupyter-widgets/controls",
            "_model_module_version": "1.5.0",
            "_model_name": "ProgressStyleModel",
            "_view_count": null,
            "_view_module": "@jupyter-widgets/base",
            "_view_module_version": "1.2.0",
            "_view_name": "StyleView",
            "bar_color": null,
            "description_width": ""
          }
        },
        "db5ca0869f0b414493b304fdbca70af2": {
          "model_module": "@jupyter-widgets/base",
          "model_name": "LayoutModel",
          "model_module_version": "1.2.0",
          "state": {
            "_model_module": "@jupyter-widgets/base",
            "_model_module_version": "1.2.0",
            "_model_name": "LayoutModel",
            "_view_count": null,
            "_view_module": "@jupyter-widgets/base",
            "_view_module_version": "1.2.0",
            "_view_name": "LayoutView",
            "align_content": null,
            "align_items": null,
            "align_self": null,
            "border": null,
            "bottom": null,
            "display": null,
            "flex": null,
            "flex_flow": null,
            "grid_area": null,
            "grid_auto_columns": null,
            "grid_auto_flow": null,
            "grid_auto_rows": null,
            "grid_column": null,
            "grid_gap": null,
            "grid_row": null,
            "grid_template_areas": null,
            "grid_template_columns": null,
            "grid_template_rows": null,
            "height": null,
            "justify_content": null,
            "justify_items": null,
            "left": null,
            "margin": null,
            "max_height": null,
            "max_width": null,
            "min_height": null,
            "min_width": null,
            "object_fit": null,
            "object_position": null,
            "order": null,
            "overflow": null,
            "overflow_x": null,
            "overflow_y": null,
            "padding": null,
            "right": null,
            "top": null,
            "visibility": null,
            "width": null
          }
        },
        "7afa3bad03154ad9a7a61620f2d85481": {
          "model_module": "@jupyter-widgets/controls",
          "model_name": "DescriptionStyleModel",
          "model_module_version": "1.5.0",
          "state": {
            "_model_module": "@jupyter-widgets/controls",
            "_model_module_version": "1.5.0",
            "_model_name": "DescriptionStyleModel",
            "_view_count": null,
            "_view_module": "@jupyter-widgets/base",
            "_view_module_version": "1.2.0",
            "_view_name": "StyleView",
            "description_width": ""
          }
        },
        "e6bea0381be04ca488f24c79c25c1408": {
          "model_module": "@jupyter-widgets/controls",
          "model_name": "HBoxModel",
          "model_module_version": "1.5.0",
          "state": {
            "_dom_classes": [],
            "_model_module": "@jupyter-widgets/controls",
            "_model_module_version": "1.5.0",
            "_model_name": "HBoxModel",
            "_view_count": null,
            "_view_module": "@jupyter-widgets/controls",
            "_view_module_version": "1.5.0",
            "_view_name": "HBoxView",
            "box_style": "",
            "children": [
              "IPY_MODEL_51290577655c4065b21f0ef11e6be473",
              "IPY_MODEL_9340ea06c9a0428884a317d04767593d",
              "IPY_MODEL_43217922f0df451c8dd12211817d3368"
            ],
            "layout": "IPY_MODEL_7e0c8efacf1842618cfad10c01bf4013"
          }
        },
        "51290577655c4065b21f0ef11e6be473": {
          "model_module": "@jupyter-widgets/controls",
          "model_name": "HTMLModel",
          "model_module_version": "1.5.0",
          "state": {
            "_dom_classes": [],
            "_model_module": "@jupyter-widgets/controls",
            "_model_module_version": "1.5.0",
            "_model_name": "HTMLModel",
            "_view_count": null,
            "_view_module": "@jupyter-widgets/controls",
            "_view_module_version": "1.5.0",
            "_view_name": "HTMLView",
            "description": "",
            "description_tooltip": null,
            "layout": "IPY_MODEL_0588b29f3f7149498165df3c8dccafa3",
            "placeholder": "​",
            "style": "IPY_MODEL_7e8de7f5793644c2845ecf4b2f173c7a",
            "value": "Validation DataLoader 0: 100%"
          }
        },
        "9340ea06c9a0428884a317d04767593d": {
          "model_module": "@jupyter-widgets/controls",
          "model_name": "FloatProgressModel",
          "model_module_version": "1.5.0",
          "state": {
            "_dom_classes": [],
            "_model_module": "@jupyter-widgets/controls",
            "_model_module_version": "1.5.0",
            "_model_name": "FloatProgressModel",
            "_view_count": null,
            "_view_module": "@jupyter-widgets/controls",
            "_view_module_version": "1.5.0",
            "_view_name": "ProgressView",
            "bar_style": "",
            "description": "",
            "description_tooltip": null,
            "layout": "IPY_MODEL_426147cd0ea8498a83c045bccd240061",
            "max": 78,
            "min": 0,
            "orientation": "horizontal",
            "style": "IPY_MODEL_45a7a104858a497eb5e00cc03138f54a",
            "value": 78
          }
        },
        "43217922f0df451c8dd12211817d3368": {
          "model_module": "@jupyter-widgets/controls",
          "model_name": "HTMLModel",
          "model_module_version": "1.5.0",
          "state": {
            "_dom_classes": [],
            "_model_module": "@jupyter-widgets/controls",
            "_model_module_version": "1.5.0",
            "_model_name": "HTMLModel",
            "_view_count": null,
            "_view_module": "@jupyter-widgets/controls",
            "_view_module_version": "1.5.0",
            "_view_name": "HTMLView",
            "description": "",
            "description_tooltip": null,
            "layout": "IPY_MODEL_c04f772abdd744919350b4e31bad4657",
            "placeholder": "​",
            "style": "IPY_MODEL_91a2445c68a84202adbc00758cb025e6",
            "value": " 78/78 [00:51&lt;00:00,  1.51it/s]"
          }
        },
        "7e0c8efacf1842618cfad10c01bf4013": {
          "model_module": "@jupyter-widgets/base",
          "model_name": "LayoutModel",
          "model_module_version": "1.2.0",
          "state": {
            "_model_module": "@jupyter-widgets/base",
            "_model_module_version": "1.2.0",
            "_model_name": "LayoutModel",
            "_view_count": null,
            "_view_module": "@jupyter-widgets/base",
            "_view_module_version": "1.2.0",
            "_view_name": "LayoutView",
            "align_content": null,
            "align_items": null,
            "align_self": null,
            "border": null,
            "bottom": null,
            "display": "inline-flex",
            "flex": null,
            "flex_flow": "row wrap",
            "grid_area": null,
            "grid_auto_columns": null,
            "grid_auto_flow": null,
            "grid_auto_rows": null,
            "grid_column": null,
            "grid_gap": null,
            "grid_row": null,
            "grid_template_areas": null,
            "grid_template_columns": null,
            "grid_template_rows": null,
            "height": null,
            "justify_content": null,
            "justify_items": null,
            "left": null,
            "margin": null,
            "max_height": null,
            "max_width": null,
            "min_height": null,
            "min_width": null,
            "object_fit": null,
            "object_position": null,
            "order": null,
            "overflow": null,
            "overflow_x": null,
            "overflow_y": null,
            "padding": null,
            "right": null,
            "top": null,
            "visibility": "hidden",
            "width": "100%"
          }
        },
        "0588b29f3f7149498165df3c8dccafa3": {
          "model_module": "@jupyter-widgets/base",
          "model_name": "LayoutModel",
          "model_module_version": "1.2.0",
          "state": {
            "_model_module": "@jupyter-widgets/base",
            "_model_module_version": "1.2.0",
            "_model_name": "LayoutModel",
            "_view_count": null,
            "_view_module": "@jupyter-widgets/base",
            "_view_module_version": "1.2.0",
            "_view_name": "LayoutView",
            "align_content": null,
            "align_items": null,
            "align_self": null,
            "border": null,
            "bottom": null,
            "display": null,
            "flex": null,
            "flex_flow": null,
            "grid_area": null,
            "grid_auto_columns": null,
            "grid_auto_flow": null,
            "grid_auto_rows": null,
            "grid_column": null,
            "grid_gap": null,
            "grid_row": null,
            "grid_template_areas": null,
            "grid_template_columns": null,
            "grid_template_rows": null,
            "height": null,
            "justify_content": null,
            "justify_items": null,
            "left": null,
            "margin": null,
            "max_height": null,
            "max_width": null,
            "min_height": null,
            "min_width": null,
            "object_fit": null,
            "object_position": null,
            "order": null,
            "overflow": null,
            "overflow_x": null,
            "overflow_y": null,
            "padding": null,
            "right": null,
            "top": null,
            "visibility": null,
            "width": null
          }
        },
        "7e8de7f5793644c2845ecf4b2f173c7a": {
          "model_module": "@jupyter-widgets/controls",
          "model_name": "DescriptionStyleModel",
          "model_module_version": "1.5.0",
          "state": {
            "_model_module": "@jupyter-widgets/controls",
            "_model_module_version": "1.5.0",
            "_model_name": "DescriptionStyleModel",
            "_view_count": null,
            "_view_module": "@jupyter-widgets/base",
            "_view_module_version": "1.2.0",
            "_view_name": "StyleView",
            "description_width": ""
          }
        },
        "426147cd0ea8498a83c045bccd240061": {
          "model_module": "@jupyter-widgets/base",
          "model_name": "LayoutModel",
          "model_module_version": "1.2.0",
          "state": {
            "_model_module": "@jupyter-widgets/base",
            "_model_module_version": "1.2.0",
            "_model_name": "LayoutModel",
            "_view_count": null,
            "_view_module": "@jupyter-widgets/base",
            "_view_module_version": "1.2.0",
            "_view_name": "LayoutView",
            "align_content": null,
            "align_items": null,
            "align_self": null,
            "border": null,
            "bottom": null,
            "display": null,
            "flex": "2",
            "flex_flow": null,
            "grid_area": null,
            "grid_auto_columns": null,
            "grid_auto_flow": null,
            "grid_auto_rows": null,
            "grid_column": null,
            "grid_gap": null,
            "grid_row": null,
            "grid_template_areas": null,
            "grid_template_columns": null,
            "grid_template_rows": null,
            "height": null,
            "justify_content": null,
            "justify_items": null,
            "left": null,
            "margin": null,
            "max_height": null,
            "max_width": null,
            "min_height": null,
            "min_width": null,
            "object_fit": null,
            "object_position": null,
            "order": null,
            "overflow": null,
            "overflow_x": null,
            "overflow_y": null,
            "padding": null,
            "right": null,
            "top": null,
            "visibility": null,
            "width": null
          }
        },
        "45a7a104858a497eb5e00cc03138f54a": {
          "model_module": "@jupyter-widgets/controls",
          "model_name": "ProgressStyleModel",
          "model_module_version": "1.5.0",
          "state": {
            "_model_module": "@jupyter-widgets/controls",
            "_model_module_version": "1.5.0",
            "_model_name": "ProgressStyleModel",
            "_view_count": null,
            "_view_module": "@jupyter-widgets/base",
            "_view_module_version": "1.2.0",
            "_view_name": "StyleView",
            "bar_color": null,
            "description_width": ""
          }
        },
        "c04f772abdd744919350b4e31bad4657": {
          "model_module": "@jupyter-widgets/base",
          "model_name": "LayoutModel",
          "model_module_version": "1.2.0",
          "state": {
            "_model_module": "@jupyter-widgets/base",
            "_model_module_version": "1.2.0",
            "_model_name": "LayoutModel",
            "_view_count": null,
            "_view_module": "@jupyter-widgets/base",
            "_view_module_version": "1.2.0",
            "_view_name": "LayoutView",
            "align_content": null,
            "align_items": null,
            "align_self": null,
            "border": null,
            "bottom": null,
            "display": null,
            "flex": null,
            "flex_flow": null,
            "grid_area": null,
            "grid_auto_columns": null,
            "grid_auto_flow": null,
            "grid_auto_rows": null,
            "grid_column": null,
            "grid_gap": null,
            "grid_row": null,
            "grid_template_areas": null,
            "grid_template_columns": null,
            "grid_template_rows": null,
            "height": null,
            "justify_content": null,
            "justify_items": null,
            "left": null,
            "margin": null,
            "max_height": null,
            "max_width": null,
            "min_height": null,
            "min_width": null,
            "object_fit": null,
            "object_position": null,
            "order": null,
            "overflow": null,
            "overflow_x": null,
            "overflow_y": null,
            "padding": null,
            "right": null,
            "top": null,
            "visibility": null,
            "width": null
          }
        },
        "91a2445c68a84202adbc00758cb025e6": {
          "model_module": "@jupyter-widgets/controls",
          "model_name": "DescriptionStyleModel",
          "model_module_version": "1.5.0",
          "state": {
            "_model_module": "@jupyter-widgets/controls",
            "_model_module_version": "1.5.0",
            "_model_name": "DescriptionStyleModel",
            "_view_count": null,
            "_view_module": "@jupyter-widgets/base",
            "_view_module_version": "1.2.0",
            "_view_name": "StyleView",
            "description_width": ""
          }
        },
        "28fc8cc43c1d43a09e3c075680acbbcd": {
          "model_module": "@jupyter-widgets/controls",
          "model_name": "HBoxModel",
          "model_module_version": "1.5.0",
          "state": {
            "_dom_classes": [],
            "_model_module": "@jupyter-widgets/controls",
            "_model_module_version": "1.5.0",
            "_model_name": "HBoxModel",
            "_view_count": null,
            "_view_module": "@jupyter-widgets/controls",
            "_view_module_version": "1.5.0",
            "_view_name": "HBoxView",
            "box_style": "",
            "children": [
              "IPY_MODEL_d083deb002ab4fe1b415536bf30fa34b",
              "IPY_MODEL_80dd0485c82e4fcd8b827105e0d0895a",
              "IPY_MODEL_d390f80be6ca46c78799fad3fd8b7c88"
            ],
            "layout": "IPY_MODEL_238de54df5644c748ec2158c05c90dec"
          }
        },
        "d083deb002ab4fe1b415536bf30fa34b": {
          "model_module": "@jupyter-widgets/controls",
          "model_name": "HTMLModel",
          "model_module_version": "1.5.0",
          "state": {
            "_dom_classes": [],
            "_model_module": "@jupyter-widgets/controls",
            "_model_module_version": "1.5.0",
            "_model_name": "HTMLModel",
            "_view_count": null,
            "_view_module": "@jupyter-widgets/controls",
            "_view_module_version": "1.5.0",
            "_view_name": "HTMLView",
            "description": "",
            "description_tooltip": null,
            "layout": "IPY_MODEL_2dd197ccc0264df7b807f39df0d3e355",
            "placeholder": "​",
            "style": "IPY_MODEL_08a20cb8ff244c428dd92868e058ae7b",
            "value": "Validation DataLoader 0: 100%"
          }
        },
        "80dd0485c82e4fcd8b827105e0d0895a": {
          "model_module": "@jupyter-widgets/controls",
          "model_name": "FloatProgressModel",
          "model_module_version": "1.5.0",
          "state": {
            "_dom_classes": [],
            "_model_module": "@jupyter-widgets/controls",
            "_model_module_version": "1.5.0",
            "_model_name": "FloatProgressModel",
            "_view_count": null,
            "_view_module": "@jupyter-widgets/controls",
            "_view_module_version": "1.5.0",
            "_view_name": "ProgressView",
            "bar_style": "",
            "description": "",
            "description_tooltip": null,
            "layout": "IPY_MODEL_f193d577102c4b0fad431a7bccc8198e",
            "max": 78,
            "min": 0,
            "orientation": "horizontal",
            "style": "IPY_MODEL_15df92d2192c499c9c13fe3393f60882",
            "value": 78
          }
        },
        "d390f80be6ca46c78799fad3fd8b7c88": {
          "model_module": "@jupyter-widgets/controls",
          "model_name": "HTMLModel",
          "model_module_version": "1.5.0",
          "state": {
            "_dom_classes": [],
            "_model_module": "@jupyter-widgets/controls",
            "_model_module_version": "1.5.0",
            "_model_name": "HTMLModel",
            "_view_count": null,
            "_view_module": "@jupyter-widgets/controls",
            "_view_module_version": "1.5.0",
            "_view_name": "HTMLView",
            "description": "",
            "description_tooltip": null,
            "layout": "IPY_MODEL_6aae6acdd1904ddcae7acc5a6d547664",
            "placeholder": "​",
            "style": "IPY_MODEL_937ed8013097475bbd5f5adf427f539a",
            "value": " 78/78 [00:50&lt;00:00,  1.55it/s]"
          }
        },
        "238de54df5644c748ec2158c05c90dec": {
          "model_module": "@jupyter-widgets/base",
          "model_name": "LayoutModel",
          "model_module_version": "1.2.0",
          "state": {
            "_model_module": "@jupyter-widgets/base",
            "_model_module_version": "1.2.0",
            "_model_name": "LayoutModel",
            "_view_count": null,
            "_view_module": "@jupyter-widgets/base",
            "_view_module_version": "1.2.0",
            "_view_name": "LayoutView",
            "align_content": null,
            "align_items": null,
            "align_self": null,
            "border": null,
            "bottom": null,
            "display": "inline-flex",
            "flex": null,
            "flex_flow": "row wrap",
            "grid_area": null,
            "grid_auto_columns": null,
            "grid_auto_flow": null,
            "grid_auto_rows": null,
            "grid_column": null,
            "grid_gap": null,
            "grid_row": null,
            "grid_template_areas": null,
            "grid_template_columns": null,
            "grid_template_rows": null,
            "height": null,
            "justify_content": null,
            "justify_items": null,
            "left": null,
            "margin": null,
            "max_height": null,
            "max_width": null,
            "min_height": null,
            "min_width": null,
            "object_fit": null,
            "object_position": null,
            "order": null,
            "overflow": null,
            "overflow_x": null,
            "overflow_y": null,
            "padding": null,
            "right": null,
            "top": null,
            "visibility": "hidden",
            "width": "100%"
          }
        },
        "2dd197ccc0264df7b807f39df0d3e355": {
          "model_module": "@jupyter-widgets/base",
          "model_name": "LayoutModel",
          "model_module_version": "1.2.0",
          "state": {
            "_model_module": "@jupyter-widgets/base",
            "_model_module_version": "1.2.0",
            "_model_name": "LayoutModel",
            "_view_count": null,
            "_view_module": "@jupyter-widgets/base",
            "_view_module_version": "1.2.0",
            "_view_name": "LayoutView",
            "align_content": null,
            "align_items": null,
            "align_self": null,
            "border": null,
            "bottom": null,
            "display": null,
            "flex": null,
            "flex_flow": null,
            "grid_area": null,
            "grid_auto_columns": null,
            "grid_auto_flow": null,
            "grid_auto_rows": null,
            "grid_column": null,
            "grid_gap": null,
            "grid_row": null,
            "grid_template_areas": null,
            "grid_template_columns": null,
            "grid_template_rows": null,
            "height": null,
            "justify_content": null,
            "justify_items": null,
            "left": null,
            "margin": null,
            "max_height": null,
            "max_width": null,
            "min_height": null,
            "min_width": null,
            "object_fit": null,
            "object_position": null,
            "order": null,
            "overflow": null,
            "overflow_x": null,
            "overflow_y": null,
            "padding": null,
            "right": null,
            "top": null,
            "visibility": null,
            "width": null
          }
        },
        "08a20cb8ff244c428dd92868e058ae7b": {
          "model_module": "@jupyter-widgets/controls",
          "model_name": "DescriptionStyleModel",
          "model_module_version": "1.5.0",
          "state": {
            "_model_module": "@jupyter-widgets/controls",
            "_model_module_version": "1.5.0",
            "_model_name": "DescriptionStyleModel",
            "_view_count": null,
            "_view_module": "@jupyter-widgets/base",
            "_view_module_version": "1.2.0",
            "_view_name": "StyleView",
            "description_width": ""
          }
        },
        "f193d577102c4b0fad431a7bccc8198e": {
          "model_module": "@jupyter-widgets/base",
          "model_name": "LayoutModel",
          "model_module_version": "1.2.0",
          "state": {
            "_model_module": "@jupyter-widgets/base",
            "_model_module_version": "1.2.0",
            "_model_name": "LayoutModel",
            "_view_count": null,
            "_view_module": "@jupyter-widgets/base",
            "_view_module_version": "1.2.0",
            "_view_name": "LayoutView",
            "align_content": null,
            "align_items": null,
            "align_self": null,
            "border": null,
            "bottom": null,
            "display": null,
            "flex": "2",
            "flex_flow": null,
            "grid_area": null,
            "grid_auto_columns": null,
            "grid_auto_flow": null,
            "grid_auto_rows": null,
            "grid_column": null,
            "grid_gap": null,
            "grid_row": null,
            "grid_template_areas": null,
            "grid_template_columns": null,
            "grid_template_rows": null,
            "height": null,
            "justify_content": null,
            "justify_items": null,
            "left": null,
            "margin": null,
            "max_height": null,
            "max_width": null,
            "min_height": null,
            "min_width": null,
            "object_fit": null,
            "object_position": null,
            "order": null,
            "overflow": null,
            "overflow_x": null,
            "overflow_y": null,
            "padding": null,
            "right": null,
            "top": null,
            "visibility": null,
            "width": null
          }
        },
        "15df92d2192c499c9c13fe3393f60882": {
          "model_module": "@jupyter-widgets/controls",
          "model_name": "ProgressStyleModel",
          "model_module_version": "1.5.0",
          "state": {
            "_model_module": "@jupyter-widgets/controls",
            "_model_module_version": "1.5.0",
            "_model_name": "ProgressStyleModel",
            "_view_count": null,
            "_view_module": "@jupyter-widgets/base",
            "_view_module_version": "1.2.0",
            "_view_name": "StyleView",
            "bar_color": null,
            "description_width": ""
          }
        },
        "6aae6acdd1904ddcae7acc5a6d547664": {
          "model_module": "@jupyter-widgets/base",
          "model_name": "LayoutModel",
          "model_module_version": "1.2.0",
          "state": {
            "_model_module": "@jupyter-widgets/base",
            "_model_module_version": "1.2.0",
            "_model_name": "LayoutModel",
            "_view_count": null,
            "_view_module": "@jupyter-widgets/base",
            "_view_module_version": "1.2.0",
            "_view_name": "LayoutView",
            "align_content": null,
            "align_items": null,
            "align_self": null,
            "border": null,
            "bottom": null,
            "display": null,
            "flex": null,
            "flex_flow": null,
            "grid_area": null,
            "grid_auto_columns": null,
            "grid_auto_flow": null,
            "grid_auto_rows": null,
            "grid_column": null,
            "grid_gap": null,
            "grid_row": null,
            "grid_template_areas": null,
            "grid_template_columns": null,
            "grid_template_rows": null,
            "height": null,
            "justify_content": null,
            "justify_items": null,
            "left": null,
            "margin": null,
            "max_height": null,
            "max_width": null,
            "min_height": null,
            "min_width": null,
            "object_fit": null,
            "object_position": null,
            "order": null,
            "overflow": null,
            "overflow_x": null,
            "overflow_y": null,
            "padding": null,
            "right": null,
            "top": null,
            "visibility": null,
            "width": null
          }
        },
        "937ed8013097475bbd5f5adf427f539a": {
          "model_module": "@jupyter-widgets/controls",
          "model_name": "DescriptionStyleModel",
          "model_module_version": "1.5.0",
          "state": {
            "_model_module": "@jupyter-widgets/controls",
            "_model_module_version": "1.5.0",
            "_model_name": "DescriptionStyleModel",
            "_view_count": null,
            "_view_module": "@jupyter-widgets/base",
            "_view_module_version": "1.2.0",
            "_view_name": "StyleView",
            "description_width": ""
          }
        },
        "66bfebcde9ba498fbfd6d69f6bd53488": {
          "model_module": "@jupyter-widgets/controls",
          "model_name": "HBoxModel",
          "model_module_version": "1.5.0",
          "state": {
            "_dom_classes": [],
            "_model_module": "@jupyter-widgets/controls",
            "_model_module_version": "1.5.0",
            "_model_name": "HBoxModel",
            "_view_count": null,
            "_view_module": "@jupyter-widgets/controls",
            "_view_module_version": "1.5.0",
            "_view_name": "HBoxView",
            "box_style": "",
            "children": [
              "IPY_MODEL_439e1ed7ef224cf5af317dd5d5780f85",
              "IPY_MODEL_d9d5ad220c5e44cfabb4f42ec9abe4e5",
              "IPY_MODEL_61328de663d44ea884664b4aa47b2514"
            ],
            "layout": "IPY_MODEL_1bcb1479c34a4a47bdb65c42c8d9c8d3"
          }
        },
        "439e1ed7ef224cf5af317dd5d5780f85": {
          "model_module": "@jupyter-widgets/controls",
          "model_name": "HTMLModel",
          "model_module_version": "1.5.0",
          "state": {
            "_dom_classes": [],
            "_model_module": "@jupyter-widgets/controls",
            "_model_module_version": "1.5.0",
            "_model_name": "HTMLModel",
            "_view_count": null,
            "_view_module": "@jupyter-widgets/controls",
            "_view_module_version": "1.5.0",
            "_view_name": "HTMLView",
            "description": "",
            "description_tooltip": null,
            "layout": "IPY_MODEL_a55d7ca623074209b98b390e9858dd7d",
            "placeholder": "​",
            "style": "IPY_MODEL_f14c600bbd394ce4b22ed08ed209cac5",
            "value": "Validation DataLoader 0: 100%"
          }
        },
        "d9d5ad220c5e44cfabb4f42ec9abe4e5": {
          "model_module": "@jupyter-widgets/controls",
          "model_name": "FloatProgressModel",
          "model_module_version": "1.5.0",
          "state": {
            "_dom_classes": [],
            "_model_module": "@jupyter-widgets/controls",
            "_model_module_version": "1.5.0",
            "_model_name": "FloatProgressModel",
            "_view_count": null,
            "_view_module": "@jupyter-widgets/controls",
            "_view_module_version": "1.5.0",
            "_view_name": "ProgressView",
            "bar_style": "",
            "description": "",
            "description_tooltip": null,
            "layout": "IPY_MODEL_cd112060063c4671a0fc536e24030bd3",
            "max": 78,
            "min": 0,
            "orientation": "horizontal",
            "style": "IPY_MODEL_6a6d4a2c23254052abdb6674c4a73610",
            "value": 78
          }
        },
        "61328de663d44ea884664b4aa47b2514": {
          "model_module": "@jupyter-widgets/controls",
          "model_name": "HTMLModel",
          "model_module_version": "1.5.0",
          "state": {
            "_dom_classes": [],
            "_model_module": "@jupyter-widgets/controls",
            "_model_module_version": "1.5.0",
            "_model_name": "HTMLModel",
            "_view_count": null,
            "_view_module": "@jupyter-widgets/controls",
            "_view_module_version": "1.5.0",
            "_view_name": "HTMLView",
            "description": "",
            "description_tooltip": null,
            "layout": "IPY_MODEL_8fb5ce6b8910446cb4d3f3f98338e5e3",
            "placeholder": "​",
            "style": "IPY_MODEL_3d290b163be74295ad9e8895af776177",
            "value": " 78/78 [00:52&lt;00:00,  1.49it/s]"
          }
        },
        "1bcb1479c34a4a47bdb65c42c8d9c8d3": {
          "model_module": "@jupyter-widgets/base",
          "model_name": "LayoutModel",
          "model_module_version": "1.2.0",
          "state": {
            "_model_module": "@jupyter-widgets/base",
            "_model_module_version": "1.2.0",
            "_model_name": "LayoutModel",
            "_view_count": null,
            "_view_module": "@jupyter-widgets/base",
            "_view_module_version": "1.2.0",
            "_view_name": "LayoutView",
            "align_content": null,
            "align_items": null,
            "align_self": null,
            "border": null,
            "bottom": null,
            "display": "inline-flex",
            "flex": null,
            "flex_flow": "row wrap",
            "grid_area": null,
            "grid_auto_columns": null,
            "grid_auto_flow": null,
            "grid_auto_rows": null,
            "grid_column": null,
            "grid_gap": null,
            "grid_row": null,
            "grid_template_areas": null,
            "grid_template_columns": null,
            "grid_template_rows": null,
            "height": null,
            "justify_content": null,
            "justify_items": null,
            "left": null,
            "margin": null,
            "max_height": null,
            "max_width": null,
            "min_height": null,
            "min_width": null,
            "object_fit": null,
            "object_position": null,
            "order": null,
            "overflow": null,
            "overflow_x": null,
            "overflow_y": null,
            "padding": null,
            "right": null,
            "top": null,
            "visibility": "hidden",
            "width": "100%"
          }
        },
        "a55d7ca623074209b98b390e9858dd7d": {
          "model_module": "@jupyter-widgets/base",
          "model_name": "LayoutModel",
          "model_module_version": "1.2.0",
          "state": {
            "_model_module": "@jupyter-widgets/base",
            "_model_module_version": "1.2.0",
            "_model_name": "LayoutModel",
            "_view_count": null,
            "_view_module": "@jupyter-widgets/base",
            "_view_module_version": "1.2.0",
            "_view_name": "LayoutView",
            "align_content": null,
            "align_items": null,
            "align_self": null,
            "border": null,
            "bottom": null,
            "display": null,
            "flex": null,
            "flex_flow": null,
            "grid_area": null,
            "grid_auto_columns": null,
            "grid_auto_flow": null,
            "grid_auto_rows": null,
            "grid_column": null,
            "grid_gap": null,
            "grid_row": null,
            "grid_template_areas": null,
            "grid_template_columns": null,
            "grid_template_rows": null,
            "height": null,
            "justify_content": null,
            "justify_items": null,
            "left": null,
            "margin": null,
            "max_height": null,
            "max_width": null,
            "min_height": null,
            "min_width": null,
            "object_fit": null,
            "object_position": null,
            "order": null,
            "overflow": null,
            "overflow_x": null,
            "overflow_y": null,
            "padding": null,
            "right": null,
            "top": null,
            "visibility": null,
            "width": null
          }
        },
        "f14c600bbd394ce4b22ed08ed209cac5": {
          "model_module": "@jupyter-widgets/controls",
          "model_name": "DescriptionStyleModel",
          "model_module_version": "1.5.0",
          "state": {
            "_model_module": "@jupyter-widgets/controls",
            "_model_module_version": "1.5.0",
            "_model_name": "DescriptionStyleModel",
            "_view_count": null,
            "_view_module": "@jupyter-widgets/base",
            "_view_module_version": "1.2.0",
            "_view_name": "StyleView",
            "description_width": ""
          }
        },
        "cd112060063c4671a0fc536e24030bd3": {
          "model_module": "@jupyter-widgets/base",
          "model_name": "LayoutModel",
          "model_module_version": "1.2.0",
          "state": {
            "_model_module": "@jupyter-widgets/base",
            "_model_module_version": "1.2.0",
            "_model_name": "LayoutModel",
            "_view_count": null,
            "_view_module": "@jupyter-widgets/base",
            "_view_module_version": "1.2.0",
            "_view_name": "LayoutView",
            "align_content": null,
            "align_items": null,
            "align_self": null,
            "border": null,
            "bottom": null,
            "display": null,
            "flex": "2",
            "flex_flow": null,
            "grid_area": null,
            "grid_auto_columns": null,
            "grid_auto_flow": null,
            "grid_auto_rows": null,
            "grid_column": null,
            "grid_gap": null,
            "grid_row": null,
            "grid_template_areas": null,
            "grid_template_columns": null,
            "grid_template_rows": null,
            "height": null,
            "justify_content": null,
            "justify_items": null,
            "left": null,
            "margin": null,
            "max_height": null,
            "max_width": null,
            "min_height": null,
            "min_width": null,
            "object_fit": null,
            "object_position": null,
            "order": null,
            "overflow": null,
            "overflow_x": null,
            "overflow_y": null,
            "padding": null,
            "right": null,
            "top": null,
            "visibility": null,
            "width": null
          }
        },
        "6a6d4a2c23254052abdb6674c4a73610": {
          "model_module": "@jupyter-widgets/controls",
          "model_name": "ProgressStyleModel",
          "model_module_version": "1.5.0",
          "state": {
            "_model_module": "@jupyter-widgets/controls",
            "_model_module_version": "1.5.0",
            "_model_name": "ProgressStyleModel",
            "_view_count": null,
            "_view_module": "@jupyter-widgets/base",
            "_view_module_version": "1.2.0",
            "_view_name": "StyleView",
            "bar_color": null,
            "description_width": ""
          }
        },
        "8fb5ce6b8910446cb4d3f3f98338e5e3": {
          "model_module": "@jupyter-widgets/base",
          "model_name": "LayoutModel",
          "model_module_version": "1.2.0",
          "state": {
            "_model_module": "@jupyter-widgets/base",
            "_model_module_version": "1.2.0",
            "_model_name": "LayoutModel",
            "_view_count": null,
            "_view_module": "@jupyter-widgets/base",
            "_view_module_version": "1.2.0",
            "_view_name": "LayoutView",
            "align_content": null,
            "align_items": null,
            "align_self": null,
            "border": null,
            "bottom": null,
            "display": null,
            "flex": null,
            "flex_flow": null,
            "grid_area": null,
            "grid_auto_columns": null,
            "grid_auto_flow": null,
            "grid_auto_rows": null,
            "grid_column": null,
            "grid_gap": null,
            "grid_row": null,
            "grid_template_areas": null,
            "grid_template_columns": null,
            "grid_template_rows": null,
            "height": null,
            "justify_content": null,
            "justify_items": null,
            "left": null,
            "margin": null,
            "max_height": null,
            "max_width": null,
            "min_height": null,
            "min_width": null,
            "object_fit": null,
            "object_position": null,
            "order": null,
            "overflow": null,
            "overflow_x": null,
            "overflow_y": null,
            "padding": null,
            "right": null,
            "top": null,
            "visibility": null,
            "width": null
          }
        },
        "3d290b163be74295ad9e8895af776177": {
          "model_module": "@jupyter-widgets/controls",
          "model_name": "DescriptionStyleModel",
          "model_module_version": "1.5.0",
          "state": {
            "_model_module": "@jupyter-widgets/controls",
            "_model_module_version": "1.5.0",
            "_model_name": "DescriptionStyleModel",
            "_view_count": null,
            "_view_module": "@jupyter-widgets/base",
            "_view_module_version": "1.2.0",
            "_view_name": "StyleView",
            "description_width": ""
          }
        },
        "3227690574de4101b9a0c149a4369869": {
          "model_module": "@jupyter-widgets/controls",
          "model_name": "HBoxModel",
          "model_module_version": "1.5.0",
          "state": {
            "_dom_classes": [],
            "_model_module": "@jupyter-widgets/controls",
            "_model_module_version": "1.5.0",
            "_model_name": "HBoxModel",
            "_view_count": null,
            "_view_module": "@jupyter-widgets/controls",
            "_view_module_version": "1.5.0",
            "_view_name": "HBoxView",
            "box_style": "",
            "children": [
              "IPY_MODEL_62914df83e884f319a843023b5c14761",
              "IPY_MODEL_63326bcd8cf54d26be7db269ab7f7fb1",
              "IPY_MODEL_442214e8c0b64dac9d685271fe107db4"
            ],
            "layout": "IPY_MODEL_216f15ed56724239b5674e04e134319b"
          }
        },
        "62914df83e884f319a843023b5c14761": {
          "model_module": "@jupyter-widgets/controls",
          "model_name": "HTMLModel",
          "model_module_version": "1.5.0",
          "state": {
            "_dom_classes": [],
            "_model_module": "@jupyter-widgets/controls",
            "_model_module_version": "1.5.0",
            "_model_name": "HTMLModel",
            "_view_count": null,
            "_view_module": "@jupyter-widgets/controls",
            "_view_module_version": "1.5.0",
            "_view_name": "HTMLView",
            "description": "",
            "description_tooltip": null,
            "layout": "IPY_MODEL_0814e222cfd541d2b93bc8ba80c8eef6",
            "placeholder": "​",
            "style": "IPY_MODEL_07e3245615f147a0b392e0e7048c558b",
            "value": "Predicting DataLoader 0: 100%"
          }
        },
        "63326bcd8cf54d26be7db269ab7f7fb1": {
          "model_module": "@jupyter-widgets/controls",
          "model_name": "FloatProgressModel",
          "model_module_version": "1.5.0",
          "state": {
            "_dom_classes": [],
            "_model_module": "@jupyter-widgets/controls",
            "_model_module_version": "1.5.0",
            "_model_name": "FloatProgressModel",
            "_view_count": null,
            "_view_module": "@jupyter-widgets/controls",
            "_view_module_version": "1.5.0",
            "_view_name": "ProgressView",
            "bar_style": "success",
            "description": "",
            "description_tooltip": null,
            "layout": "IPY_MODEL_ae1fe1a677254c1ca0924b33bc709b8d",
            "max": 300,
            "min": 0,
            "orientation": "horizontal",
            "style": "IPY_MODEL_6444f19c29594d4595ac37f9b14a33d5",
            "value": 300
          }
        },
        "442214e8c0b64dac9d685271fe107db4": {
          "model_module": "@jupyter-widgets/controls",
          "model_name": "HTMLModel",
          "model_module_version": "1.5.0",
          "state": {
            "_dom_classes": [],
            "_model_module": "@jupyter-widgets/controls",
            "_model_module_version": "1.5.0",
            "_model_name": "HTMLModel",
            "_view_count": null,
            "_view_module": "@jupyter-widgets/controls",
            "_view_module_version": "1.5.0",
            "_view_name": "HTMLView",
            "description": "",
            "description_tooltip": null,
            "layout": "IPY_MODEL_c64be5f626964625b55d21ffa20e5dfa",
            "placeholder": "​",
            "style": "IPY_MODEL_cc16e87851ad4853afefce0fb008068d",
            "value": " 300/300 [00:14&lt;00:00, 21.31it/s]"
          }
        },
        "216f15ed56724239b5674e04e134319b": {
          "model_module": "@jupyter-widgets/base",
          "model_name": "LayoutModel",
          "model_module_version": "1.2.0",
          "state": {
            "_model_module": "@jupyter-widgets/base",
            "_model_module_version": "1.2.0",
            "_model_name": "LayoutModel",
            "_view_count": null,
            "_view_module": "@jupyter-widgets/base",
            "_view_module_version": "1.2.0",
            "_view_name": "LayoutView",
            "align_content": null,
            "align_items": null,
            "align_self": null,
            "border": null,
            "bottom": null,
            "display": "inline-flex",
            "flex": null,
            "flex_flow": "row wrap",
            "grid_area": null,
            "grid_auto_columns": null,
            "grid_auto_flow": null,
            "grid_auto_rows": null,
            "grid_column": null,
            "grid_gap": null,
            "grid_row": null,
            "grid_template_areas": null,
            "grid_template_columns": null,
            "grid_template_rows": null,
            "height": null,
            "justify_content": null,
            "justify_items": null,
            "left": null,
            "margin": null,
            "max_height": null,
            "max_width": null,
            "min_height": null,
            "min_width": null,
            "object_fit": null,
            "object_position": null,
            "order": null,
            "overflow": null,
            "overflow_x": null,
            "overflow_y": null,
            "padding": null,
            "right": null,
            "top": null,
            "visibility": null,
            "width": "100%"
          }
        },
        "0814e222cfd541d2b93bc8ba80c8eef6": {
          "model_module": "@jupyter-widgets/base",
          "model_name": "LayoutModel",
          "model_module_version": "1.2.0",
          "state": {
            "_model_module": "@jupyter-widgets/base",
            "_model_module_version": "1.2.0",
            "_model_name": "LayoutModel",
            "_view_count": null,
            "_view_module": "@jupyter-widgets/base",
            "_view_module_version": "1.2.0",
            "_view_name": "LayoutView",
            "align_content": null,
            "align_items": null,
            "align_self": null,
            "border": null,
            "bottom": null,
            "display": null,
            "flex": null,
            "flex_flow": null,
            "grid_area": null,
            "grid_auto_columns": null,
            "grid_auto_flow": null,
            "grid_auto_rows": null,
            "grid_column": null,
            "grid_gap": null,
            "grid_row": null,
            "grid_template_areas": null,
            "grid_template_columns": null,
            "grid_template_rows": null,
            "height": null,
            "justify_content": null,
            "justify_items": null,
            "left": null,
            "margin": null,
            "max_height": null,
            "max_width": null,
            "min_height": null,
            "min_width": null,
            "object_fit": null,
            "object_position": null,
            "order": null,
            "overflow": null,
            "overflow_x": null,
            "overflow_y": null,
            "padding": null,
            "right": null,
            "top": null,
            "visibility": null,
            "width": null
          }
        },
        "07e3245615f147a0b392e0e7048c558b": {
          "model_module": "@jupyter-widgets/controls",
          "model_name": "DescriptionStyleModel",
          "model_module_version": "1.5.0",
          "state": {
            "_model_module": "@jupyter-widgets/controls",
            "_model_module_version": "1.5.0",
            "_model_name": "DescriptionStyleModel",
            "_view_count": null,
            "_view_module": "@jupyter-widgets/base",
            "_view_module_version": "1.2.0",
            "_view_name": "StyleView",
            "description_width": ""
          }
        },
        "ae1fe1a677254c1ca0924b33bc709b8d": {
          "model_module": "@jupyter-widgets/base",
          "model_name": "LayoutModel",
          "model_module_version": "1.2.0",
          "state": {
            "_model_module": "@jupyter-widgets/base",
            "_model_module_version": "1.2.0",
            "_model_name": "LayoutModel",
            "_view_count": null,
            "_view_module": "@jupyter-widgets/base",
            "_view_module_version": "1.2.0",
            "_view_name": "LayoutView",
            "align_content": null,
            "align_items": null,
            "align_self": null,
            "border": null,
            "bottom": null,
            "display": null,
            "flex": "2",
            "flex_flow": null,
            "grid_area": null,
            "grid_auto_columns": null,
            "grid_auto_flow": null,
            "grid_auto_rows": null,
            "grid_column": null,
            "grid_gap": null,
            "grid_row": null,
            "grid_template_areas": null,
            "grid_template_columns": null,
            "grid_template_rows": null,
            "height": null,
            "justify_content": null,
            "justify_items": null,
            "left": null,
            "margin": null,
            "max_height": null,
            "max_width": null,
            "min_height": null,
            "min_width": null,
            "object_fit": null,
            "object_position": null,
            "order": null,
            "overflow": null,
            "overflow_x": null,
            "overflow_y": null,
            "padding": null,
            "right": null,
            "top": null,
            "visibility": null,
            "width": null
          }
        },
        "6444f19c29594d4595ac37f9b14a33d5": {
          "model_module": "@jupyter-widgets/controls",
          "model_name": "ProgressStyleModel",
          "model_module_version": "1.5.0",
          "state": {
            "_model_module": "@jupyter-widgets/controls",
            "_model_module_version": "1.5.0",
            "_model_name": "ProgressStyleModel",
            "_view_count": null,
            "_view_module": "@jupyter-widgets/base",
            "_view_module_version": "1.2.0",
            "_view_name": "StyleView",
            "bar_color": null,
            "description_width": ""
          }
        },
        "c64be5f626964625b55d21ffa20e5dfa": {
          "model_module": "@jupyter-widgets/base",
          "model_name": "LayoutModel",
          "model_module_version": "1.2.0",
          "state": {
            "_model_module": "@jupyter-widgets/base",
            "_model_module_version": "1.2.0",
            "_model_name": "LayoutModel",
            "_view_count": null,
            "_view_module": "@jupyter-widgets/base",
            "_view_module_version": "1.2.0",
            "_view_name": "LayoutView",
            "align_content": null,
            "align_items": null,
            "align_self": null,
            "border": null,
            "bottom": null,
            "display": null,
            "flex": null,
            "flex_flow": null,
            "grid_area": null,
            "grid_auto_columns": null,
            "grid_auto_flow": null,
            "grid_auto_rows": null,
            "grid_column": null,
            "grid_gap": null,
            "grid_row": null,
            "grid_template_areas": null,
            "grid_template_columns": null,
            "grid_template_rows": null,
            "height": null,
            "justify_content": null,
            "justify_items": null,
            "left": null,
            "margin": null,
            "max_height": null,
            "max_width": null,
            "min_height": null,
            "min_width": null,
            "object_fit": null,
            "object_position": null,
            "order": null,
            "overflow": null,
            "overflow_x": null,
            "overflow_y": null,
            "padding": null,
            "right": null,
            "top": null,
            "visibility": null,
            "width": null
          }
        },
        "cc16e87851ad4853afefce0fb008068d": {
          "model_module": "@jupyter-widgets/controls",
          "model_name": "DescriptionStyleModel",
          "model_module_version": "1.5.0",
          "state": {
            "_model_module": "@jupyter-widgets/controls",
            "_model_module_version": "1.5.0",
            "_model_name": "DescriptionStyleModel",
            "_view_count": null,
            "_view_module": "@jupyter-widgets/base",
            "_view_module_version": "1.2.0",
            "_view_name": "StyleView",
            "description_width": ""
          }
        },
        "4b36230dd8064e088c822643fc8ca8d0": {
          "model_module": "@jupyter-widgets/controls",
          "model_name": "HBoxModel",
          "model_module_version": "1.5.0",
          "state": {
            "_dom_classes": [],
            "_model_module": "@jupyter-widgets/controls",
            "_model_module_version": "1.5.0",
            "_model_name": "HBoxModel",
            "_view_count": null,
            "_view_module": "@jupyter-widgets/controls",
            "_view_module_version": "1.5.0",
            "_view_name": "HBoxView",
            "box_style": "",
            "children": [
              "IPY_MODEL_f175369874734fe1bc3c529543a26fec",
              "IPY_MODEL_6a74eb12236d4dc98d57565e3e67aca1",
              "IPY_MODEL_1b69b0a5477b4eb7a8e159155888b324"
            ],
            "layout": "IPY_MODEL_bbe8463b7fa248f1a304ba2dd3614b16"
          }
        },
        "f175369874734fe1bc3c529543a26fec": {
          "model_module": "@jupyter-widgets/controls",
          "model_name": "HTMLModel",
          "model_module_version": "1.5.0",
          "state": {
            "_dom_classes": [],
            "_model_module": "@jupyter-widgets/controls",
            "_model_module_version": "1.5.0",
            "_model_name": "HTMLModel",
            "_view_count": null,
            "_view_module": "@jupyter-widgets/controls",
            "_view_module_version": "1.5.0",
            "_view_name": "HTMLView",
            "description": "",
            "description_tooltip": null,
            "layout": "IPY_MODEL_19271c6d5ca040c89fc323973ce517aa",
            "placeholder": "​",
            "style": "IPY_MODEL_d8af521ef41a41d3b145d7c830cb935e",
            "value": "Predicting DataLoader 0: 100%"
          }
        },
        "6a74eb12236d4dc98d57565e3e67aca1": {
          "model_module": "@jupyter-widgets/controls",
          "model_name": "FloatProgressModel",
          "model_module_version": "1.5.0",
          "state": {
            "_dom_classes": [],
            "_model_module": "@jupyter-widgets/controls",
            "_model_module_version": "1.5.0",
            "_model_name": "FloatProgressModel",
            "_view_count": null,
            "_view_module": "@jupyter-widgets/controls",
            "_view_module_version": "1.5.0",
            "_view_name": "ProgressView",
            "bar_style": "success",
            "description": "",
            "description_tooltip": null,
            "layout": "IPY_MODEL_8694e17119014702bed5bb2da0cd6227",
            "max": 1,
            "min": 0,
            "orientation": "horizontal",
            "style": "IPY_MODEL_77d84569241b47f0b1a7601dcfec2d57",
            "value": 1
          }
        },
        "1b69b0a5477b4eb7a8e159155888b324": {
          "model_module": "@jupyter-widgets/controls",
          "model_name": "HTMLModel",
          "model_module_version": "1.5.0",
          "state": {
            "_dom_classes": [],
            "_model_module": "@jupyter-widgets/controls",
            "_model_module_version": "1.5.0",
            "_model_name": "HTMLModel",
            "_view_count": null,
            "_view_module": "@jupyter-widgets/controls",
            "_view_module_version": "1.5.0",
            "_view_name": "HTMLView",
            "description": "",
            "description_tooltip": null,
            "layout": "IPY_MODEL_c6d98cd98f2b480fb3bf5870d7798489",
            "placeholder": "​",
            "style": "IPY_MODEL_82e580da083240b0838b54b2d891c021",
            "value": " 1/1 [00:00&lt;00:00, 67.83it/s]"
          }
        },
        "bbe8463b7fa248f1a304ba2dd3614b16": {
          "model_module": "@jupyter-widgets/base",
          "model_name": "LayoutModel",
          "model_module_version": "1.2.0",
          "state": {
            "_model_module": "@jupyter-widgets/base",
            "_model_module_version": "1.2.0",
            "_model_name": "LayoutModel",
            "_view_count": null,
            "_view_module": "@jupyter-widgets/base",
            "_view_module_version": "1.2.0",
            "_view_name": "LayoutView",
            "align_content": null,
            "align_items": null,
            "align_self": null,
            "border": null,
            "bottom": null,
            "display": "inline-flex",
            "flex": null,
            "flex_flow": "row wrap",
            "grid_area": null,
            "grid_auto_columns": null,
            "grid_auto_flow": null,
            "grid_auto_rows": null,
            "grid_column": null,
            "grid_gap": null,
            "grid_row": null,
            "grid_template_areas": null,
            "grid_template_columns": null,
            "grid_template_rows": null,
            "height": null,
            "justify_content": null,
            "justify_items": null,
            "left": null,
            "margin": null,
            "max_height": null,
            "max_width": null,
            "min_height": null,
            "min_width": null,
            "object_fit": null,
            "object_position": null,
            "order": null,
            "overflow": null,
            "overflow_x": null,
            "overflow_y": null,
            "padding": null,
            "right": null,
            "top": null,
            "visibility": null,
            "width": "100%"
          }
        },
        "19271c6d5ca040c89fc323973ce517aa": {
          "model_module": "@jupyter-widgets/base",
          "model_name": "LayoutModel",
          "model_module_version": "1.2.0",
          "state": {
            "_model_module": "@jupyter-widgets/base",
            "_model_module_version": "1.2.0",
            "_model_name": "LayoutModel",
            "_view_count": null,
            "_view_module": "@jupyter-widgets/base",
            "_view_module_version": "1.2.0",
            "_view_name": "LayoutView",
            "align_content": null,
            "align_items": null,
            "align_self": null,
            "border": null,
            "bottom": null,
            "display": null,
            "flex": null,
            "flex_flow": null,
            "grid_area": null,
            "grid_auto_columns": null,
            "grid_auto_flow": null,
            "grid_auto_rows": null,
            "grid_column": null,
            "grid_gap": null,
            "grid_row": null,
            "grid_template_areas": null,
            "grid_template_columns": null,
            "grid_template_rows": null,
            "height": null,
            "justify_content": null,
            "justify_items": null,
            "left": null,
            "margin": null,
            "max_height": null,
            "max_width": null,
            "min_height": null,
            "min_width": null,
            "object_fit": null,
            "object_position": null,
            "order": null,
            "overflow": null,
            "overflow_x": null,
            "overflow_y": null,
            "padding": null,
            "right": null,
            "top": null,
            "visibility": null,
            "width": null
          }
        },
        "d8af521ef41a41d3b145d7c830cb935e": {
          "model_module": "@jupyter-widgets/controls",
          "model_name": "DescriptionStyleModel",
          "model_module_version": "1.5.0",
          "state": {
            "_model_module": "@jupyter-widgets/controls",
            "_model_module_version": "1.5.0",
            "_model_name": "DescriptionStyleModel",
            "_view_count": null,
            "_view_module": "@jupyter-widgets/base",
            "_view_module_version": "1.2.0",
            "_view_name": "StyleView",
            "description_width": ""
          }
        },
        "8694e17119014702bed5bb2da0cd6227": {
          "model_module": "@jupyter-widgets/base",
          "model_name": "LayoutModel",
          "model_module_version": "1.2.0",
          "state": {
            "_model_module": "@jupyter-widgets/base",
            "_model_module_version": "1.2.0",
            "_model_name": "LayoutModel",
            "_view_count": null,
            "_view_module": "@jupyter-widgets/base",
            "_view_module_version": "1.2.0",
            "_view_name": "LayoutView",
            "align_content": null,
            "align_items": null,
            "align_self": null,
            "border": null,
            "bottom": null,
            "display": null,
            "flex": "2",
            "flex_flow": null,
            "grid_area": null,
            "grid_auto_columns": null,
            "grid_auto_flow": null,
            "grid_auto_rows": null,
            "grid_column": null,
            "grid_gap": null,
            "grid_row": null,
            "grid_template_areas": null,
            "grid_template_columns": null,
            "grid_template_rows": null,
            "height": null,
            "justify_content": null,
            "justify_items": null,
            "left": null,
            "margin": null,
            "max_height": null,
            "max_width": null,
            "min_height": null,
            "min_width": null,
            "object_fit": null,
            "object_position": null,
            "order": null,
            "overflow": null,
            "overflow_x": null,
            "overflow_y": null,
            "padding": null,
            "right": null,
            "top": null,
            "visibility": null,
            "width": null
          }
        },
        "77d84569241b47f0b1a7601dcfec2d57": {
          "model_module": "@jupyter-widgets/controls",
          "model_name": "ProgressStyleModel",
          "model_module_version": "1.5.0",
          "state": {
            "_model_module": "@jupyter-widgets/controls",
            "_model_module_version": "1.5.0",
            "_model_name": "ProgressStyleModel",
            "_view_count": null,
            "_view_module": "@jupyter-widgets/base",
            "_view_module_version": "1.2.0",
            "_view_name": "StyleView",
            "bar_color": null,
            "description_width": ""
          }
        },
        "c6d98cd98f2b480fb3bf5870d7798489": {
          "model_module": "@jupyter-widgets/base",
          "model_name": "LayoutModel",
          "model_module_version": "1.2.0",
          "state": {
            "_model_module": "@jupyter-widgets/base",
            "_model_module_version": "1.2.0",
            "_model_name": "LayoutModel",
            "_view_count": null,
            "_view_module": "@jupyter-widgets/base",
            "_view_module_version": "1.2.0",
            "_view_name": "LayoutView",
            "align_content": null,
            "align_items": null,
            "align_self": null,
            "border": null,
            "bottom": null,
            "display": null,
            "flex": null,
            "flex_flow": null,
            "grid_area": null,
            "grid_auto_columns": null,
            "grid_auto_flow": null,
            "grid_auto_rows": null,
            "grid_column": null,
            "grid_gap": null,
            "grid_row": null,
            "grid_template_areas": null,
            "grid_template_columns": null,
            "grid_template_rows": null,
            "height": null,
            "justify_content": null,
            "justify_items": null,
            "left": null,
            "margin": null,
            "max_height": null,
            "max_width": null,
            "min_height": null,
            "min_width": null,
            "object_fit": null,
            "object_position": null,
            "order": null,
            "overflow": null,
            "overflow_x": null,
            "overflow_y": null,
            "padding": null,
            "right": null,
            "top": null,
            "visibility": null,
            "width": null
          }
        },
        "82e580da083240b0838b54b2d891c021": {
          "model_module": "@jupyter-widgets/controls",
          "model_name": "DescriptionStyleModel",
          "model_module_version": "1.5.0",
          "state": {
            "_model_module": "@jupyter-widgets/controls",
            "_model_module_version": "1.5.0",
            "_model_name": "DescriptionStyleModel",
            "_view_count": null,
            "_view_module": "@jupyter-widgets/base",
            "_view_module_version": "1.2.0",
            "_view_name": "StyleView",
            "description_width": ""
          }
        }
      }
    }
  },
  "cells": [
    {
      "cell_type": "markdown",
      "source": [
        "# NLP with RNN - Toxic Comment Classification"
      ],
      "metadata": {
        "id": "ZJn-ahe4MNZD"
      }
    },
    {
      "cell_type": "markdown",
      "source": [
        "# 1. Downloading the data"
      ],
      "metadata": {
        "id": "vpzDbW64MbC3"
      }
    },
    {
      "cell_type": "code",
      "execution_count": 1,
      "metadata": {
        "colab": {
          "base_uri": "https://localhost:8080/"
        },
        "id": "yKKxPtuMMChr",
        "outputId": "72704dfd-58c3-4f9b-ef70-92ca42b6fa52"
      },
      "outputs": [
        {
          "output_type": "stream",
          "name": "stdout",
          "text": [
            "Looking in indexes: https://pypi.org/simple, https://us-python.pkg.dev/colab-wheels/public/simple/\n",
            "Requirement already satisfied: Kaggle in /usr/local/lib/python3.8/dist-packages (1.5.12)\n",
            "Requirement already satisfied: urllib3 in /usr/local/lib/python3.8/dist-packages (from Kaggle) (1.24.3)\n",
            "Requirement already satisfied: six>=1.10 in /usr/local/lib/python3.8/dist-packages (from Kaggle) (1.15.0)\n",
            "Requirement already satisfied: python-dateutil in /usr/local/lib/python3.8/dist-packages (from Kaggle) (2.8.2)\n",
            "Requirement already satisfied: tqdm in /usr/local/lib/python3.8/dist-packages (from Kaggle) (4.64.1)\n",
            "Requirement already satisfied: certifi in /usr/local/lib/python3.8/dist-packages (from Kaggle) (2022.9.24)\n",
            "Requirement already satisfied: python-slugify in /usr/local/lib/python3.8/dist-packages (from Kaggle) (7.0.0)\n",
            "Requirement already satisfied: requests in /usr/local/lib/python3.8/dist-packages (from Kaggle) (2.23.0)\n",
            "Requirement already satisfied: text-unidecode>=1.3 in /usr/local/lib/python3.8/dist-packages (from python-slugify->Kaggle) (1.3)\n",
            "Requirement already satisfied: chardet<4,>=3.0.2 in /usr/local/lib/python3.8/dist-packages (from requests->Kaggle) (3.0.4)\n",
            "Requirement already satisfied: idna<3,>=2.5 in /usr/local/lib/python3.8/dist-packages (from requests->Kaggle) (2.10)\n"
          ]
        }
      ],
      "source": [
        "!pip install Kaggle"
      ]
    },
    {
      "cell_type": "code",
      "source": [
        "import os\n",
        "os.environ['KAGGLE_CONFIG_DIR'] = '.'"
      ],
      "metadata": {
        "id": "tjbuXhMbMnli"
      },
      "execution_count": 2,
      "outputs": []
    },
    {
      "cell_type": "code",
      "source": [
        "!kaggle competitions download -c jigsaw-toxic-comment-classification-challenge"
      ],
      "metadata": {
        "colab": {
          "base_uri": "https://localhost:8080/"
        },
        "id": "NoR81sOJMwoP",
        "outputId": "7c6fd2f2-b836-49b7-b613-0146999af330"
      },
      "execution_count": 3,
      "outputs": [
        {
          "output_type": "stream",
          "name": "stdout",
          "text": [
            "Warning: Your Kaggle API key is readable by other users on this system! To fix this, you can run 'chmod 600 ./kaggle.json'\n",
            "Downloading jigsaw-toxic-comment-classification-challenge.zip to /content\n",
            " 99% 52.0M/52.6M [00:03<00:00, 24.7MB/s]\n",
            "100% 52.6M/52.6M [00:03<00:00, 17.0MB/s]\n"
          ]
        }
      ]
    },
    {
      "cell_type": "code",
      "source": [
        "!unzip jigsaw-toxic-comment-classification-challenge.zip -d data"
      ],
      "metadata": {
        "colab": {
          "base_uri": "https://localhost:8080/"
        },
        "id": "jIMhEpZBMyAl",
        "outputId": "829936cb-78db-45c4-e8d6-6bfe8373b8a2"
      },
      "execution_count": 4,
      "outputs": [
        {
          "output_type": "stream",
          "name": "stdout",
          "text": [
            "Archive:  jigsaw-toxic-comment-classification-challenge.zip\n",
            "  inflating: data/sample_submission.csv.zip  \n",
            "  inflating: data/test.csv.zip       \n",
            "  inflating: data/test_labels.csv.zip  \n",
            "  inflating: data/train.csv.zip      \n"
          ]
        }
      ]
    },
    {
      "cell_type": "code",
      "source": [
        "import pandas as pd\n",
        "raw_df = pd.read_csv('data/train.csv.zip')\n",
        "test_df = pd.read_csv('data/test.csv.zip')\n",
        "sub_df = pd.read_csv('data/sample_submission.csv.zip')"
      ],
      "metadata": {
        "id": "8GlDUwafM36X"
      },
      "execution_count": 6,
      "outputs": []
    },
    {
      "cell_type": "code",
      "source": [
        "raw_df"
      ],
      "metadata": {
        "colab": {
          "base_uri": "https://localhost:8080/",
          "height": 424
        },
        "id": "d4Pej8SsNGWQ",
        "outputId": "a33a9726-ebf8-45c2-ab95-fd475797c95a"
      },
      "execution_count": 7,
      "outputs": [
        {
          "output_type": "execute_result",
          "data": {
            "text/plain": [
              "                      id                                       comment_text  \\\n",
              "0       0000997932d777bf  Explanation\\nWhy the edits made under my usern...   \n",
              "1       000103f0d9cfb60f  D'aww! He matches this background colour I'm s...   \n",
              "2       000113f07ec002fd  Hey man, I'm really not trying to edit war. It...   \n",
              "3       0001b41b1c6bb37e  \"\\nMore\\nI can't make any real suggestions on ...   \n",
              "4       0001d958c54c6e35  You, sir, are my hero. Any chance you remember...   \n",
              "...                  ...                                                ...   \n",
              "159566  ffe987279560d7ff  \":::::And for the second time of asking, when ...   \n",
              "159567  ffea4adeee384e90  You should be ashamed of yourself \\n\\nThat is ...   \n",
              "159568  ffee36eab5c267c9  Spitzer \\n\\nUmm, theres no actual article for ...   \n",
              "159569  fff125370e4aaaf3  And it looks like it was actually you who put ...   \n",
              "159570  fff46fc426af1f9a  \"\\nAnd ... I really don't think you understand...   \n",
              "\n",
              "        toxic  severe_toxic  obscene  threat  insult  identity_hate  \n",
              "0           0             0        0       0       0              0  \n",
              "1           0             0        0       0       0              0  \n",
              "2           0             0        0       0       0              0  \n",
              "3           0             0        0       0       0              0  \n",
              "4           0             0        0       0       0              0  \n",
              "...       ...           ...      ...     ...     ...            ...  \n",
              "159566      0             0        0       0       0              0  \n",
              "159567      0             0        0       0       0              0  \n",
              "159568      0             0        0       0       0              0  \n",
              "159569      0             0        0       0       0              0  \n",
              "159570      0             0        0       0       0              0  \n",
              "\n",
              "[159571 rows x 8 columns]"
            ],
            "text/html": [
              "\n",
              "  <div id=\"df-f6c7b5cf-dfae-472f-86c6-16844bc0b42d\">\n",
              "    <div class=\"colab-df-container\">\n",
              "      <div>\n",
              "<style scoped>\n",
              "    .dataframe tbody tr th:only-of-type {\n",
              "        vertical-align: middle;\n",
              "    }\n",
              "\n",
              "    .dataframe tbody tr th {\n",
              "        vertical-align: top;\n",
              "    }\n",
              "\n",
              "    .dataframe thead th {\n",
              "        text-align: right;\n",
              "    }\n",
              "</style>\n",
              "<table border=\"1\" class=\"dataframe\">\n",
              "  <thead>\n",
              "    <tr style=\"text-align: right;\">\n",
              "      <th></th>\n",
              "      <th>id</th>\n",
              "      <th>comment_text</th>\n",
              "      <th>toxic</th>\n",
              "      <th>severe_toxic</th>\n",
              "      <th>obscene</th>\n",
              "      <th>threat</th>\n",
              "      <th>insult</th>\n",
              "      <th>identity_hate</th>\n",
              "    </tr>\n",
              "  </thead>\n",
              "  <tbody>\n",
              "    <tr>\n",
              "      <th>0</th>\n",
              "      <td>0000997932d777bf</td>\n",
              "      <td>Explanation\\nWhy the edits made under my usern...</td>\n",
              "      <td>0</td>\n",
              "      <td>0</td>\n",
              "      <td>0</td>\n",
              "      <td>0</td>\n",
              "      <td>0</td>\n",
              "      <td>0</td>\n",
              "    </tr>\n",
              "    <tr>\n",
              "      <th>1</th>\n",
              "      <td>000103f0d9cfb60f</td>\n",
              "      <td>D'aww! He matches this background colour I'm s...</td>\n",
              "      <td>0</td>\n",
              "      <td>0</td>\n",
              "      <td>0</td>\n",
              "      <td>0</td>\n",
              "      <td>0</td>\n",
              "      <td>0</td>\n",
              "    </tr>\n",
              "    <tr>\n",
              "      <th>2</th>\n",
              "      <td>000113f07ec002fd</td>\n",
              "      <td>Hey man, I'm really not trying to edit war. It...</td>\n",
              "      <td>0</td>\n",
              "      <td>0</td>\n",
              "      <td>0</td>\n",
              "      <td>0</td>\n",
              "      <td>0</td>\n",
              "      <td>0</td>\n",
              "    </tr>\n",
              "    <tr>\n",
              "      <th>3</th>\n",
              "      <td>0001b41b1c6bb37e</td>\n",
              "      <td>\"\\nMore\\nI can't make any real suggestions on ...</td>\n",
              "      <td>0</td>\n",
              "      <td>0</td>\n",
              "      <td>0</td>\n",
              "      <td>0</td>\n",
              "      <td>0</td>\n",
              "      <td>0</td>\n",
              "    </tr>\n",
              "    <tr>\n",
              "      <th>4</th>\n",
              "      <td>0001d958c54c6e35</td>\n",
              "      <td>You, sir, are my hero. Any chance you remember...</td>\n",
              "      <td>0</td>\n",
              "      <td>0</td>\n",
              "      <td>0</td>\n",
              "      <td>0</td>\n",
              "      <td>0</td>\n",
              "      <td>0</td>\n",
              "    </tr>\n",
              "    <tr>\n",
              "      <th>...</th>\n",
              "      <td>...</td>\n",
              "      <td>...</td>\n",
              "      <td>...</td>\n",
              "      <td>...</td>\n",
              "      <td>...</td>\n",
              "      <td>...</td>\n",
              "      <td>...</td>\n",
              "      <td>...</td>\n",
              "    </tr>\n",
              "    <tr>\n",
              "      <th>159566</th>\n",
              "      <td>ffe987279560d7ff</td>\n",
              "      <td>\":::::And for the second time of asking, when ...</td>\n",
              "      <td>0</td>\n",
              "      <td>0</td>\n",
              "      <td>0</td>\n",
              "      <td>0</td>\n",
              "      <td>0</td>\n",
              "      <td>0</td>\n",
              "    </tr>\n",
              "    <tr>\n",
              "      <th>159567</th>\n",
              "      <td>ffea4adeee384e90</td>\n",
              "      <td>You should be ashamed of yourself \\n\\nThat is ...</td>\n",
              "      <td>0</td>\n",
              "      <td>0</td>\n",
              "      <td>0</td>\n",
              "      <td>0</td>\n",
              "      <td>0</td>\n",
              "      <td>0</td>\n",
              "    </tr>\n",
              "    <tr>\n",
              "      <th>159568</th>\n",
              "      <td>ffee36eab5c267c9</td>\n",
              "      <td>Spitzer \\n\\nUmm, theres no actual article for ...</td>\n",
              "      <td>0</td>\n",
              "      <td>0</td>\n",
              "      <td>0</td>\n",
              "      <td>0</td>\n",
              "      <td>0</td>\n",
              "      <td>0</td>\n",
              "    </tr>\n",
              "    <tr>\n",
              "      <th>159569</th>\n",
              "      <td>fff125370e4aaaf3</td>\n",
              "      <td>And it looks like it was actually you who put ...</td>\n",
              "      <td>0</td>\n",
              "      <td>0</td>\n",
              "      <td>0</td>\n",
              "      <td>0</td>\n",
              "      <td>0</td>\n",
              "      <td>0</td>\n",
              "    </tr>\n",
              "    <tr>\n",
              "      <th>159570</th>\n",
              "      <td>fff46fc426af1f9a</td>\n",
              "      <td>\"\\nAnd ... I really don't think you understand...</td>\n",
              "      <td>0</td>\n",
              "      <td>0</td>\n",
              "      <td>0</td>\n",
              "      <td>0</td>\n",
              "      <td>0</td>\n",
              "      <td>0</td>\n",
              "    </tr>\n",
              "  </tbody>\n",
              "</table>\n",
              "<p>159571 rows × 8 columns</p>\n",
              "</div>\n",
              "      <button class=\"colab-df-convert\" onclick=\"convertToInteractive('df-f6c7b5cf-dfae-472f-86c6-16844bc0b42d')\"\n",
              "              title=\"Convert this dataframe to an interactive table.\"\n",
              "              style=\"display:none;\">\n",
              "        \n",
              "  <svg xmlns=\"http://www.w3.org/2000/svg\" height=\"24px\"viewBox=\"0 0 24 24\"\n",
              "       width=\"24px\">\n",
              "    <path d=\"M0 0h24v24H0V0z\" fill=\"none\"/>\n",
              "    <path d=\"M18.56 5.44l.94 2.06.94-2.06 2.06-.94-2.06-.94-.94-2.06-.94 2.06-2.06.94zm-11 1L8.5 8.5l.94-2.06 2.06-.94-2.06-.94L8.5 2.5l-.94 2.06-2.06.94zm10 10l.94 2.06.94-2.06 2.06-.94-2.06-.94-.94-2.06-.94 2.06-2.06.94z\"/><path d=\"M17.41 7.96l-1.37-1.37c-.4-.4-.92-.59-1.43-.59-.52 0-1.04.2-1.43.59L10.3 9.45l-7.72 7.72c-.78.78-.78 2.05 0 2.83L4 21.41c.39.39.9.59 1.41.59.51 0 1.02-.2 1.41-.59l7.78-7.78 2.81-2.81c.8-.78.8-2.07 0-2.86zM5.41 20L4 18.59l7.72-7.72 1.47 1.35L5.41 20z\"/>\n",
              "  </svg>\n",
              "      </button>\n",
              "      \n",
              "  <style>\n",
              "    .colab-df-container {\n",
              "      display:flex;\n",
              "      flex-wrap:wrap;\n",
              "      gap: 12px;\n",
              "    }\n",
              "\n",
              "    .colab-df-convert {\n",
              "      background-color: #E8F0FE;\n",
              "      border: none;\n",
              "      border-radius: 50%;\n",
              "      cursor: pointer;\n",
              "      display: none;\n",
              "      fill: #1967D2;\n",
              "      height: 32px;\n",
              "      padding: 0 0 0 0;\n",
              "      width: 32px;\n",
              "    }\n",
              "\n",
              "    .colab-df-convert:hover {\n",
              "      background-color: #E2EBFA;\n",
              "      box-shadow: 0px 1px 2px rgba(60, 64, 67, 0.3), 0px 1px 3px 1px rgba(60, 64, 67, 0.15);\n",
              "      fill: #174EA6;\n",
              "    }\n",
              "\n",
              "    [theme=dark] .colab-df-convert {\n",
              "      background-color: #3B4455;\n",
              "      fill: #D2E3FC;\n",
              "    }\n",
              "\n",
              "    [theme=dark] .colab-df-convert:hover {\n",
              "      background-color: #434B5C;\n",
              "      box-shadow: 0px 1px 3px 1px rgba(0, 0, 0, 0.15);\n",
              "      filter: drop-shadow(0px 1px 2px rgba(0, 0, 0, 0.3));\n",
              "      fill: #FFFFFF;\n",
              "    }\n",
              "  </style>\n",
              "\n",
              "      <script>\n",
              "        const buttonEl =\n",
              "          document.querySelector('#df-f6c7b5cf-dfae-472f-86c6-16844bc0b42d button.colab-df-convert');\n",
              "        buttonEl.style.display =\n",
              "          google.colab.kernel.accessAllowed ? 'block' : 'none';\n",
              "\n",
              "        async function convertToInteractive(key) {\n",
              "          const element = document.querySelector('#df-f6c7b5cf-dfae-472f-86c6-16844bc0b42d');\n",
              "          const dataTable =\n",
              "            await google.colab.kernel.invokeFunction('convertToInteractive',\n",
              "                                                     [key], {});\n",
              "          if (!dataTable) return;\n",
              "\n",
              "          const docLinkHtml = 'Like what you see? Visit the ' +\n",
              "            '<a target=\"_blank\" href=https://colab.research.google.com/notebooks/data_table.ipynb>data table notebook</a>'\n",
              "            + ' to learn more about interactive tables.';\n",
              "          element.innerHTML = '';\n",
              "          dataTable['output_type'] = 'display_data';\n",
              "          await google.colab.output.renderOutput(dataTable, element);\n",
              "          const docLink = document.createElement('div');\n",
              "          docLink.innerHTML = docLinkHtml;\n",
              "          element.appendChild(docLink);\n",
              "        }\n",
              "      </script>\n",
              "    </div>\n",
              "  </div>\n",
              "  "
            ]
          },
          "metadata": {},
          "execution_count": 7
        }
      ]
    },
    {
      "cell_type": "code",
      "source": [
        "raw_df.info()"
      ],
      "metadata": {
        "colab": {
          "base_uri": "https://localhost:8080/"
        },
        "id": "D__VdiesNJ7p",
        "outputId": "45190209-1bdc-42da-a22b-8916fee859a4"
      },
      "execution_count": 8,
      "outputs": [
        {
          "output_type": "stream",
          "name": "stdout",
          "text": [
            "<class 'pandas.core.frame.DataFrame'>\n",
            "RangeIndex: 159571 entries, 0 to 159570\n",
            "Data columns (total 8 columns):\n",
            " #   Column         Non-Null Count   Dtype \n",
            "---  ------         --------------   ----- \n",
            " 0   id             159571 non-null  object\n",
            " 1   comment_text   159571 non-null  object\n",
            " 2   toxic          159571 non-null  int64 \n",
            " 3   severe_toxic   159571 non-null  int64 \n",
            " 4   obscene        159571 non-null  int64 \n",
            " 5   threat         159571 non-null  int64 \n",
            " 6   insult         159571 non-null  int64 \n",
            " 7   identity_hate  159571 non-null  int64 \n",
            "dtypes: int64(6), object(2)\n",
            "memory usage: 9.7+ MB\n"
          ]
        }
      ]
    },
    {
      "cell_type": "code",
      "source": [
        "raw_df.sample(20)"
      ],
      "metadata": {
        "colab": {
          "base_uri": "https://localhost:8080/",
          "height": 676
        },
        "id": "X-ZawZXzNOxA",
        "outputId": "e727ac61-a004-4f98-e2fa-71e1c7631246"
      },
      "execution_count": 9,
      "outputs": [
        {
          "output_type": "execute_result",
          "data": {
            "text/plain": [
              "                      id                                       comment_text  \\\n",
              "81759   daaafa035af866cb  \"\\n\\n Islamophobic material \\n\\nA cursory exam...   \n",
              "127181  a830194f0788a369  The economics section is woefully pessimistic....   \n",
              "69269   b953474dd2bffcef  To the humongous faggot pro-russian administra...   \n",
              "28942   4cb12a2b93c41d98  3RR\\nYou have also broken the spirit of 3RR an...   \n",
              "481     01402c8ac88fa9de  \"\\n\\n Can there be a more concise listing? \\n\\...   \n",
              "50412   86c97c18365ffe39  Vandalism \\n\\nThank you for experimenting with...   \n",
              "124481  99eced3c8fb8228b  and once again for Manfred: here you go and se...   \n",
              "9904    1a3a284aa65c156b  \"====Regarding edits made during May 28 2006 (...   \n",
              "150160  679282ea40b91b60  \"===August 2007===\\n\\nA tag has been placed on...   \n",
              "8854    177f4ee21bd0e4b0  that ist the evidence that something is wrong ...   \n",
              "56663   9765588ea9bf6c5f  Irishguy delets other people shit. Cuz noone l...   \n",
              "111897  569be7d72dc82929  \"==Correct and True Etymology of English words...   \n",
              "95884   00d3146434628f0b  The Rock Vs Cena \\n\\nThe match was agreed upon...   \n",
              "10492   1bb4921cd8fefd3c  , 8 August 2012 (UTC)\\n\\nDid you notice that I...   \n",
              "3970    0a976d242edfb686  I agree \\n\\nI agree it was an edit war. He/she...   \n",
              "99321   134a1e70fe31b0f3  \"\\nWell, he shouldn't call your edits vandalis...   \n",
              "109900  4bc8f7f066e09068  Please Note. John Lennon's paternal grandfathe...   \n",
              "59000   9dfbbe6775224463  Don't vandalize again \\n\\n → Nobody is laughin...   \n",
              "93461   f9e24fb48fe335d5                         the word God (in Trinity),   \n",
              "2737    075a4b83f3eba42f  \"Changes to this Page - Open discussion ==\\nSi...   \n",
              "\n",
              "        toxic  severe_toxic  obscene  threat  insult  identity_hate  \n",
              "81759       0             0        0       0       0              0  \n",
              "127181      0             0        0       0       0              0  \n",
              "69269       1             0        1       0       1              0  \n",
              "28942       0             0        0       0       0              0  \n",
              "481         0             0        0       0       0              0  \n",
              "50412       0             0        0       0       0              0  \n",
              "124481      0             0        0       0       0              0  \n",
              "9904        0             0        0       0       0              0  \n",
              "150160      0             0        0       0       0              0  \n",
              "8854        0             0        0       0       0              0  \n",
              "56663       1             0        1       0       0              0  \n",
              "111897      0             0        0       0       0              0  \n",
              "95884       0             0        0       0       0              0  \n",
              "10492       0             0        0       0       0              0  \n",
              "3970        0             0        0       0       0              0  \n",
              "99321       0             0        0       0       0              0  \n",
              "109900      0             0        0       0       0              0  \n",
              "59000       0             0        0       0       0              0  \n",
              "93461       0             0        0       0       0              0  \n",
              "2737        0             0        0       0       0              0  "
            ],
            "text/html": [
              "\n",
              "  <div id=\"df-0d3b4779-84b6-4733-8d25-8a030db3db0a\">\n",
              "    <div class=\"colab-df-container\">\n",
              "      <div>\n",
              "<style scoped>\n",
              "    .dataframe tbody tr th:only-of-type {\n",
              "        vertical-align: middle;\n",
              "    }\n",
              "\n",
              "    .dataframe tbody tr th {\n",
              "        vertical-align: top;\n",
              "    }\n",
              "\n",
              "    .dataframe thead th {\n",
              "        text-align: right;\n",
              "    }\n",
              "</style>\n",
              "<table border=\"1\" class=\"dataframe\">\n",
              "  <thead>\n",
              "    <tr style=\"text-align: right;\">\n",
              "      <th></th>\n",
              "      <th>id</th>\n",
              "      <th>comment_text</th>\n",
              "      <th>toxic</th>\n",
              "      <th>severe_toxic</th>\n",
              "      <th>obscene</th>\n",
              "      <th>threat</th>\n",
              "      <th>insult</th>\n",
              "      <th>identity_hate</th>\n",
              "    </tr>\n",
              "  </thead>\n",
              "  <tbody>\n",
              "    <tr>\n",
              "      <th>81759</th>\n",
              "      <td>daaafa035af866cb</td>\n",
              "      <td>\"\\n\\n Islamophobic material \\n\\nA cursory exam...</td>\n",
              "      <td>0</td>\n",
              "      <td>0</td>\n",
              "      <td>0</td>\n",
              "      <td>0</td>\n",
              "      <td>0</td>\n",
              "      <td>0</td>\n",
              "    </tr>\n",
              "    <tr>\n",
              "      <th>127181</th>\n",
              "      <td>a830194f0788a369</td>\n",
              "      <td>The economics section is woefully pessimistic....</td>\n",
              "      <td>0</td>\n",
              "      <td>0</td>\n",
              "      <td>0</td>\n",
              "      <td>0</td>\n",
              "      <td>0</td>\n",
              "      <td>0</td>\n",
              "    </tr>\n",
              "    <tr>\n",
              "      <th>69269</th>\n",
              "      <td>b953474dd2bffcef</td>\n",
              "      <td>To the humongous faggot pro-russian administra...</td>\n",
              "      <td>1</td>\n",
              "      <td>0</td>\n",
              "      <td>1</td>\n",
              "      <td>0</td>\n",
              "      <td>1</td>\n",
              "      <td>0</td>\n",
              "    </tr>\n",
              "    <tr>\n",
              "      <th>28942</th>\n",
              "      <td>4cb12a2b93c41d98</td>\n",
              "      <td>3RR\\nYou have also broken the spirit of 3RR an...</td>\n",
              "      <td>0</td>\n",
              "      <td>0</td>\n",
              "      <td>0</td>\n",
              "      <td>0</td>\n",
              "      <td>0</td>\n",
              "      <td>0</td>\n",
              "    </tr>\n",
              "    <tr>\n",
              "      <th>481</th>\n",
              "      <td>01402c8ac88fa9de</td>\n",
              "      <td>\"\\n\\n Can there be a more concise listing? \\n\\...</td>\n",
              "      <td>0</td>\n",
              "      <td>0</td>\n",
              "      <td>0</td>\n",
              "      <td>0</td>\n",
              "      <td>0</td>\n",
              "      <td>0</td>\n",
              "    </tr>\n",
              "    <tr>\n",
              "      <th>50412</th>\n",
              "      <td>86c97c18365ffe39</td>\n",
              "      <td>Vandalism \\n\\nThank you for experimenting with...</td>\n",
              "      <td>0</td>\n",
              "      <td>0</td>\n",
              "      <td>0</td>\n",
              "      <td>0</td>\n",
              "      <td>0</td>\n",
              "      <td>0</td>\n",
              "    </tr>\n",
              "    <tr>\n",
              "      <th>124481</th>\n",
              "      <td>99eced3c8fb8228b</td>\n",
              "      <td>and once again for Manfred: here you go and se...</td>\n",
              "      <td>0</td>\n",
              "      <td>0</td>\n",
              "      <td>0</td>\n",
              "      <td>0</td>\n",
              "      <td>0</td>\n",
              "      <td>0</td>\n",
              "    </tr>\n",
              "    <tr>\n",
              "      <th>9904</th>\n",
              "      <td>1a3a284aa65c156b</td>\n",
              "      <td>\"====Regarding edits made during May 28 2006 (...</td>\n",
              "      <td>0</td>\n",
              "      <td>0</td>\n",
              "      <td>0</td>\n",
              "      <td>0</td>\n",
              "      <td>0</td>\n",
              "      <td>0</td>\n",
              "    </tr>\n",
              "    <tr>\n",
              "      <th>150160</th>\n",
              "      <td>679282ea40b91b60</td>\n",
              "      <td>\"===August 2007===\\n\\nA tag has been placed on...</td>\n",
              "      <td>0</td>\n",
              "      <td>0</td>\n",
              "      <td>0</td>\n",
              "      <td>0</td>\n",
              "      <td>0</td>\n",
              "      <td>0</td>\n",
              "    </tr>\n",
              "    <tr>\n",
              "      <th>8854</th>\n",
              "      <td>177f4ee21bd0e4b0</td>\n",
              "      <td>that ist the evidence that something is wrong ...</td>\n",
              "      <td>0</td>\n",
              "      <td>0</td>\n",
              "      <td>0</td>\n",
              "      <td>0</td>\n",
              "      <td>0</td>\n",
              "      <td>0</td>\n",
              "    </tr>\n",
              "    <tr>\n",
              "      <th>56663</th>\n",
              "      <td>9765588ea9bf6c5f</td>\n",
              "      <td>Irishguy delets other people shit. Cuz noone l...</td>\n",
              "      <td>1</td>\n",
              "      <td>0</td>\n",
              "      <td>1</td>\n",
              "      <td>0</td>\n",
              "      <td>0</td>\n",
              "      <td>0</td>\n",
              "    </tr>\n",
              "    <tr>\n",
              "      <th>111897</th>\n",
              "      <td>569be7d72dc82929</td>\n",
              "      <td>\"==Correct and True Etymology of English words...</td>\n",
              "      <td>0</td>\n",
              "      <td>0</td>\n",
              "      <td>0</td>\n",
              "      <td>0</td>\n",
              "      <td>0</td>\n",
              "      <td>0</td>\n",
              "    </tr>\n",
              "    <tr>\n",
              "      <th>95884</th>\n",
              "      <td>00d3146434628f0b</td>\n",
              "      <td>The Rock Vs Cena \\n\\nThe match was agreed upon...</td>\n",
              "      <td>0</td>\n",
              "      <td>0</td>\n",
              "      <td>0</td>\n",
              "      <td>0</td>\n",
              "      <td>0</td>\n",
              "      <td>0</td>\n",
              "    </tr>\n",
              "    <tr>\n",
              "      <th>10492</th>\n",
              "      <td>1bb4921cd8fefd3c</td>\n",
              "      <td>, 8 August 2012 (UTC)\\n\\nDid you notice that I...</td>\n",
              "      <td>0</td>\n",
              "      <td>0</td>\n",
              "      <td>0</td>\n",
              "      <td>0</td>\n",
              "      <td>0</td>\n",
              "      <td>0</td>\n",
              "    </tr>\n",
              "    <tr>\n",
              "      <th>3970</th>\n",
              "      <td>0a976d242edfb686</td>\n",
              "      <td>I agree \\n\\nI agree it was an edit war. He/she...</td>\n",
              "      <td>0</td>\n",
              "      <td>0</td>\n",
              "      <td>0</td>\n",
              "      <td>0</td>\n",
              "      <td>0</td>\n",
              "      <td>0</td>\n",
              "    </tr>\n",
              "    <tr>\n",
              "      <th>99321</th>\n",
              "      <td>134a1e70fe31b0f3</td>\n",
              "      <td>\"\\nWell, he shouldn't call your edits vandalis...</td>\n",
              "      <td>0</td>\n",
              "      <td>0</td>\n",
              "      <td>0</td>\n",
              "      <td>0</td>\n",
              "      <td>0</td>\n",
              "      <td>0</td>\n",
              "    </tr>\n",
              "    <tr>\n",
              "      <th>109900</th>\n",
              "      <td>4bc8f7f066e09068</td>\n",
              "      <td>Please Note. John Lennon's paternal grandfathe...</td>\n",
              "      <td>0</td>\n",
              "      <td>0</td>\n",
              "      <td>0</td>\n",
              "      <td>0</td>\n",
              "      <td>0</td>\n",
              "      <td>0</td>\n",
              "    </tr>\n",
              "    <tr>\n",
              "      <th>59000</th>\n",
              "      <td>9dfbbe6775224463</td>\n",
              "      <td>Don't vandalize again \\n\\n → Nobody is laughin...</td>\n",
              "      <td>0</td>\n",
              "      <td>0</td>\n",
              "      <td>0</td>\n",
              "      <td>0</td>\n",
              "      <td>0</td>\n",
              "      <td>0</td>\n",
              "    </tr>\n",
              "    <tr>\n",
              "      <th>93461</th>\n",
              "      <td>f9e24fb48fe335d5</td>\n",
              "      <td>the word God (in Trinity),</td>\n",
              "      <td>0</td>\n",
              "      <td>0</td>\n",
              "      <td>0</td>\n",
              "      <td>0</td>\n",
              "      <td>0</td>\n",
              "      <td>0</td>\n",
              "    </tr>\n",
              "    <tr>\n",
              "      <th>2737</th>\n",
              "      <td>075a4b83f3eba42f</td>\n",
              "      <td>\"Changes to this Page - Open discussion ==\\nSi...</td>\n",
              "      <td>0</td>\n",
              "      <td>0</td>\n",
              "      <td>0</td>\n",
              "      <td>0</td>\n",
              "      <td>0</td>\n",
              "      <td>0</td>\n",
              "    </tr>\n",
              "  </tbody>\n",
              "</table>\n",
              "</div>\n",
              "      <button class=\"colab-df-convert\" onclick=\"convertToInteractive('df-0d3b4779-84b6-4733-8d25-8a030db3db0a')\"\n",
              "              title=\"Convert this dataframe to an interactive table.\"\n",
              "              style=\"display:none;\">\n",
              "        \n",
              "  <svg xmlns=\"http://www.w3.org/2000/svg\" height=\"24px\"viewBox=\"0 0 24 24\"\n",
              "       width=\"24px\">\n",
              "    <path d=\"M0 0h24v24H0V0z\" fill=\"none\"/>\n",
              "    <path d=\"M18.56 5.44l.94 2.06.94-2.06 2.06-.94-2.06-.94-.94-2.06-.94 2.06-2.06.94zm-11 1L8.5 8.5l.94-2.06 2.06-.94-2.06-.94L8.5 2.5l-.94 2.06-2.06.94zm10 10l.94 2.06.94-2.06 2.06-.94-2.06-.94-.94-2.06-.94 2.06-2.06.94z\"/><path d=\"M17.41 7.96l-1.37-1.37c-.4-.4-.92-.59-1.43-.59-.52 0-1.04.2-1.43.59L10.3 9.45l-7.72 7.72c-.78.78-.78 2.05 0 2.83L4 21.41c.39.39.9.59 1.41.59.51 0 1.02-.2 1.41-.59l7.78-7.78 2.81-2.81c.8-.78.8-2.07 0-2.86zM5.41 20L4 18.59l7.72-7.72 1.47 1.35L5.41 20z\"/>\n",
              "  </svg>\n",
              "      </button>\n",
              "      \n",
              "  <style>\n",
              "    .colab-df-container {\n",
              "      display:flex;\n",
              "      flex-wrap:wrap;\n",
              "      gap: 12px;\n",
              "    }\n",
              "\n",
              "    .colab-df-convert {\n",
              "      background-color: #E8F0FE;\n",
              "      border: none;\n",
              "      border-radius: 50%;\n",
              "      cursor: pointer;\n",
              "      display: none;\n",
              "      fill: #1967D2;\n",
              "      height: 32px;\n",
              "      padding: 0 0 0 0;\n",
              "      width: 32px;\n",
              "    }\n",
              "\n",
              "    .colab-df-convert:hover {\n",
              "      background-color: #E2EBFA;\n",
              "      box-shadow: 0px 1px 2px rgba(60, 64, 67, 0.3), 0px 1px 3px 1px rgba(60, 64, 67, 0.15);\n",
              "      fill: #174EA6;\n",
              "    }\n",
              "\n",
              "    [theme=dark] .colab-df-convert {\n",
              "      background-color: #3B4455;\n",
              "      fill: #D2E3FC;\n",
              "    }\n",
              "\n",
              "    [theme=dark] .colab-df-convert:hover {\n",
              "      background-color: #434B5C;\n",
              "      box-shadow: 0px 1px 3px 1px rgba(0, 0, 0, 0.15);\n",
              "      filter: drop-shadow(0px 1px 2px rgba(0, 0, 0, 0.3));\n",
              "      fill: #FFFFFF;\n",
              "    }\n",
              "  </style>\n",
              "\n",
              "      <script>\n",
              "        const buttonEl =\n",
              "          document.querySelector('#df-0d3b4779-84b6-4733-8d25-8a030db3db0a button.colab-df-convert');\n",
              "        buttonEl.style.display =\n",
              "          google.colab.kernel.accessAllowed ? 'block' : 'none';\n",
              "\n",
              "        async function convertToInteractive(key) {\n",
              "          const element = document.querySelector('#df-0d3b4779-84b6-4733-8d25-8a030db3db0a');\n",
              "          const dataTable =\n",
              "            await google.colab.kernel.invokeFunction('convertToInteractive',\n",
              "                                                     [key], {});\n",
              "          if (!dataTable) return;\n",
              "\n",
              "          const docLinkHtml = 'Like what you see? Visit the ' +\n",
              "            '<a target=\"_blank\" href=https://colab.research.google.com/notebooks/data_table.ipynb>data table notebook</a>'\n",
              "            + ' to learn more about interactive tables.';\n",
              "          element.innerHTML = '';\n",
              "          dataTable['output_type'] = 'display_data';\n",
              "          await google.colab.output.renderOutput(dataTable, element);\n",
              "          const docLink = document.createElement('div');\n",
              "          docLink.innerHTML = docLinkHtml;\n",
              "          element.appendChild(docLink);\n",
              "        }\n",
              "      </script>\n",
              "    </div>\n",
              "  </div>\n",
              "  "
            ]
          },
          "metadata": {},
          "execution_count": 9
        }
      ]
    },
    {
      "cell_type": "code",
      "source": [
        "raw_df.comment_text.values[0]"
      ],
      "metadata": {
        "colab": {
          "base_uri": "https://localhost:8080/",
          "height": 53
        },
        "id": "IY3AxU3pNWyq",
        "outputId": "9805f33a-a203-4d67-cb70-16e0a85b1b62"
      },
      "execution_count": 11,
      "outputs": [
        {
          "output_type": "execute_result",
          "data": {
            "text/plain": [
              "\"Explanation\\nWhy the edits made under my username Hardcore Metallica Fan were reverted? They weren't vandalisms, just closure on some GAs after I voted at New York Dolls FAC. And please don't remove the template from the talk page since I'm retired now.89.205.38.27\""
            ],
            "application/vnd.google.colaboratory.intrinsic+json": {
              "type": "string"
            }
          },
          "metadata": {},
          "execution_count": 11
        }
      ]
    },
    {
      "cell_type": "code",
      "source": [
        "target_cols = ['toxic',\t'severe_toxic',\t'obscene'\t,'threat'\t,'insult',\t'identity_hate']"
      ],
      "metadata": {
        "id": "1gIQ6v4uNfmq"
      },
      "execution_count": 12,
      "outputs": []
    },
    {
      "cell_type": "code",
      "source": [
        "for col in target_cols:\n",
        "  print(col)\n",
        "  print(raw_df[col].value_counts(normalize=True))"
      ],
      "metadata": {
        "colab": {
          "base_uri": "https://localhost:8080/"
        },
        "id": "wPY7Zw9FNtdm",
        "outputId": "c26d8b30-234f-4163-89d5-980294f94f11"
      },
      "execution_count": 14,
      "outputs": [
        {
          "output_type": "stream",
          "name": "stdout",
          "text": [
            "toxic\n",
            "0    0.904156\n",
            "1    0.095844\n",
            "Name: toxic, dtype: float64\n",
            "severe_toxic\n",
            "0    0.990004\n",
            "1    0.009996\n",
            "Name: severe_toxic, dtype: float64\n",
            "obscene\n",
            "0    0.947052\n",
            "1    0.052948\n",
            "Name: obscene, dtype: float64\n",
            "threat\n",
            "0    0.997004\n",
            "1    0.002996\n",
            "Name: threat, dtype: float64\n",
            "insult\n",
            "0    0.950636\n",
            "1    0.049364\n",
            "Name: insult, dtype: float64\n",
            "identity_hate\n",
            "0    0.991195\n",
            "1    0.008805\n",
            "Name: identity_hate, dtype: float64\n"
          ]
        }
      ]
    },
    {
      "cell_type": "code",
      "source": [
        "test_df"
      ],
      "metadata": {
        "colab": {
          "base_uri": "https://localhost:8080/",
          "height": 424
        },
        "id": "j1PLKnHgNzNz",
        "outputId": "a699a7f1-ff9c-4248-f05a-0aac7d9cfbf4"
      },
      "execution_count": 15,
      "outputs": [
        {
          "output_type": "execute_result",
          "data": {
            "text/plain": [
              "                      id                                       comment_text\n",
              "0       00001cee341fdb12  Yo bitch Ja Rule is more succesful then you'll...\n",
              "1       0000247867823ef7  == From RfC == \\n\\n The title is fine as it is...\n",
              "2       00013b17ad220c46  \" \\n\\n == Sources == \\n\\n * Zawe Ashton on Lap...\n",
              "3       00017563c3f7919a  :If you have a look back at the source, the in...\n",
              "4       00017695ad8997eb          I don't anonymously edit articles at all.\n",
              "...                  ...                                                ...\n",
              "153159  fffcd0960ee309b5  . \\n i totally agree, this stuff is nothing bu...\n",
              "153160  fffd7a9a6eb32c16  == Throw from out field to home plate. == \\n\\n...\n",
              "153161  fffda9e8d6fafa9e  \" \\n\\n == Okinotorishima categories == \\n\\n I ...\n",
              "153162  fffe8f1340a79fc2  \" \\n\\n == \"\"One of the founding nations of the...\n",
              "153163  ffffce3fb183ee80  \" \\n :::Stop already. Your bullshit is not wel...\n",
              "\n",
              "[153164 rows x 2 columns]"
            ],
            "text/html": [
              "\n",
              "  <div id=\"df-73992cbe-8120-4b14-aae3-3be387099f3e\">\n",
              "    <div class=\"colab-df-container\">\n",
              "      <div>\n",
              "<style scoped>\n",
              "    .dataframe tbody tr th:only-of-type {\n",
              "        vertical-align: middle;\n",
              "    }\n",
              "\n",
              "    .dataframe tbody tr th {\n",
              "        vertical-align: top;\n",
              "    }\n",
              "\n",
              "    .dataframe thead th {\n",
              "        text-align: right;\n",
              "    }\n",
              "</style>\n",
              "<table border=\"1\" class=\"dataframe\">\n",
              "  <thead>\n",
              "    <tr style=\"text-align: right;\">\n",
              "      <th></th>\n",
              "      <th>id</th>\n",
              "      <th>comment_text</th>\n",
              "    </tr>\n",
              "  </thead>\n",
              "  <tbody>\n",
              "    <tr>\n",
              "      <th>0</th>\n",
              "      <td>00001cee341fdb12</td>\n",
              "      <td>Yo bitch Ja Rule is more succesful then you'll...</td>\n",
              "    </tr>\n",
              "    <tr>\n",
              "      <th>1</th>\n",
              "      <td>0000247867823ef7</td>\n",
              "      <td>== From RfC == \\n\\n The title is fine as it is...</td>\n",
              "    </tr>\n",
              "    <tr>\n",
              "      <th>2</th>\n",
              "      <td>00013b17ad220c46</td>\n",
              "      <td>\" \\n\\n == Sources == \\n\\n * Zawe Ashton on Lap...</td>\n",
              "    </tr>\n",
              "    <tr>\n",
              "      <th>3</th>\n",
              "      <td>00017563c3f7919a</td>\n",
              "      <td>:If you have a look back at the source, the in...</td>\n",
              "    </tr>\n",
              "    <tr>\n",
              "      <th>4</th>\n",
              "      <td>00017695ad8997eb</td>\n",
              "      <td>I don't anonymously edit articles at all.</td>\n",
              "    </tr>\n",
              "    <tr>\n",
              "      <th>...</th>\n",
              "      <td>...</td>\n",
              "      <td>...</td>\n",
              "    </tr>\n",
              "    <tr>\n",
              "      <th>153159</th>\n",
              "      <td>fffcd0960ee309b5</td>\n",
              "      <td>. \\n i totally agree, this stuff is nothing bu...</td>\n",
              "    </tr>\n",
              "    <tr>\n",
              "      <th>153160</th>\n",
              "      <td>fffd7a9a6eb32c16</td>\n",
              "      <td>== Throw from out field to home plate. == \\n\\n...</td>\n",
              "    </tr>\n",
              "    <tr>\n",
              "      <th>153161</th>\n",
              "      <td>fffda9e8d6fafa9e</td>\n",
              "      <td>\" \\n\\n == Okinotorishima categories == \\n\\n I ...</td>\n",
              "    </tr>\n",
              "    <tr>\n",
              "      <th>153162</th>\n",
              "      <td>fffe8f1340a79fc2</td>\n",
              "      <td>\" \\n\\n == \"\"One of the founding nations of the...</td>\n",
              "    </tr>\n",
              "    <tr>\n",
              "      <th>153163</th>\n",
              "      <td>ffffce3fb183ee80</td>\n",
              "      <td>\" \\n :::Stop already. Your bullshit is not wel...</td>\n",
              "    </tr>\n",
              "  </tbody>\n",
              "</table>\n",
              "<p>153164 rows × 2 columns</p>\n",
              "</div>\n",
              "      <button class=\"colab-df-convert\" onclick=\"convertToInteractive('df-73992cbe-8120-4b14-aae3-3be387099f3e')\"\n",
              "              title=\"Convert this dataframe to an interactive table.\"\n",
              "              style=\"display:none;\">\n",
              "        \n",
              "  <svg xmlns=\"http://www.w3.org/2000/svg\" height=\"24px\"viewBox=\"0 0 24 24\"\n",
              "       width=\"24px\">\n",
              "    <path d=\"M0 0h24v24H0V0z\" fill=\"none\"/>\n",
              "    <path d=\"M18.56 5.44l.94 2.06.94-2.06 2.06-.94-2.06-.94-.94-2.06-.94 2.06-2.06.94zm-11 1L8.5 8.5l.94-2.06 2.06-.94-2.06-.94L8.5 2.5l-.94 2.06-2.06.94zm10 10l.94 2.06.94-2.06 2.06-.94-2.06-.94-.94-2.06-.94 2.06-2.06.94z\"/><path d=\"M17.41 7.96l-1.37-1.37c-.4-.4-.92-.59-1.43-.59-.52 0-1.04.2-1.43.59L10.3 9.45l-7.72 7.72c-.78.78-.78 2.05 0 2.83L4 21.41c.39.39.9.59 1.41.59.51 0 1.02-.2 1.41-.59l7.78-7.78 2.81-2.81c.8-.78.8-2.07 0-2.86zM5.41 20L4 18.59l7.72-7.72 1.47 1.35L5.41 20z\"/>\n",
              "  </svg>\n",
              "      </button>\n",
              "      \n",
              "  <style>\n",
              "    .colab-df-container {\n",
              "      display:flex;\n",
              "      flex-wrap:wrap;\n",
              "      gap: 12px;\n",
              "    }\n",
              "\n",
              "    .colab-df-convert {\n",
              "      background-color: #E8F0FE;\n",
              "      border: none;\n",
              "      border-radius: 50%;\n",
              "      cursor: pointer;\n",
              "      display: none;\n",
              "      fill: #1967D2;\n",
              "      height: 32px;\n",
              "      padding: 0 0 0 0;\n",
              "      width: 32px;\n",
              "    }\n",
              "\n",
              "    .colab-df-convert:hover {\n",
              "      background-color: #E2EBFA;\n",
              "      box-shadow: 0px 1px 2px rgba(60, 64, 67, 0.3), 0px 1px 3px 1px rgba(60, 64, 67, 0.15);\n",
              "      fill: #174EA6;\n",
              "    }\n",
              "\n",
              "    [theme=dark] .colab-df-convert {\n",
              "      background-color: #3B4455;\n",
              "      fill: #D2E3FC;\n",
              "    }\n",
              "\n",
              "    [theme=dark] .colab-df-convert:hover {\n",
              "      background-color: #434B5C;\n",
              "      box-shadow: 0px 1px 3px 1px rgba(0, 0, 0, 0.15);\n",
              "      filter: drop-shadow(0px 1px 2px rgba(0, 0, 0, 0.3));\n",
              "      fill: #FFFFFF;\n",
              "    }\n",
              "  </style>\n",
              "\n",
              "      <script>\n",
              "        const buttonEl =\n",
              "          document.querySelector('#df-73992cbe-8120-4b14-aae3-3be387099f3e button.colab-df-convert');\n",
              "        buttonEl.style.display =\n",
              "          google.colab.kernel.accessAllowed ? 'block' : 'none';\n",
              "\n",
              "        async function convertToInteractive(key) {\n",
              "          const element = document.querySelector('#df-73992cbe-8120-4b14-aae3-3be387099f3e');\n",
              "          const dataTable =\n",
              "            await google.colab.kernel.invokeFunction('convertToInteractive',\n",
              "                                                     [key], {});\n",
              "          if (!dataTable) return;\n",
              "\n",
              "          const docLinkHtml = 'Like what you see? Visit the ' +\n",
              "            '<a target=\"_blank\" href=https://colab.research.google.com/notebooks/data_table.ipynb>data table notebook</a>'\n",
              "            + ' to learn more about interactive tables.';\n",
              "          element.innerHTML = '';\n",
              "          dataTable['output_type'] = 'display_data';\n",
              "          await google.colab.output.renderOutput(dataTable, element);\n",
              "          const docLink = document.createElement('div');\n",
              "          docLink.innerHTML = docLinkHtml;\n",
              "          element.appendChild(docLink);\n",
              "        }\n",
              "      </script>\n",
              "    </div>\n",
              "  </div>\n",
              "  "
            ]
          },
          "metadata": {},
          "execution_count": 15
        }
      ]
    },
    {
      "cell_type": "code",
      "source": [
        "sub_df"
      ],
      "metadata": {
        "colab": {
          "base_uri": "https://localhost:8080/",
          "height": 424
        },
        "id": "cuIeuRMOOB_q",
        "outputId": "f08bddb6-8bf8-4fff-b4e1-d5e47f364817"
      },
      "execution_count": 16,
      "outputs": [
        {
          "output_type": "execute_result",
          "data": {
            "text/plain": [
              "                      id  toxic  severe_toxic  obscene  threat  insult  \\\n",
              "0       00001cee341fdb12    0.5           0.5      0.5     0.5     0.5   \n",
              "1       0000247867823ef7    0.5           0.5      0.5     0.5     0.5   \n",
              "2       00013b17ad220c46    0.5           0.5      0.5     0.5     0.5   \n",
              "3       00017563c3f7919a    0.5           0.5      0.5     0.5     0.5   \n",
              "4       00017695ad8997eb    0.5           0.5      0.5     0.5     0.5   \n",
              "...                  ...    ...           ...      ...     ...     ...   \n",
              "153159  fffcd0960ee309b5    0.5           0.5      0.5     0.5     0.5   \n",
              "153160  fffd7a9a6eb32c16    0.5           0.5      0.5     0.5     0.5   \n",
              "153161  fffda9e8d6fafa9e    0.5           0.5      0.5     0.5     0.5   \n",
              "153162  fffe8f1340a79fc2    0.5           0.5      0.5     0.5     0.5   \n",
              "153163  ffffce3fb183ee80    0.5           0.5      0.5     0.5     0.5   \n",
              "\n",
              "        identity_hate  \n",
              "0                 0.5  \n",
              "1                 0.5  \n",
              "2                 0.5  \n",
              "3                 0.5  \n",
              "4                 0.5  \n",
              "...               ...  \n",
              "153159            0.5  \n",
              "153160            0.5  \n",
              "153161            0.5  \n",
              "153162            0.5  \n",
              "153163            0.5  \n",
              "\n",
              "[153164 rows x 7 columns]"
            ],
            "text/html": [
              "\n",
              "  <div id=\"df-066404bc-a2e8-475f-b096-0a285c7dd55a\">\n",
              "    <div class=\"colab-df-container\">\n",
              "      <div>\n",
              "<style scoped>\n",
              "    .dataframe tbody tr th:only-of-type {\n",
              "        vertical-align: middle;\n",
              "    }\n",
              "\n",
              "    .dataframe tbody tr th {\n",
              "        vertical-align: top;\n",
              "    }\n",
              "\n",
              "    .dataframe thead th {\n",
              "        text-align: right;\n",
              "    }\n",
              "</style>\n",
              "<table border=\"1\" class=\"dataframe\">\n",
              "  <thead>\n",
              "    <tr style=\"text-align: right;\">\n",
              "      <th></th>\n",
              "      <th>id</th>\n",
              "      <th>toxic</th>\n",
              "      <th>severe_toxic</th>\n",
              "      <th>obscene</th>\n",
              "      <th>threat</th>\n",
              "      <th>insult</th>\n",
              "      <th>identity_hate</th>\n",
              "    </tr>\n",
              "  </thead>\n",
              "  <tbody>\n",
              "    <tr>\n",
              "      <th>0</th>\n",
              "      <td>00001cee341fdb12</td>\n",
              "      <td>0.5</td>\n",
              "      <td>0.5</td>\n",
              "      <td>0.5</td>\n",
              "      <td>0.5</td>\n",
              "      <td>0.5</td>\n",
              "      <td>0.5</td>\n",
              "    </tr>\n",
              "    <tr>\n",
              "      <th>1</th>\n",
              "      <td>0000247867823ef7</td>\n",
              "      <td>0.5</td>\n",
              "      <td>0.5</td>\n",
              "      <td>0.5</td>\n",
              "      <td>0.5</td>\n",
              "      <td>0.5</td>\n",
              "      <td>0.5</td>\n",
              "    </tr>\n",
              "    <tr>\n",
              "      <th>2</th>\n",
              "      <td>00013b17ad220c46</td>\n",
              "      <td>0.5</td>\n",
              "      <td>0.5</td>\n",
              "      <td>0.5</td>\n",
              "      <td>0.5</td>\n",
              "      <td>0.5</td>\n",
              "      <td>0.5</td>\n",
              "    </tr>\n",
              "    <tr>\n",
              "      <th>3</th>\n",
              "      <td>00017563c3f7919a</td>\n",
              "      <td>0.5</td>\n",
              "      <td>0.5</td>\n",
              "      <td>0.5</td>\n",
              "      <td>0.5</td>\n",
              "      <td>0.5</td>\n",
              "      <td>0.5</td>\n",
              "    </tr>\n",
              "    <tr>\n",
              "      <th>4</th>\n",
              "      <td>00017695ad8997eb</td>\n",
              "      <td>0.5</td>\n",
              "      <td>0.5</td>\n",
              "      <td>0.5</td>\n",
              "      <td>0.5</td>\n",
              "      <td>0.5</td>\n",
              "      <td>0.5</td>\n",
              "    </tr>\n",
              "    <tr>\n",
              "      <th>...</th>\n",
              "      <td>...</td>\n",
              "      <td>...</td>\n",
              "      <td>...</td>\n",
              "      <td>...</td>\n",
              "      <td>...</td>\n",
              "      <td>...</td>\n",
              "      <td>...</td>\n",
              "    </tr>\n",
              "    <tr>\n",
              "      <th>153159</th>\n",
              "      <td>fffcd0960ee309b5</td>\n",
              "      <td>0.5</td>\n",
              "      <td>0.5</td>\n",
              "      <td>0.5</td>\n",
              "      <td>0.5</td>\n",
              "      <td>0.5</td>\n",
              "      <td>0.5</td>\n",
              "    </tr>\n",
              "    <tr>\n",
              "      <th>153160</th>\n",
              "      <td>fffd7a9a6eb32c16</td>\n",
              "      <td>0.5</td>\n",
              "      <td>0.5</td>\n",
              "      <td>0.5</td>\n",
              "      <td>0.5</td>\n",
              "      <td>0.5</td>\n",
              "      <td>0.5</td>\n",
              "    </tr>\n",
              "    <tr>\n",
              "      <th>153161</th>\n",
              "      <td>fffda9e8d6fafa9e</td>\n",
              "      <td>0.5</td>\n",
              "      <td>0.5</td>\n",
              "      <td>0.5</td>\n",
              "      <td>0.5</td>\n",
              "      <td>0.5</td>\n",
              "      <td>0.5</td>\n",
              "    </tr>\n",
              "    <tr>\n",
              "      <th>153162</th>\n",
              "      <td>fffe8f1340a79fc2</td>\n",
              "      <td>0.5</td>\n",
              "      <td>0.5</td>\n",
              "      <td>0.5</td>\n",
              "      <td>0.5</td>\n",
              "      <td>0.5</td>\n",
              "      <td>0.5</td>\n",
              "    </tr>\n",
              "    <tr>\n",
              "      <th>153163</th>\n",
              "      <td>ffffce3fb183ee80</td>\n",
              "      <td>0.5</td>\n",
              "      <td>0.5</td>\n",
              "      <td>0.5</td>\n",
              "      <td>0.5</td>\n",
              "      <td>0.5</td>\n",
              "      <td>0.5</td>\n",
              "    </tr>\n",
              "  </tbody>\n",
              "</table>\n",
              "<p>153164 rows × 7 columns</p>\n",
              "</div>\n",
              "      <button class=\"colab-df-convert\" onclick=\"convertToInteractive('df-066404bc-a2e8-475f-b096-0a285c7dd55a')\"\n",
              "              title=\"Convert this dataframe to an interactive table.\"\n",
              "              style=\"display:none;\">\n",
              "        \n",
              "  <svg xmlns=\"http://www.w3.org/2000/svg\" height=\"24px\"viewBox=\"0 0 24 24\"\n",
              "       width=\"24px\">\n",
              "    <path d=\"M0 0h24v24H0V0z\" fill=\"none\"/>\n",
              "    <path d=\"M18.56 5.44l.94 2.06.94-2.06 2.06-.94-2.06-.94-.94-2.06-.94 2.06-2.06.94zm-11 1L8.5 8.5l.94-2.06 2.06-.94-2.06-.94L8.5 2.5l-.94 2.06-2.06.94zm10 10l.94 2.06.94-2.06 2.06-.94-2.06-.94-.94-2.06-.94 2.06-2.06.94z\"/><path d=\"M17.41 7.96l-1.37-1.37c-.4-.4-.92-.59-1.43-.59-.52 0-1.04.2-1.43.59L10.3 9.45l-7.72 7.72c-.78.78-.78 2.05 0 2.83L4 21.41c.39.39.9.59 1.41.59.51 0 1.02-.2 1.41-.59l7.78-7.78 2.81-2.81c.8-.78.8-2.07 0-2.86zM5.41 20L4 18.59l7.72-7.72 1.47 1.35L5.41 20z\"/>\n",
              "  </svg>\n",
              "      </button>\n",
              "      \n",
              "  <style>\n",
              "    .colab-df-container {\n",
              "      display:flex;\n",
              "      flex-wrap:wrap;\n",
              "      gap: 12px;\n",
              "    }\n",
              "\n",
              "    .colab-df-convert {\n",
              "      background-color: #E8F0FE;\n",
              "      border: none;\n",
              "      border-radius: 50%;\n",
              "      cursor: pointer;\n",
              "      display: none;\n",
              "      fill: #1967D2;\n",
              "      height: 32px;\n",
              "      padding: 0 0 0 0;\n",
              "      width: 32px;\n",
              "    }\n",
              "\n",
              "    .colab-df-convert:hover {\n",
              "      background-color: #E2EBFA;\n",
              "      box-shadow: 0px 1px 2px rgba(60, 64, 67, 0.3), 0px 1px 3px 1px rgba(60, 64, 67, 0.15);\n",
              "      fill: #174EA6;\n",
              "    }\n",
              "\n",
              "    [theme=dark] .colab-df-convert {\n",
              "      background-color: #3B4455;\n",
              "      fill: #D2E3FC;\n",
              "    }\n",
              "\n",
              "    [theme=dark] .colab-df-convert:hover {\n",
              "      background-color: #434B5C;\n",
              "      box-shadow: 0px 1px 3px 1px rgba(0, 0, 0, 0.15);\n",
              "      filter: drop-shadow(0px 1px 2px rgba(0, 0, 0, 0.3));\n",
              "      fill: #FFFFFF;\n",
              "    }\n",
              "  </style>\n",
              "\n",
              "      <script>\n",
              "        const buttonEl =\n",
              "          document.querySelector('#df-066404bc-a2e8-475f-b096-0a285c7dd55a button.colab-df-convert');\n",
              "        buttonEl.style.display =\n",
              "          google.colab.kernel.accessAllowed ? 'block' : 'none';\n",
              "\n",
              "        async function convertToInteractive(key) {\n",
              "          const element = document.querySelector('#df-066404bc-a2e8-475f-b096-0a285c7dd55a');\n",
              "          const dataTable =\n",
              "            await google.colab.kernel.invokeFunction('convertToInteractive',\n",
              "                                                     [key], {});\n",
              "          if (!dataTable) return;\n",
              "\n",
              "          const docLinkHtml = 'Like what you see? Visit the ' +\n",
              "            '<a target=\"_blank\" href=https://colab.research.google.com/notebooks/data_table.ipynb>data table notebook</a>'\n",
              "            + ' to learn more about interactive tables.';\n",
              "          element.innerHTML = '';\n",
              "          dataTable['output_type'] = 'display_data';\n",
              "          await google.colab.output.renderOutput(dataTable, element);\n",
              "          const docLink = document.createElement('div');\n",
              "          docLink.innerHTML = docLinkHtml;\n",
              "          element.appendChild(docLink);\n",
              "        }\n",
              "      </script>\n",
              "    </div>\n",
              "  </div>\n",
              "  "
            ]
          },
          "metadata": {},
          "execution_count": 16
        }
      ]
    },
    {
      "cell_type": "markdown",
      "source": [
        "# 2. Preparing the data for training\n",
        "\n",
        "- Create vocabulary using TorchText\n",
        "- Create training and validation sets\n",
        "- Create PyTorch Dataloaders"
      ],
      "metadata": {
        "id": "12cJio4bOHt0"
      }
    },
    {
      "cell_type": "markdown",
      "source": [
        "### Create a Vocabulary"
      ],
      "metadata": {
        "id": "EPZNCna4RUvy"
      }
    },
    {
      "cell_type": "markdown",
      "source": [
        "The tokenizer does the job same as a normal tokenize function as we defined in the earlier notebooks"
      ],
      "metadata": {
        "id": "5bBwRGtoO5Qn"
      }
    },
    {
      "cell_type": "code",
      "source": [
        "from torchtext.data.utils import get_tokenizer"
      ],
      "metadata": {
        "id": "UA8w938xOF40"
      },
      "execution_count": 17,
      "outputs": []
    },
    {
      "cell_type": "code",
      "source": [
        "tokenizer = get_tokenizer('basic_english')"
      ],
      "metadata": {
        "id": "V5KUg-w7OdBa"
      },
      "execution_count": 18,
      "outputs": []
    },
    {
      "cell_type": "code",
      "source": [
        "sample_comment = raw_df.comment_text.values[0]\n",
        "sample_comment"
      ],
      "metadata": {
        "colab": {
          "base_uri": "https://localhost:8080/",
          "height": 53
        },
        "id": "fkGnAUcvOgGd",
        "outputId": "0e022f10-59e8-4d32-d599-b704dcae430f"
      },
      "execution_count": 21,
      "outputs": [
        {
          "output_type": "execute_result",
          "data": {
            "text/plain": [
              "\"Explanation\\nWhy the edits made under my username Hardcore Metallica Fan were reverted? They weren't vandalisms, just closure on some GAs after I voted at New York Dolls FAC. And please don't remove the template from the talk page since I'm retired now.89.205.38.27\""
            ],
            "application/vnd.google.colaboratory.intrinsic+json": {
              "type": "string"
            }
          },
          "metadata": {},
          "execution_count": 21
        }
      ]
    },
    {
      "cell_type": "code",
      "source": [
        "sample_comment_tokens = tokenizer(sample_comment)\n",
        "sample_comment_tokens[:10]"
      ],
      "metadata": {
        "colab": {
          "base_uri": "https://localhost:8080/"
        },
        "id": "fY3-KwxwOkaf",
        "outputId": "b40f8c74-84b2-4001-e15e-4c27297b7859"
      },
      "execution_count": 22,
      "outputs": [
        {
          "output_type": "execute_result",
          "data": {
            "text/plain": [
              "['explanation',\n",
              " 'why',\n",
              " 'the',\n",
              " 'edits',\n",
              " 'made',\n",
              " 'under',\n",
              " 'my',\n",
              " 'username',\n",
              " 'hardcore',\n",
              " 'metallica']"
            ]
          },
          "metadata": {},
          "execution_count": 22
        }
      ]
    },
    {
      "cell_type": "markdown",
      "source": [
        "Vocabulary is also present in torchtext.vocab"
      ],
      "metadata": {
        "id": "SCfjHddoPBfH"
      }
    },
    {
      "cell_type": "code",
      "source": [
        "from torchtext.vocab import build_vocab_from_iterator"
      ],
      "metadata": {
        "id": "K98bbS0ZOuQB"
      },
      "execution_count": 23,
      "outputs": []
    },
    {
      "cell_type": "code",
      "source": [
        "VOCAB_SIZE = 2000\n",
        "comment_tokens = raw_df.comment_text.map(tokenizer)\n",
        "comment_tokens"
      ],
      "metadata": {
        "colab": {
          "base_uri": "https://localhost:8080/"
        },
        "id": "b9NIy6lKPeNm",
        "outputId": "5932dc07-02da-4d32-f755-441bf03937d5"
      },
      "execution_count": 36,
      "outputs": [
        {
          "output_type": "execute_result",
          "data": {
            "text/plain": [
              "0         [explanation, why, the, edits, made, under, my...\n",
              "1         [d, ', aww, !, he, matches, this, background, ...\n",
              "2         [hey, man, ,, i, ', m, really, not, trying, to...\n",
              "3         [more, i, can, ', t, make, any, real, suggesti...\n",
              "4         [you, ,, sir, ,, are, my, hero, ., any, chance...\n",
              "                                ...                        \n",
              "159566    [and, for, the, second, time, of, asking, ,, w...\n",
              "159567    [you, should, be, ashamed, of, yourself, that,...\n",
              "159568    [spitzer, umm, ,, theres, no, actual, article,...\n",
              "159569    [and, it, looks, like, it, was, actually, you,...\n",
              "159570    [and, ., ., ., i, really, don, ', t, think, yo...\n",
              "Name: comment_text, Length: 159571, dtype: object"
            ]
          },
          "metadata": {},
          "execution_count": 36
        }
      ]
    },
    {
      "cell_type": "code",
      "source": [
        "unk_token = '<unk>' # Used to represent words not present in the vocabulary\n",
        "pad_token = '<pad>' # Used to trim the longer sentences into shorter since RNN requires input sentences of same size"
      ],
      "metadata": {
        "id": "uuiPgTOyPqJo"
      },
      "execution_count": 37,
      "outputs": []
    },
    {
      "cell_type": "code",
      "source": [
        "vocab = build_vocab_from_iterator(comment_tokens,specials=[unk_token,pad_token],max_tokens = VOCAB_SIZE)"
      ],
      "metadata": {
        "id": "nwocsfjgPMbs"
      },
      "execution_count": 38,
      "outputs": []
    },
    {
      "cell_type": "markdown",
      "source": [
        "Vocab assign a number of every word"
      ],
      "metadata": {
        "id": "zJoDk22AQMLF"
      }
    },
    {
      "cell_type": "code",
      "source": [
        "vocab['this']"
      ],
      "metadata": {
        "colab": {
          "base_uri": "https://localhost:8080/"
        },
        "id": "rEdv5kyDQFDp",
        "outputId": "5c25ca7a-027f-49b5-9b2b-8b0c83790281"
      },
      "execution_count": 39,
      "outputs": [
        {
          "output_type": "execute_result",
          "data": {
            "text/plain": [
              "18"
            ]
          },
          "metadata": {},
          "execution_count": 39
        }
      ]
    },
    {
      "cell_type": "markdown",
      "source": [
        "This error is due to the fact that the vocabulary does not contains the word \"hardcore\" due to the smaller vocabulary size"
      ],
      "metadata": {
        "id": "DX4c5Kz3QldZ"
      }
    },
    {
      "cell_type": "code",
      "source": [
        "vocab.set_default_index(vocab[unk_token])"
      ],
      "metadata": {
        "id": "Avfu5SqZQuu-"
      },
      "execution_count": 40,
      "outputs": []
    },
    {
      "cell_type": "code",
      "source": [
        "vocab['harcore']"
      ],
      "metadata": {
        "colab": {
          "base_uri": "https://localhost:8080/"
        },
        "id": "TEuFWYI-Q0gb",
        "outputId": "e6de4708-5725-4d16-e1ec-bb49ea16d5e8"
      },
      "execution_count": 41,
      "outputs": [
        {
          "output_type": "execute_result",
          "data": {
            "text/plain": [
              "0"
            ]
          },
          "metadata": {},
          "execution_count": 41
        }
      ]
    },
    {
      "cell_type": "code",
      "source": [
        "sample_indices = vocab.lookup_indices(sample_comment_tokens)\n",
        "sample_indices[:10]"
      ],
      "metadata": {
        "colab": {
          "base_uri": "https://localhost:8080/"
        },
        "id": "i__nYacEQKWW",
        "outputId": "e154b419-d5b3-4c7b-c3d3-b7a6b7e88a31"
      },
      "execution_count": 46,
      "outputs": [
        {
          "output_type": "execute_result",
          "data": {
            "text/plain": [
              "[667, 85, 3, 140, 142, 185, 39, 663, 0, 0]"
            ]
          },
          "metadata": {},
          "execution_count": 46
        }
      ]
    },
    {
      "cell_type": "code",
      "source": [
        "sample_comment_recovered = vocab.lookup_tokens(sample_indices)\n",
        "sample_comment_recovered[:10]"
      ],
      "metadata": {
        "colab": {
          "base_uri": "https://localhost:8080/"
        },
        "id": "4LtsiuKVQWkr",
        "outputId": "00077b03-7548-4d7f-a70d-9955730e7077"
      },
      "execution_count": 47,
      "outputs": [
        {
          "output_type": "execute_result",
          "data": {
            "text/plain": [
              "['explanation',\n",
              " 'why',\n",
              " 'the',\n",
              " 'edits',\n",
              " 'made',\n",
              " 'under',\n",
              " 'my',\n",
              " 'username',\n",
              " '<unk>',\n",
              " '<unk>']"
            ]
          },
          "metadata": {},
          "execution_count": 47
        }
      ]
    },
    {
      "cell_type": "markdown",
      "source": [
        "### Create training and validation sets\n",
        "\n",
        "- Create a Pytorch Dataset\n",
        "- Pass raw data into the dataset\n",
        "- Split the PyTorch Dataset"
      ],
      "metadata": {
        "id": "FTG-N1NVRX0u"
      }
    },
    {
      "cell_type": "code",
      "source": [
        "from torch.utils.data import Dataset"
      ],
      "metadata": {
        "id": "Mz0DePPPRIHB"
      },
      "execution_count": 48,
      "outputs": []
    },
    {
      "cell_type": "code",
      "source": [
        "raw_df.comment_text.sample(1000)"
      ],
      "metadata": {
        "colab": {
          "base_uri": "https://localhost:8080/"
        },
        "id": "S0roqIlySbEc",
        "outputId": "be8f2aaf-041d-44cb-8d5f-75eb486d85cc"
      },
      "execution_count": 51,
      "outputs": [
        {
          "output_type": "execute_result",
          "data": {
            "text/plain": [
              "97934     \"\\n To Kayugd0, please stop the attacks. We ar...\n",
              "159540    I find this block ridiculous and a kick in the...\n",
              "97928     I, also, was expecting to read about CNet Game...\n",
              "92566     Berksguy \\n\\nI'm telling you right now that if...\n",
              "60861                              This is a sock of banned\n",
              "                                ...                        \n",
              "11176     \"\\n\\n Blocked \\n\\nYou have been temporarily bl...\n",
              "25924     \"\\nHe's just being a troll. He is going around...\n",
              "135037    \":::::::I didn't exactly \"\"find them\"\". They a...\n",
              "44434     Ok, I reverted back to the version from June 3...\n",
              "68342     Your recent edits to my user page \\n\\nI am sur...\n",
              "Name: comment_text, Length: 1000, dtype: object"
            ]
          },
          "metadata": {},
          "execution_count": 51
        }
      ]
    },
    {
      "cell_type": "code",
      "source": [
        "raw_df.comment_text.sample(1000).map(tokenizer)"
      ],
      "metadata": {
        "colab": {
          "base_uri": "https://localhost:8080/"
        },
        "id": "UDfQw0qrSdLw",
        "outputId": "261c82da-a2a0-4e70-d03e-213ef58d00f6"
      },
      "execution_count": 52,
      "outputs": [
        {
          "output_type": "execute_result",
          "data": {
            "text/plain": [
              "145700    [documentingabuse, thatcher, ,, i, would, like...\n",
              "82886     [sssssss, yooo, sweep, my, floor, mann, !, !, ...\n",
              "46963     [hey, ,, kid, quit, going, around, looking, fo...\n",
              "132211    [speedy, deletion, of, tim, keim, a, tag, has,...\n",
              "137803    [sorry, ,, but, if, you, want, this, article, ...\n",
              "                                ...                        \n",
              "120431    [so, barnstar, bundy, is, once, again, living,...\n",
              "67392     [i, really, don, ', t, know, why, i, ever, don...\n",
              "53859     [interesting, i, ', ve, just, read, this, http...\n",
              "110816    [i, have, tried, discussing, on, the, talk, pa...\n",
              "14572     [as, i, said, ,, jechoman, is, constantly, att...\n",
              "Name: comment_text, Length: 1000, dtype: object"
            ]
          },
          "metadata": {},
          "execution_count": 52
        }
      ]
    },
    {
      "cell_type": "code",
      "source": [
        "raw_df.comment_text.sample(1000).map(tokenizer).map(len)"
      ],
      "metadata": {
        "colab": {
          "base_uri": "https://localhost:8080/"
        },
        "id": "y3B2kz2FSfvi",
        "outputId": "4aa14a7b-6d7a-4cf4-c9ce-7014e2baae04"
      },
      "execution_count": 53,
      "outputs": [
        {
          "output_type": "execute_result",
          "data": {
            "text/plain": [
              "127949     30\n",
              "94991     157\n",
              "151562    661\n",
              "61490      46\n",
              "31347     104\n",
              "         ... \n",
              "141321     37\n",
              "74493     521\n",
              "102934    300\n",
              "151390     46\n",
              "25472      59\n",
              "Name: comment_text, Length: 1000, dtype: int64"
            ]
          },
          "metadata": {},
          "execution_count": 53
        }
      ]
    },
    {
      "cell_type": "code",
      "source": [
        "raw_df.comment_text.sample(1000).map(tokenizer).map(len).value_counts().plot(kind='hist')"
      ],
      "metadata": {
        "colab": {
          "base_uri": "https://localhost:8080/",
          "height": 282
        },
        "id": "N0XzJf46SLKB",
        "outputId": "d559648f-5c87-46f3-c443-28cbdb3f7617"
      },
      "execution_count": 55,
      "outputs": [
        {
          "output_type": "execute_result",
          "data": {
            "text/plain": [
              "<matplotlib.axes._subplots.AxesSubplot at 0x7fa256b54040>"
            ]
          },
          "metadata": {},
          "execution_count": 55
        },
        {
          "output_type": "display_data",
          "data": {
            "text/plain": [
              "<Figure size 432x288 with 1 Axes>"
            ],
            "image/png": "[encoded data removed]"
          },
          "metadata": {
            "needs_background": "light"
          }
        }
      ]
    },
    {
      "cell_type": "code",
      "source": [
        "MAX_LENGTH = 150"
      ],
      "metadata": {
        "id": "FU2WEvKVSIf_"
      },
      "execution_count": 63,
      "outputs": []
    },
    {
      "cell_type": "code",
      "source": [
        "def pad_tokens(tokens):\n",
        "  if(len(tokens) >= MAX_LENGTH):\n",
        "    return tokens[:MAX_LENGTH]\n",
        "  else:\n",
        "    return tokens + [pad_token] * (MAX_LENGTH - len(tokens))"
      ],
      "metadata": {
        "id": "rP723h4bSsET"
      },
      "execution_count": 64,
      "outputs": []
    },
    {
      "cell_type": "code",
      "source": [
        "pad_tokens(tokenizer(\"Hello Aakkash\"))"
      ],
      "metadata": {
        "colab": {
          "base_uri": "https://localhost:8080/"
        },
        "id": "pGTFF9FJS_3v",
        "outputId": "f4e5ba0a-856f-4f1e-d250-f41c8e9f40e1"
      },
      "execution_count": 61,
      "outputs": [
        {
          "output_type": "execute_result",
          "data": {
            "text/plain": [
              "['hello', 'aakkash', '<pad>', '<pad>', '<pad>']"
            ]
          },
          "metadata": {},
          "execution_count": 61
        }
      ]
    },
    {
      "cell_type": "code",
      "source": [
        "import torch"
      ],
      "metadata": {
        "id": "jlP-czDFTfIJ"
      },
      "execution_count": 65,
      "outputs": []
    },
    {
      "cell_type": "code",
      "source": [
        "class JigsawDataset(Dataset):\n",
        "    def __init__(self, df, is_test=False):\n",
        "        self.df = df\n",
        "        self.is_test = is_test\n",
        "\n",
        "    def __getitem__(self, index):\n",
        "        comment_text = self.df.comment_text.values[index]\n",
        "        comment_tokens = pad_tokens(tokenizer(comment_text))\n",
        "        input = torch.tensor(vocab.lookup_indices(comment_tokens))\n",
        "        if self.is_test:\n",
        "            target = torch.tensor([0,0,0,0,0,0]).float()\n",
        "        else:\n",
        "            target = torch.tensor(self.df[target_cols].values[index]).float()\n",
        "        return input, target\n",
        "\n",
        "    def __len__(self):\n",
        "        return len(self.df)"
      ],
      "metadata": {
        "id": "Kbw2kMRkRnbE"
      },
      "execution_count": 82,
      "outputs": []
    },
    {
      "cell_type": "code",
      "source": [
        "raw_ds = JigsawDataset(raw_df)"
      ],
      "metadata": {
        "id": "mQFo1djbT4bj"
      },
      "execution_count": 83,
      "outputs": []
    },
    {
      "cell_type": "code",
      "source": [
        "raw_df.head(5)"
      ],
      "metadata": {
        "colab": {
          "base_uri": "https://localhost:8080/",
          "height": 206
        },
        "id": "dG9GIZAnT639",
        "outputId": "b7d2b18d-b48e-4400-c7b4-f3416a306384"
      },
      "execution_count": 84,
      "outputs": [
        {
          "output_type": "execute_result",
          "data": {
            "text/plain": [
              "                 id                                       comment_text  toxic  \\\n",
              "0  0000997932d777bf  Explanation\\nWhy the edits made under my usern...      0   \n",
              "1  000103f0d9cfb60f  D'aww! He matches this background colour I'm s...      0   \n",
              "2  000113f07ec002fd  Hey man, I'm really not trying to edit war. It...      0   \n",
              "3  0001b41b1c6bb37e  \"\\nMore\\nI can't make any real suggestions on ...      0   \n",
              "4  0001d958c54c6e35  You, sir, are my hero. Any chance you remember...      0   \n",
              "\n",
              "   severe_toxic  obscene  threat  insult  identity_hate  \n",
              "0             0        0       0       0              0  \n",
              "1             0        0       0       0              0  \n",
              "2             0        0       0       0              0  \n",
              "3             0        0       0       0              0  \n",
              "4             0        0       0       0              0  "
            ],
            "text/html": [
              "\n",
              "  <div id=\"df-20f7a793-3b03-42c5-80e6-57a4500199a4\">\n",
              "    <div class=\"colab-df-container\">\n",
              "      <div>\n",
              "<style scoped>\n",
              "    .dataframe tbody tr th:only-of-type {\n",
              "        vertical-align: middle;\n",
              "    }\n",
              "\n",
              "    .dataframe tbody tr th {\n",
              "        vertical-align: top;\n",
              "    }\n",
              "\n",
              "    .dataframe thead th {\n",
              "        text-align: right;\n",
              "    }\n",
              "</style>\n",
              "<table border=\"1\" class=\"dataframe\">\n",
              "  <thead>\n",
              "    <tr style=\"text-align: right;\">\n",
              "      <th></th>\n",
              "      <th>id</th>\n",
              "      <th>comment_text</th>\n",
              "      <th>toxic</th>\n",
              "      <th>severe_toxic</th>\n",
              "      <th>obscene</th>\n",
              "      <th>threat</th>\n",
              "      <th>insult</th>\n",
              "      <th>identity_hate</th>\n",
              "    </tr>\n",
              "  </thead>\n",
              "  <tbody>\n",
              "    <tr>\n",
              "      <th>0</th>\n",
              "      <td>0000997932d777bf</td>\n",
              "      <td>Explanation\\nWhy the edits made under my usern...</td>\n",
              "      <td>0</td>\n",
              "      <td>0</td>\n",
              "      <td>0</td>\n",
              "      <td>0</td>\n",
              "      <td>0</td>\n",
              "      <td>0</td>\n",
              "    </tr>\n",
              "    <tr>\n",
              "      <th>1</th>\n",
              "      <td>000103f0d9cfb60f</td>\n",
              "      <td>D'aww! He matches this background colour I'm s...</td>\n",
              "      <td>0</td>\n",
              "      <td>0</td>\n",
              "      <td>0</td>\n",
              "      <td>0</td>\n",
              "      <td>0</td>\n",
              "      <td>0</td>\n",
              "    </tr>\n",
              "    <tr>\n",
              "      <th>2</th>\n",
              "      <td>000113f07ec002fd</td>\n",
              "      <td>Hey man, I'm really not trying to edit war. It...</td>\n",
              "      <td>0</td>\n",
              "      <td>0</td>\n",
              "      <td>0</td>\n",
              "      <td>0</td>\n",
              "      <td>0</td>\n",
              "      <td>0</td>\n",
              "    </tr>\n",
              "    <tr>\n",
              "      <th>3</th>\n",
              "      <td>0001b41b1c6bb37e</td>\n",
              "      <td>\"\\nMore\\nI can't make any real suggestions on ...</td>\n",
              "      <td>0</td>\n",
              "      <td>0</td>\n",
              "      <td>0</td>\n",
              "      <td>0</td>\n",
              "      <td>0</td>\n",
              "      <td>0</td>\n",
              "    </tr>\n",
              "    <tr>\n",
              "      <th>4</th>\n",
              "      <td>0001d958c54c6e35</td>\n",
              "      <td>You, sir, are my hero. Any chance you remember...</td>\n",
              "      <td>0</td>\n",
              "      <td>0</td>\n",
              "      <td>0</td>\n",
              "      <td>0</td>\n",
              "      <td>0</td>\n",
              "      <td>0</td>\n",
              "    </tr>\n",
              "  </tbody>\n",
              "</table>\n",
              "</div>\n",
              "      <button class=\"colab-df-convert\" onclick=\"convertToInteractive('df-20f7a793-3b03-42c5-80e6-57a4500199a4')\"\n",
              "              title=\"Convert this dataframe to an interactive table.\"\n",
              "              style=\"display:none;\">\n",
              "        \n",
              "  <svg xmlns=\"http://www.w3.org/2000/svg\" height=\"24px\"viewBox=\"0 0 24 24\"\n",
              "       width=\"24px\">\n",
              "    <path d=\"M0 0h24v24H0V0z\" fill=\"none\"/>\n",
              "    <path d=\"M18.56 5.44l.94 2.06.94-2.06 2.06-.94-2.06-.94-.94-2.06-.94 2.06-2.06.94zm-11 1L8.5 8.5l.94-2.06 2.06-.94-2.06-.94L8.5 2.5l-.94 2.06-2.06.94zm10 10l.94 2.06.94-2.06 2.06-.94-2.06-.94-.94-2.06-.94 2.06-2.06.94z\"/><path d=\"M17.41 7.96l-1.37-1.37c-.4-.4-.92-.59-1.43-.59-.52 0-1.04.2-1.43.59L10.3 9.45l-7.72 7.72c-.78.78-.78 2.05 0 2.83L4 21.41c.39.39.9.59 1.41.59.51 0 1.02-.2 1.41-.59l7.78-7.78 2.81-2.81c.8-.78.8-2.07 0-2.86zM5.41 20L4 18.59l7.72-7.72 1.47 1.35L5.41 20z\"/>\n",
              "  </svg>\n",
              "      </button>\n",
              "      \n",
              "  <style>\n",
              "    .colab-df-container {\n",
              "      display:flex;\n",
              "      flex-wrap:wrap;\n",
              "      gap: 12px;\n",
              "    }\n",
              "\n",
              "    .colab-df-convert {\n",
              "      background-color: #E8F0FE;\n",
              "      border: none;\n",
              "      border-radius: 50%;\n",
              "      cursor: pointer;\n",
              "      display: none;\n",
              "      fill: #1967D2;\n",
              "      height: 32px;\n",
              "      padding: 0 0 0 0;\n",
              "      width: 32px;\n",
              "    }\n",
              "\n",
              "    .colab-df-convert:hover {\n",
              "      background-color: #E2EBFA;\n",
              "      box-shadow: 0px 1px 2px rgba(60, 64, 67, 0.3), 0px 1px 3px 1px rgba(60, 64, 67, 0.15);\n",
              "      fill: #174EA6;\n",
              "    }\n",
              "\n",
              "    [theme=dark] .colab-df-convert {\n",
              "      background-color: #3B4455;\n",
              "      fill: #D2E3FC;\n",
              "    }\n",
              "\n",
              "    [theme=dark] .colab-df-convert:hover {\n",
              "      background-color: #434B5C;\n",
              "      box-shadow: 0px 1px 3px 1px rgba(0, 0, 0, 0.15);\n",
              "      filter: drop-shadow(0px 1px 2px rgba(0, 0, 0, 0.3));\n",
              "      fill: #FFFFFF;\n",
              "    }\n",
              "  </style>\n",
              "\n",
              "      <script>\n",
              "        const buttonEl =\n",
              "          document.querySelector('#df-20f7a793-3b03-42c5-80e6-57a4500199a4 button.colab-df-convert');\n",
              "        buttonEl.style.display =\n",
              "          google.colab.kernel.accessAllowed ? 'block' : 'none';\n",
              "\n",
              "        async function convertToInteractive(key) {\n",
              "          const element = document.querySelector('#df-20f7a793-3b03-42c5-80e6-57a4500199a4');\n",
              "          const dataTable =\n",
              "            await google.colab.kernel.invokeFunction('convertToInteractive',\n",
              "                                                     [key], {});\n",
              "          if (!dataTable) return;\n",
              "\n",
              "          const docLinkHtml = 'Like what you see? Visit the ' +\n",
              "            '<a target=\"_blank\" href=https://colab.research.google.com/notebooks/data_table.ipynb>data table notebook</a>'\n",
              "            + ' to learn more about interactive tables.';\n",
              "          element.innerHTML = '';\n",
              "          dataTable['output_type'] = 'display_data';\n",
              "          await google.colab.output.renderOutput(dataTable, element);\n",
              "          const docLink = document.createElement('div');\n",
              "          docLink.innerHTML = docLinkHtml;\n",
              "          element.appendChild(docLink);\n",
              "        }\n",
              "      </script>\n",
              "    </div>\n",
              "  </div>\n",
              "  "
            ]
          },
          "metadata": {},
          "execution_count": 84
        }
      ]
    },
    {
      "cell_type": "code",
      "source": [
        "raw_ds[0]"
      ],
      "metadata": {
        "colab": {
          "base_uri": "https://localhost:8080/"
        },
        "id": "guZ-BTjeT8ln",
        "outputId": "64910447-2523-4312-b750-73c73e602766"
      },
      "execution_count": 85,
      "outputs": [
        {
          "output_type": "execute_result",
          "data": {
            "text/plain": [
              "(tensor([ 667,   85,    3,  140,  142,  185,   39,  663,    0,    0, 1287,   96,\n",
              "          329,   27,   57,    0,    9,   31,    0,    4,   61,    0,   21,   71,\n",
              "            0,  158,    6,    0,   45,  130, 1167,    0,    0,    2,    8,   55,\n",
              "           70,    9,   31,  253,    3,  369,   41,    3,   50,   38,  155,    6,\n",
              "            9,   81,    0,   99,    2,    0,    2,    0,    2,    0,    2, 1122,\n",
              "            1,    1,    1,    1,    1,    1,    1,    1,    1,    1,    1,    1,\n",
              "            1,    1,    1,    1,    1,    1,    1,    1,    1,    1,    1,    1,\n",
              "            1,    1,    1,    1,    1,    1,    1,    1,    1,    1,    1,    1,\n",
              "            1,    1,    1,    1,    1,    1,    1,    1,    1,    1,    1,    1,\n",
              "            1,    1,    1,    1,    1,    1,    1,    1,    1,    1,    1,    1,\n",
              "            1,    1,    1,    1,    1,    1,    1,    1,    1,    1,    1,    1,\n",
              "            1,    1,    1,    1,    1,    1,    1,    1,    1,    1,    1,    1,\n",
              "            1,    1,    1,    1,    1,    1]),\n",
              " tensor([0., 0., 0., 0., 0., 0.]))"
            ]
          },
          "metadata": {},
          "execution_count": 85
        }
      ]
    },
    {
      "cell_type": "code",
      "source": [
        "from torch.utils.data import random_split"
      ],
      "metadata": {
        "id": "Y1m1_TGNUOc0"
      },
      "execution_count": 86,
      "outputs": []
    },
    {
      "cell_type": "code",
      "source": [
        "VAL_SIZE = 0.25"
      ],
      "metadata": {
        "id": "pHRgXG1qVePo"
      },
      "execution_count": 87,
      "outputs": []
    },
    {
      "cell_type": "code",
      "source": [
        "train_ds,val_ds = random_split(raw_ds,[1-VAL_SIZE,VAL_SIZE])"
      ],
      "metadata": {
        "id": "ZpJ_rmatVfqG"
      },
      "execution_count": 89,
      "outputs": []
    },
    {
      "cell_type": "code",
      "source": [
        "len(raw_ds),len(train_ds),len(val_ds)"
      ],
      "metadata": {
        "colab": {
          "base_uri": "https://localhost:8080/"
        },
        "id": "wxRLssgwVlcQ",
        "outputId": "711e3b41-fbc2-4776-afda-530c612f149f"
      },
      "execution_count": 90,
      "outputs": [
        {
          "output_type": "execute_result",
          "data": {
            "text/plain": [
              "(159571, 119679, 39892)"
            ]
          },
          "metadata": {},
          "execution_count": 90
        }
      ]
    },
    {
      "cell_type": "code",
      "source": [
        "test_ds = JigsawDataset(test_df,is_test=True)\n",
        "test_ds[0]"
      ],
      "metadata": {
        "colab": {
          "base_uri": "https://localhost:8080/"
        },
        "id": "EvYwf9NRWywi",
        "outputId": "97e66c06-9088-435b-d43d-b51d2d7b2eb4"
      },
      "execution_count": 91,
      "outputs": [
        {
          "output_type": "execute_result",
          "data": {
            "text/plain": [
              "(tensor([   0,  636,    0,  649,   12,   69,    0,   93,   10,    9,  169,  359,\n",
              "           23,    0,   89,   30,   10,    8,    0,   10, 1488,    0,    2,    2,\n",
              "            2,    6,   68,  636,    0, 1850,    0,  690,    0,    8,  105,   10,\n",
              "            5,    0,   39,  419,   10,  699,    0,   46,    2,    0,  649,   12,\n",
              "           47,    0,   15,    0,  668,  439,    2,  443,    0,   13,  332,   21,\n",
              "          167,    2,    8,    0,   12,  251,    0,   62,    0,   59,   34,   11,\n",
              "         1920,  171,    2,    2,    2,    0,  690,    0,  105,  226,  160,  490,\n",
              "           95,    2,    4,    1,    1,    1,    1,    1,    1,    1,    1,    1,\n",
              "            1,    1,    1,    1,    1,    1,    1,    1,    1,    1,    1,    1,\n",
              "            1,    1,    1,    1,    1,    1,    1,    1,    1,    1,    1,    1,\n",
              "            1,    1,    1,    1,    1,    1,    1,    1,    1,    1,    1,    1,\n",
              "            1,    1,    1,    1,    1,    1,    1,    1,    1,    1,    1,    1,\n",
              "            1,    1,    1,    1,    1,    1]),\n",
              " tensor([0., 0., 0., 0., 0., 0.]))"
            ]
          },
          "metadata": {},
          "execution_count": 91
        }
      ]
    },
    {
      "cell_type": "markdown",
      "source": [
        "### Creating PyTorch DataLoaders"
      ],
      "metadata": {
        "id": "n28RyxSlXFnL"
      }
    },
    {
      "cell_type": "code",
      "source": [
        "from torch.utils.data import DataLoader"
      ],
      "metadata": {
        "id": "dTuB7UzlW5wt"
      },
      "execution_count": 92,
      "outputs": []
    },
    {
      "cell_type": "code",
      "source": [
        "BATCH_SIZE = 256"
      ],
      "metadata": {
        "id": "9_SAGgxdXKpg"
      },
      "execution_count": 93,
      "outputs": []
    },
    {
      "cell_type": "code",
      "source": [
        "train_dl = DataLoader(train_ds,batch_size = BATCH_SIZE,shuffle=True,num_workers = 2,pin_memory = True)\n",
        "val_dl = DataLoader(val_ds,batch_size = BATCH_SIZE*2,num_workers = 2,pin_memory = True)"
      ],
      "metadata": {
        "id": "E6QnIuYLXMm8"
      },
      "execution_count": 100,
      "outputs": []
    },
    {
      "cell_type": "code",
      "source": [
        "test_dl = DataLoader(test_ds,batch_size = 2*BATCH_SIZE,num_workers = 8,pin_memory=True)"
      ],
      "metadata": {
        "id": "0654eiceXctn"
      },
      "execution_count": 101,
      "outputs": []
    },
    {
      "cell_type": "markdown",
      "source": [
        "The difference with the Bag of words is that instead of converting into vectors by not maintaining the order, in this case we have maintained the order"
      ],
      "metadata": {
        "id": "8SkheJIUXtz6"
      }
    },
    {
      "cell_type": "markdown",
      "source": [
        "# Build a Recurrent Neural Network\n"
      ],
      "metadata": {
        "id": "0j_2OrFSX8HG"
      }
    },
    {
      "cell_type": "markdown",
      "source": [
        "1. The bag of words model actually converts the given complete words into vectors by computing the frequency of each word in the vocabulary. \n",
        "RNN will first assign an index to the word according the vocabulary and then will convert each index of the word into vectors \n",
        "\n",
        "2. In bag of words, the order of words in lost while in the RNN the order is maintained\n",
        "\n",
        "3. BOW actually works in a Neural Network in which initally a fixed number of input is given and is brought down to 6 depending on the number of features in the target column. While RNN works in the fact that initally an `nn.RNN` is placed as an layer in which the first word is given as the input with `h0` as hidden input and given an ouptut. The same layer is used with the next word in the sentence with hidden input `h1` and returns an output. So instead of converting the entire sentence into vectors, each word is converted into a vector which maintains the order\n",
        "\n",
        "4. Also in the RNN, we always have an embedding layer which will convert the given word indices into vector and pass them into the nn.RNN layer. So before an RNN layer, we alwyas have an `embedding` layer. The word vector from the embedding layer is trained automatically by the network\n",
        "\n",
        "![image.png](data:image/png;base64,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)"
      ],
      "metadata": {
        "id": "mGXVt-33YaO1"
      }
    },
    {
      "cell_type": "code",
      "source": [
        "import torch.nn as nn\n",
        "import torch.nn.functional as F"
      ],
      "metadata": {
        "id": "T6jeJ20qXiRx"
      },
      "execution_count": 112,
      "outputs": []
    },
    {
      "cell_type": "code",
      "source": [
        "emb_layer = nn.Embedding(VOCAB_SIZE,256,1)"
      ],
      "metadata": {
        "id": "x_NVoZCKag88"
      },
      "execution_count": 103,
      "outputs": []
    },
    {
      "cell_type": "code",
      "source": [
        "rnn_layer = nn.RNN(256,128,1,batch_first=True)"
      ],
      "metadata": {
        "id": "jUzi_PDtbRY9"
      },
      "execution_count": 105,
      "outputs": []
    },
    {
      "cell_type": "code",
      "source": [
        "for batch in train_dl:\n",
        "  bi,bt = batch\n",
        "  print(\"IS:\",bi.shape)\n",
        "  print(\"TS:\",bt.shape)\n",
        "\n",
        "  emb_out = emb_layer(bi)\n",
        "  print(\"ES:\",emb_out.shape)\n",
        "\n",
        "  rnn_out,hn = rnn_layer(emb_out)\n",
        "  print(\"RS:\",rnn_out.shape)\n",
        "  print(\"HS:\",hn.shape)\n",
        "  break"
      ],
      "metadata": {
        "colab": {
          "base_uri": "https://localhost:8080/"
        },
        "id": "Cml9JMj2aqm3",
        "outputId": "4dd39193-8cbe-4138-cc52-dad338e16214"
      },
      "execution_count": 106,
      "outputs": [
        {
          "output_type": "stream",
          "name": "stdout",
          "text": [
            "IS: torch.Size([256, 150])\n",
            "TS: torch.Size([256, 6])\n",
            "ES: torch.Size([256, 150, 256])\n",
            "RS: torch.Size([256, 150, 128])\n",
            "HS: torch.Size([1, 256, 128])\n"
          ]
        }
      ]
    },
    {
      "cell_type": "markdown",
      "source": [
        "PytorchLightning actually increases the speed and the performance of the model"
      ],
      "metadata": {
        "id": "mh7UlkePb9Ge"
      }
    },
    {
      "cell_type": "code",
      "source": [
        "!pip install pytorch_lightning --quiet"
      ],
      "metadata": {
        "id": "Psv5toFzbzHk"
      },
      "execution_count": 108,
      "outputs": []
    },
    {
      "cell_type": "code",
      "source": [
        "import pytorch_lightning as pl"
      ],
      "metadata": {
        "id": "i-Jr0netbyv5"
      },
      "execution_count": 109,
      "outputs": []
    },
    {
      "cell_type": "markdown",
      "source": [
        "Instead of actually using RNN, let's use the LSTM\n",
        "\n",
        "![image.png](data:image/png;base64,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)"
      ],
      "metadata": {
        "id": "VX89_jLUcTjN"
      }
    },
    {
      "cell_type": "code",
      "source": [
        "import numpy as np"
      ],
      "metadata": {
        "id": "nxNmusALeTsu"
      },
      "execution_count": 118,
      "outputs": []
    },
    {
      "cell_type": "code",
      "source": [
        "class JigsawModel(pl.LightningModule):\n",
        "    def __init__(self):\n",
        "        super().__init__()\n",
        "        self.emb = nn.Embedding(VOCAB_SIZE, 256, 1)\n",
        "        self.lstm = nn.LSTM(256, 128, 1, batch_first=True)\n",
        "        self.linear = nn.Linear(128, 6)\n",
        "        self.learning_rate = 0.001\n",
        "\n",
        "    def forward(self, x):\n",
        "        out = self.emb(x)\n",
        "        out, hn = self.lstm(out)\n",
        "        out = F.relu(out[:,-1,:])# With this we are actually getting the final 150 vetors instead of actually passing the entire vectors\n",
        "        out = self.linear(out)\n",
        "        return out\n",
        "\n",
        "    def training_step(self, batch, batch_idx):\n",
        "        inputs, targets = batch\n",
        "        outputs = self(inputs)\n",
        "        probs = torch.sigmoid(outputs)\n",
        "        loss = F.binary_cross_entropy(probs, targets)\n",
        "        return loss\n",
        "\n",
        "    def validation_step(self, batch, batch_idx):\n",
        "        inputs, targets = batch\n",
        "        outputs = self(inputs)\n",
        "        probs = torch.sigmoid(outputs)\n",
        "        loss = F.binary_cross_entropy(probs, targets)\n",
        "        return loss.item()\n",
        "\n",
        "    def validation_epoch_end(self, validation_step_outputs):\n",
        "        loss = np.mean(validation_step_outputs)\n",
        "        print(\"Epoch #{}; Loss: {:4f} \".format(self.current_epoch, loss)) \n",
        "\n",
        "    def predict_step(self, batch, batch_idx):\n",
        "        inputs, targets = batch\n",
        "        outputs = self(inputs)\n",
        "        probs = torch.sigmoid(outputs)\n",
        "        return probs       \n",
        "\n",
        "    def configure_optimizers(self):\n",
        "        return torch.optim.Adam(self.parameters(), lr=self.learning_rate)"
      ],
      "metadata": {
        "id": "Zt3v9ohwf7i-"
      },
      "execution_count": 126,
      "outputs": []
    },
    {
      "cell_type": "code",
      "source": [
        "model = JigsawModel()"
      ],
      "metadata": {
        "id": "J_45yXtXdBA5"
      },
      "execution_count": 127,
      "outputs": []
    },
    {
      "cell_type": "code",
      "source": [
        "for batch in train_dl:\n",
        "  bi,bt = batch\n",
        "  print(\"IS:\",bi.shape)\n",
        "  print(\"TS:\",bt.shape)\n",
        "\n",
        "  out = model(bi)\n",
        "  print(\"OS:\",out.shape)\n",
        "\n",
        "  probs = torch.sigmoid(out)\n",
        "  loss = F.binary_cross_entropy(probs,bt)\n",
        "  print(\"Loss:\",loss)\n",
        "  break"
      ],
      "metadata": {
        "colab": {
          "base_uri": "https://localhost:8080/"
        },
        "id": "7xXGy5lDdCj6",
        "outputId": "4f0adee3-7763-441a-de71-ba29d08b6d65"
      },
      "execution_count": 128,
      "outputs": [
        {
          "output_type": "stream",
          "name": "stdout",
          "text": [
            "IS: torch.Size([256, 150])\n",
            "TS: torch.Size([256, 6])\n",
            "OS: torch.Size([256, 6])\n",
            "Loss: tensor(0.6854, grad_fn=<BinaryCrossEntropyBackward0>)\n"
          ]
        }
      ]
    },
    {
      "cell_type": "markdown",
      "source": [
        "## Train and Evaluate the model"
      ],
      "metadata": {
        "id": "6Y7xIhaPe5Mh"
      }
    },
    {
      "cell_type": "markdown",
      "source": [
        "We will train the model with the PyTorch Lightning trainer which automates lot of manual training process"
      ],
      "metadata": {
        "id": "B3MQg9T2e9oG"
      }
    },
    {
      "cell_type": "code",
      "source": [
        "trainer = pl.Trainer(max_epochs = 3,accelerator='gpu',auto_lr_find = True)"
      ],
      "metadata": {
        "colab": {
          "base_uri": "https://localhost:8080/"
        },
        "id": "cyWoFWrPdTFL",
        "outputId": "9c0f2243-bda7-4e79-e4dc-a5be597f1512"
      },
      "execution_count": 129,
      "outputs": [
        {
          "output_type": "stream",
          "name": "stderr",
          "text": [
            "INFO:pytorch_lightning.utilities.rank_zero:GPU available: True (cuda), used: True\n",
            "INFO:pytorch_lightning.utilities.rank_zero:TPU available: False, using: 0 TPU cores\n",
            "INFO:pytorch_lightning.utilities.rank_zero:IPU available: False, using: 0 IPUs\n",
            "INFO:pytorch_lightning.utilities.rank_zero:HPU available: False, using: 0 HPUs\n"
          ]
        }
      ]
    },
    {
      "cell_type": "code",
      "source": [
        "trainer.tune(model,train_dl)"
      ],
      "metadata": {
        "colab": {
          "base_uri": "https://localhost:8080/",
          "height": 225,
          "referenced_widgets": [
            "487a761d7a614e2c96f4af6cc68b0990",
            "82d64ddfe776473bb3f1312ed916a377",
            "50d812a3a6eb48a3b908ea83bd336461",
            "f844c11d02c44d6582197fb7793c1d29",
            "7fe5010ab5b9458e979a412aefa67d90",
            "a0d22d2689c54fd8b70cd5ab5e3b08ea",
            "03ee2e5bc0a24e1481c6b7fb29a50f97",
            "dce0103c350344619de92d559015e4dd",
            "481f03446ae8473aa471d0d07a097b6e",
            "2adfab10338f4019b9d04bc12f6d81d6",
            "aa35f0bc2baa436e9bd4c6cca983eab0"
          ]
        },
        "id": "OAhWJL37fNOq",
        "outputId": "a0f54f41-a85c-4457-bfd4-2297ed6d0a16"
      },
      "execution_count": 130,
      "outputs": [
        {
          "output_type": "stream",
          "name": "stderr",
          "text": [
            "/usr/local/lib/python3.8/dist-packages/pytorch_lightning/trainer/configuration_validator.py:108: PossibleUserWarning: You defined a `validation_step` but have no `val_dataloader`. Skipping val loop.\n",
            "  rank_zero_warn(\n",
            "WARNING:pytorch_lightning.loggers.tensorboard:Missing logger folder: /content/lightning_logs\n",
            "INFO:pytorch_lightning.accelerators.cuda:LOCAL_RANK: 0 - CUDA_VISIBLE_DEVICES: [0]\n"
          ]
        },
        {
          "output_type": "display_data",
          "data": {
            "text/plain": [
              "Finding best initial lr:   0%|          | 0/100 [00:00<?, ?it/s]"
            ],
            "application/vnd.jupyter.widget-view+json": {
              "version_major": 2,
              "version_minor": 0,
              "model_id": "487a761d7a614e2c96f4af6cc68b0990"
            }
          },
          "metadata": {}
        },
        {
          "output_type": "stream",
          "name": "stderr",
          "text": [
            "INFO:pytorch_lightning.utilities.rank_zero:`Trainer.fit` stopped: `max_steps=100` reached.\n",
            "INFO:pytorch_lightning.tuner.lr_finder:Learning rate set to 0.00478630092322638\n",
            "INFO:pytorch_lightning.utilities.rank_zero:Restoring states from the checkpoint path at /content/.lr_find_9fbe7cf3-089e-485a-9c57-dc30b11154cc.ckpt\n",
            "INFO:pytorch_lightning.utilities.rank_zero:Restored all states from the checkpoint file at /content/.lr_find_9fbe7cf3-089e-485a-9c57-dc30b11154cc.ckpt\n"
          ]
        },
        {
          "output_type": "execute_result",
          "data": {
            "text/plain": [
              "{'lr_find': <pytorch_lightning.tuner.lr_finder._LRFinder at 0x7fa248f6b700>}"
            ]
          },
          "metadata": {},
          "execution_count": 130
        }
      ]
    },
    {
      "cell_type": "code",
      "source": [
        "model.learning_rate "
      ],
      "metadata": {
        "colab": {
          "base_uri": "https://localhost:8080/"
        },
        "id": "pNt-zF5UfXEO",
        "outputId": "daaf9f96-029c-4709-e155-425360bd17e3"
      },
      "execution_count": 131,
      "outputs": [
        {
          "output_type": "execute_result",
          "data": {
            "text/plain": [
              "0.00478630092322638"
            ]
          },
          "metadata": {},
          "execution_count": 131
        }
      ]
    },
    {
      "cell_type": "code",
      "source": [
        "trainer.fit(model,train_dl,val_dl)"
      ],
      "metadata": {
        "colab": {
          "base_uri": "https://localhost:8080/",
          "height": 344,
          "referenced_widgets": [
            "8f607ac39a4b4a21935a9c331e55135a",
            "d1e58222be994d59b7b0ad57f3ae1834",
            "a0bf51b250f64dc3937dd131a575eb2a",
            "931939805fe1469e9b56d945b71571ec",
            "f626573e48404d67af4b320851e0a74c",
            "3b09cdd4e0774991a04640354fc078eb",
            "a31d22e437d842cdb922748c5bd81664",
            "6b1ba1905e114e8b910203ab5dd56459",
            "aee750c04376460da003dc8e04314788",
            "cdee40ed8d274a99801905216afeae20",
            "6c1d6baea5444072bda2fc3b944aaa53",
            "1e750560577940558f8d23764b5f377b",
            "7432c38acd5f43779ba8213b09990c36",
            "68c482eab30044719f5642bb2951dd6b",
            "e4745e2264df4f4f9c8070945ad04599",
            "b25d80005322479e9bfe43e8daa7f8ff",
            "0b16e679b6324f99bb357d0094f48c48",
            "0f31d09707294724822a96d5e9084964",
            "f1c6588c4e99468a8b696172ffb5adde",
            "a9e2e8ed8dd64adfbc85be975701e2dc",
            "db5ca0869f0b414493b304fdbca70af2",
            "7afa3bad03154ad9a7a61620f2d85481",
            "e6bea0381be04ca488f24c79c25c1408",
            "51290577655c4065b21f0ef11e6be473",
            "9340ea06c9a0428884a317d04767593d",
            "43217922f0df451c8dd12211817d3368",
            "7e0c8efacf1842618cfad10c01bf4013",
            "0588b29f3f7149498165df3c8dccafa3",
            "7e8de7f5793644c2845ecf4b2f173c7a",
            "426147cd0ea8498a83c045bccd240061",
            "45a7a104858a497eb5e00cc03138f54a",
            "c04f772abdd744919350b4e31bad4657",
            "91a2445c68a84202adbc00758cb025e6",
            "28fc8cc43c1d43a09e3c075680acbbcd",
            "d083deb002ab4fe1b415536bf30fa34b",
            "80dd0485c82e4fcd8b827105e0d0895a",
            "d390f80be6ca46c78799fad3fd8b7c88",
            "238de54df5644c748ec2158c05c90dec",
            "2dd197ccc0264df7b807f39df0d3e355",
            "08a20cb8ff244c428dd92868e058ae7b",
            "f193d577102c4b0fad431a7bccc8198e",
            "15df92d2192c499c9c13fe3393f60882",
            "6aae6acdd1904ddcae7acc5a6d547664",
            "937ed8013097475bbd5f5adf427f539a",
            "66bfebcde9ba498fbfd6d69f6bd53488",
            "439e1ed7ef224cf5af317dd5d5780f85",
            "d9d5ad220c5e44cfabb4f42ec9abe4e5",
            "61328de663d44ea884664b4aa47b2514",
            "1bcb1479c34a4a47bdb65c42c8d9c8d3",
            "a55d7ca623074209b98b390e9858dd7d",
            "f14c600bbd394ce4b22ed08ed209cac5",
            "cd112060063c4671a0fc536e24030bd3",
            "6a6d4a2c23254052abdb6674c4a73610",
            "8fb5ce6b8910446cb4d3f3f98338e5e3",
            "3d290b163be74295ad9e8895af776177"
          ]
        },
        "id": "UM4FyHZUgMNx",
        "outputId": "429fdcaf-2790-4ed1-b6ee-c61e39eaa6e7"
      },
      "execution_count": 132,
      "outputs": [
        {
          "output_type": "stream",
          "name": "stderr",
          "text": [
            "INFO:pytorch_lightning.accelerators.cuda:LOCAL_RANK: 0 - CUDA_VISIBLE_DEVICES: [0]\n",
            "INFO:pytorch_lightning.callbacks.model_summary:\n",
            "  | Name   | Type      | Params\n",
            "-------------------------------------\n",
            "0 | emb    | Embedding | 512 K \n",
            "1 | lstm   | LSTM      | 197 K \n",
            "2 | linear | Linear    | 774   \n",
            "-------------------------------------\n",
            "710 K     Trainable params\n",
            "0         Non-trainable params\n",
            "710 K     Total params\n",
            "2.842     Total estimated model params size (MB)\n"
          ]
        },
        {
          "output_type": "display_data",
          "data": {
            "text/plain": [
              "Sanity Checking: 0it [00:00, ?it/s]"
            ],
            "application/vnd.jupyter.widget-view+json": {
              "version_major": 2,
              "version_minor": 0,
              "model_id": "8f607ac39a4b4a21935a9c331e55135a"
            }
          },
          "metadata": {}
        },
        {
          "output_type": "stream",
          "name": "stdout",
          "text": [
            "Epoch #0; Loss: 0.685457 \n"
          ]
        },
        {
          "output_type": "display_data",
          "data": {
            "text/plain": [
              "Training: 0it [00:00, ?it/s]"
            ],
            "application/vnd.jupyter.widget-view+json": {
              "version_major": 2,
              "version_minor": 0,
              "model_id": "1e750560577940558f8d23764b5f377b"
            }
          },
          "metadata": {}
        },
        {
          "output_type": "display_data",
          "data": {
            "text/plain": [
              "Validation: 0it [00:00, ?it/s]"
            ],
            "application/vnd.jupyter.widget-view+json": {
              "version_major": 2,
              "version_minor": 0,
              "model_id": "e6bea0381be04ca488f24c79c25c1408"
            }
          },
          "metadata": {}
        },
        {
          "output_type": "stream",
          "name": "stdout",
          "text": [
            "Epoch #0; Loss: 0.064970 \n"
          ]
        },
        {
          "output_type": "display_data",
          "data": {
            "text/plain": [
              "Validation: 0it [00:00, ?it/s]"
            ],
            "application/vnd.jupyter.widget-view+json": {
              "version_major": 2,
              "version_minor": 0,
              "model_id": "28fc8cc43c1d43a09e3c075680acbbcd"
            }
          },
          "metadata": {}
        },
        {
          "output_type": "stream",
          "name": "stdout",
          "text": [
            "Epoch #1; Loss: 0.061870 \n"
          ]
        },
        {
          "output_type": "display_data",
          "data": {
            "text/plain": [
              "Validation: 0it [00:00, ?it/s]"
            ],
            "application/vnd.jupyter.widget-view+json": {
              "version_major": 2,
              "version_minor": 0,
              "model_id": "66bfebcde9ba498fbfd6d69f6bd53488"
            }
          },
          "metadata": {}
        },
        {
          "output_type": "stream",
          "name": "stderr",
          "text": [
            "INFO:pytorch_lightning.utilities.rank_zero:`Trainer.fit` stopped: `max_epochs=3` reached.\n"
          ]
        },
        {
          "output_type": "stream",
          "name": "stdout",
          "text": [
            "Epoch #2; Loss: 0.061021 \n"
          ]
        }
      ]
    },
    {
      "cell_type": "markdown",
      "source": [
        "# Make Predictions"
      ],
      "metadata": {
        "id": "1wGvVvCJitSk"
      }
    },
    {
      "cell_type": "code",
      "source": [
        "test_df"
      ],
      "metadata": {
        "colab": {
          "base_uri": "https://localhost:8080/",
          "height": 424
        },
        "id": "mv-XZ6C3gPso",
        "outputId": "3e009312-215c-448a-d843-3e80a791b00c"
      },
      "execution_count": 133,
      "outputs": [
        {
          "output_type": "execute_result",
          "data": {
            "text/plain": [
              "                      id                                       comment_text\n",
              "0       00001cee341fdb12  Yo bitch Ja Rule is more succesful then you'll...\n",
              "1       0000247867823ef7  == From RfC == \\n\\n The title is fine as it is...\n",
              "2       00013b17ad220c46  \" \\n\\n == Sources == \\n\\n * Zawe Ashton on Lap...\n",
              "3       00017563c3f7919a  :If you have a look back at the source, the in...\n",
              "4       00017695ad8997eb          I don't anonymously edit articles at all.\n",
              "...                  ...                                                ...\n",
              "153159  fffcd0960ee309b5  . \\n i totally agree, this stuff is nothing bu...\n",
              "153160  fffd7a9a6eb32c16  == Throw from out field to home plate. == \\n\\n...\n",
              "153161  fffda9e8d6fafa9e  \" \\n\\n == Okinotorishima categories == \\n\\n I ...\n",
              "153162  fffe8f1340a79fc2  \" \\n\\n == \"\"One of the founding nations of the...\n",
              "153163  ffffce3fb183ee80  \" \\n :::Stop already. Your bullshit is not wel...\n",
              "\n",
              "[153164 rows x 2 columns]"
            ],
            "text/html": [
              "\n",
              "  <div id=\"df-52d404d2-cf89-4f28-85b5-568a8bdd56f1\">\n",
              "    <div class=\"colab-df-container\">\n",
              "      <div>\n",
              "<style scoped>\n",
              "    .dataframe tbody tr th:only-of-type {\n",
              "        vertical-align: middle;\n",
              "    }\n",
              "\n",
              "    .dataframe tbody tr th {\n",
              "        vertical-align: top;\n",
              "    }\n",
              "\n",
              "    .dataframe thead th {\n",
              "        text-align: right;\n",
              "    }\n",
              "</style>\n",
              "<table border=\"1\" class=\"dataframe\">\n",
              "  <thead>\n",
              "    <tr style=\"text-align: right;\">\n",
              "      <th></th>\n",
              "      <th>id</th>\n",
              "      <th>comment_text</th>\n",
              "    </tr>\n",
              "  </thead>\n",
              "  <tbody>\n",
              "    <tr>\n",
              "      <th>0</th>\n",
              "      <td>00001cee341fdb12</td>\n",
              "      <td>Yo bitch Ja Rule is more succesful then you'll...</td>\n",
              "    </tr>\n",
              "    <tr>\n",
              "      <th>1</th>\n",
              "      <td>0000247867823ef7</td>\n",
              "      <td>== From RfC == \\n\\n The title is fine as it is...</td>\n",
              "    </tr>\n",
              "    <tr>\n",
              "      <th>2</th>\n",
              "      <td>00013b17ad220c46</td>\n",
              "      <td>\" \\n\\n == Sources == \\n\\n * Zawe Ashton on Lap...</td>\n",
              "    </tr>\n",
              "    <tr>\n",
              "      <th>3</th>\n",
              "      <td>00017563c3f7919a</td>\n",
              "      <td>:If you have a look back at the source, the in...</td>\n",
              "    </tr>\n",
              "    <tr>\n",
              "      <th>4</th>\n",
              "      <td>00017695ad8997eb</td>\n",
              "      <td>I don't anonymously edit articles at all.</td>\n",
              "    </tr>\n",
              "    <tr>\n",
              "      <th>...</th>\n",
              "      <td>...</td>\n",
              "      <td>...</td>\n",
              "    </tr>\n",
              "    <tr>\n",
              "      <th>153159</th>\n",
              "      <td>fffcd0960ee309b5</td>\n",
              "      <td>. \\n i totally agree, this stuff is nothing bu...</td>\n",
              "    </tr>\n",
              "    <tr>\n",
              "      <th>153160</th>\n",
              "      <td>fffd7a9a6eb32c16</td>\n",
              "      <td>== Throw from out field to home plate. == \\n\\n...</td>\n",
              "    </tr>\n",
              "    <tr>\n",
              "      <th>153161</th>\n",
              "      <td>fffda9e8d6fafa9e</td>\n",
              "      <td>\" \\n\\n == Okinotorishima categories == \\n\\n I ...</td>\n",
              "    </tr>\n",
              "    <tr>\n",
              "      <th>153162</th>\n",
              "      <td>fffe8f1340a79fc2</td>\n",
              "      <td>\" \\n\\n == \"\"One of the founding nations of the...</td>\n",
              "    </tr>\n",
              "    <tr>\n",
              "      <th>153163</th>\n",
              "      <td>ffffce3fb183ee80</td>\n",
              "      <td>\" \\n :::Stop already. Your bullshit is not wel...</td>\n",
              "    </tr>\n",
              "  </tbody>\n",
              "</table>\n",
              "<p>153164 rows × 2 columns</p>\n",
              "</div>\n",
              "      <button class=\"colab-df-convert\" onclick=\"convertToInteractive('df-52d404d2-cf89-4f28-85b5-568a8bdd56f1')\"\n",
              "              title=\"Convert this dataframe to an interactive table.\"\n",
              "              style=\"display:none;\">\n",
              "        \n",
              "  <svg xmlns=\"http://www.w3.org/2000/svg\" height=\"24px\"viewBox=\"0 0 24 24\"\n",
              "       width=\"24px\">\n",
              "    <path d=\"M0 0h24v24H0V0z\" fill=\"none\"/>\n",
              "    <path d=\"M18.56 5.44l.94 2.06.94-2.06 2.06-.94-2.06-.94-.94-2.06-.94 2.06-2.06.94zm-11 1L8.5 8.5l.94-2.06 2.06-.94-2.06-.94L8.5 2.5l-.94 2.06-2.06.94zm10 10l.94 2.06.94-2.06 2.06-.94-2.06-.94-.94-2.06-.94 2.06-2.06.94z\"/><path d=\"M17.41 7.96l-1.37-1.37c-.4-.4-.92-.59-1.43-.59-.52 0-1.04.2-1.43.59L10.3 9.45l-7.72 7.72c-.78.78-.78 2.05 0 2.83L4 21.41c.39.39.9.59 1.41.59.51 0 1.02-.2 1.41-.59l7.78-7.78 2.81-2.81c.8-.78.8-2.07 0-2.86zM5.41 20L4 18.59l7.72-7.72 1.47 1.35L5.41 20z\"/>\n",
              "  </svg>\n",
              "      </button>\n",
              "      \n",
              "  <style>\n",
              "    .colab-df-container {\n",
              "      display:flex;\n",
              "      flex-wrap:wrap;\n",
              "      gap: 12px;\n",
              "    }\n",
              "\n",
              "    .colab-df-convert {\n",
              "      background-color: #E8F0FE;\n",
              "      border: none;\n",
              "      border-radius: 50%;\n",
              "      cursor: pointer;\n",
              "      display: none;\n",
              "      fill: #1967D2;\n",
              "      height: 32px;\n",
              "      padding: 0 0 0 0;\n",
              "      width: 32px;\n",
              "    }\n",
              "\n",
              "    .colab-df-convert:hover {\n",
              "      background-color: #E2EBFA;\n",
              "      box-shadow: 0px 1px 2px rgba(60, 64, 67, 0.3), 0px 1px 3px 1px rgba(60, 64, 67, 0.15);\n",
              "      fill: #174EA6;\n",
              "    }\n",
              "\n",
              "    [theme=dark] .colab-df-convert {\n",
              "      background-color: #3B4455;\n",
              "      fill: #D2E3FC;\n",
              "    }\n",
              "\n",
              "    [theme=dark] .colab-df-convert:hover {\n",
              "      background-color: #434B5C;\n",
              "      box-shadow: 0px 1px 3px 1px rgba(0, 0, 0, 0.15);\n",
              "      filter: drop-shadow(0px 1px 2px rgba(0, 0, 0, 0.3));\n",
              "      fill: #FFFFFF;\n",
              "    }\n",
              "  </style>\n",
              "\n",
              "      <script>\n",
              "        const buttonEl =\n",
              "          document.querySelector('#df-52d404d2-cf89-4f28-85b5-568a8bdd56f1 button.colab-df-convert');\n",
              "        buttonEl.style.display =\n",
              "          google.colab.kernel.accessAllowed ? 'block' : 'none';\n",
              "\n",
              "        async function convertToInteractive(key) {\n",
              "          const element = document.querySelector('#df-52d404d2-cf89-4f28-85b5-568a8bdd56f1');\n",
              "          const dataTable =\n",
              "            await google.colab.kernel.invokeFunction('convertToInteractive',\n",
              "                                                     [key], {});\n",
              "          if (!dataTable) return;\n",
              "\n",
              "          const docLinkHtml = 'Like what you see? Visit the ' +\n",
              "            '<a target=\"_blank\" href=https://colab.research.google.com/notebooks/data_table.ipynb>data table notebook</a>'\n",
              "            + ' to learn more about interactive tables.';\n",
              "          element.innerHTML = '';\n",
              "          dataTable['output_type'] = 'display_data';\n",
              "          await google.colab.output.renderOutput(dataTable, element);\n",
              "          const docLink = document.createElement('div');\n",
              "          docLink.innerHTML = docLinkHtml;\n",
              "          element.appendChild(docLink);\n",
              "        }\n",
              "      </script>\n",
              "    </div>\n",
              "  </div>\n",
              "  "
            ]
          },
          "metadata": {},
          "execution_count": 133
        }
      ]
    },
    {
      "cell_type": "code",
      "source": [
        "for batch in train_dl:\n",
        "  bi,bt = batch\n",
        "  print(\"IS:\",bi.shape)\n",
        "  print(\"TS:\",bt.shape)\n",
        "  break"
      ],
      "metadata": {
        "colab": {
          "base_uri": "https://localhost:8080/"
        },
        "id": "bMWAOP4fixmE",
        "outputId": "21b0b1f8-ac1d-4ac7-efb8-236b4531bf3b"
      },
      "execution_count": 134,
      "outputs": [
        {
          "output_type": "stream",
          "name": "stdout",
          "text": [
            "IS: torch.Size([256, 150])\n",
            "TS: torch.Size([256, 6])\n"
          ]
        }
      ]
    },
    {
      "cell_type": "code",
      "source": [
        "test_preds = trainer.predict(model,test_dl)"
      ],
      "metadata": {
        "colab": {
          "base_uri": "https://localhost:8080/",
          "height": 121,
          "referenced_widgets": [
            "3227690574de4101b9a0c149a4369869",
            "62914df83e884f319a843023b5c14761",
            "63326bcd8cf54d26be7db269ab7f7fb1",
            "442214e8c0b64dac9d685271fe107db4",
            "216f15ed56724239b5674e04e134319b",
            "0814e222cfd541d2b93bc8ba80c8eef6",
            "07e3245615f147a0b392e0e7048c558b",
            "ae1fe1a677254c1ca0924b33bc709b8d",
            "6444f19c29594d4595ac37f9b14a33d5",
            "c64be5f626964625b55d21ffa20e5dfa",
            "cc16e87851ad4853afefce0fb008068d"
          ]
        },
        "id": "DNxGTLeZi5eT",
        "outputId": "21f360de-5aca-43ef-a62f-3aa2188768c8"
      },
      "execution_count": 135,
      "outputs": [
        {
          "output_type": "stream",
          "name": "stderr",
          "text": [
            "INFO:pytorch_lightning.accelerators.cuda:LOCAL_RANK: 0 - CUDA_VISIBLE_DEVICES: [0]\n",
            "/usr/local/lib/python3.8/dist-packages/torch/utils/data/dataloader.py:554: UserWarning: This DataLoader will create 8 worker processes in total. Our suggested max number of worker in current system is 2, which is smaller than what this DataLoader is going to create. Please be aware that excessive worker creation might get DataLoader running slow or even freeze, lower the worker number to avoid potential slowness/freeze if necessary.\n",
            "  warnings.warn(_create_warning_msg(\n"
          ]
        },
        {
          "output_type": "display_data",
          "data": {
            "text/plain": [
              "Predicting: 468it [00:00, ?it/s]"
            ],
            "application/vnd.jupyter.widget-view+json": {
              "version_major": 2,
              "version_minor": 0,
              "model_id": "3227690574de4101b9a0c149a4369869"
            }
          },
          "metadata": {}
        }
      ]
    },
    {
      "cell_type": "code",
      "source": [
        "test_preds = torch.cat(test_preds)"
      ],
      "metadata": {
        "id": "XhIGCOz4jOTd"
      },
      "execution_count": 136,
      "outputs": []
    },
    {
      "cell_type": "code",
      "source": [
        "test_preds.shape"
      ],
      "metadata": {
        "colab": {
          "base_uri": "https://localhost:8080/"
        },
        "id": "HTlB1DgHjWMD",
        "outputId": "a4f9afe8-777d-41be-c9ff-04c4300c35af"
      },
      "execution_count": 137,
      "outputs": [
        {
          "output_type": "execute_result",
          "data": {
            "text/plain": [
              "torch.Size([153164, 6])"
            ]
          },
          "metadata": {},
          "execution_count": 137
        }
      ]
    },
    {
      "cell_type": "code",
      "source": [
        "test_preds"
      ],
      "metadata": {
        "colab": {
          "base_uri": "https://localhost:8080/"
        },
        "id": "KkRIjSvSjdAA",
        "outputId": "fb5558be-2260-40ac-bed0-e5dbd2524727"
      },
      "execution_count": 139,
      "outputs": [
        {
          "output_type": "execute_result",
          "data": {
            "text/plain": [
              "tensor([[9.8732e-01, 2.5441e-01, 8.8980e-01, 1.9598e-02, 8.3290e-01, 8.4183e-02],\n",
              "        [1.6070e-02, 8.2731e-05, 2.1062e-03, 1.7018e-04, 2.8473e-03, 2.4692e-04],\n",
              "        [5.1050e-03, 6.5710e-05, 1.0907e-03, 2.2357e-04, 8.0529e-04, 1.2178e-04],\n",
              "        ...,\n",
              "        [1.4960e-02, 1.3100e-04, 2.5699e-03, 1.2386e-04, 3.1357e-03, 3.2978e-04],\n",
              "        [1.4891e-02, 1.0329e-04, 2.0915e-03, 1.7928e-04, 2.7448e-03, 3.5031e-04],\n",
              "        [8.7568e-01, 5.3731e-02, 4.6806e-01, 1.2894e-02, 4.7663e-01, 4.5581e-02]])"
            ]
          },
          "metadata": {},
          "execution_count": 139
        }
      ]
    },
    {
      "cell_type": "code",
      "source": [
        "test_probs = torch.sigmoid(test_preds)"
      ],
      "metadata": {
        "id": "ZA_zm0XYlNRM"
      },
      "execution_count": 157,
      "outputs": []
    },
    {
      "cell_type": "code",
      "source": [
        "sub_df"
      ],
      "metadata": {
        "colab": {
          "base_uri": "https://localhost:8080/",
          "height": 424
        },
        "id": "h6zcZ_AyjXLs",
        "outputId": "3b91210f-168d-44dd-a4d2-b9af5822d96b"
      },
      "execution_count": 138,
      "outputs": [
        {
          "output_type": "execute_result",
          "data": {
            "text/plain": [
              "                      id  toxic  severe_toxic  obscene  threat  insult  \\\n",
              "0       00001cee341fdb12    0.5           0.5      0.5     0.5     0.5   \n",
              "1       0000247867823ef7    0.5           0.5      0.5     0.5     0.5   \n",
              "2       00013b17ad220c46    0.5           0.5      0.5     0.5     0.5   \n",
              "3       00017563c3f7919a    0.5           0.5      0.5     0.5     0.5   \n",
              "4       00017695ad8997eb    0.5           0.5      0.5     0.5     0.5   \n",
              "...                  ...    ...           ...      ...     ...     ...   \n",
              "153159  fffcd0960ee309b5    0.5           0.5      0.5     0.5     0.5   \n",
              "153160  fffd7a9a6eb32c16    0.5           0.5      0.5     0.5     0.5   \n",
              "153161  fffda9e8d6fafa9e    0.5           0.5      0.5     0.5     0.5   \n",
              "153162  fffe8f1340a79fc2    0.5           0.5      0.5     0.5     0.5   \n",
              "153163  ffffce3fb183ee80    0.5           0.5      0.5     0.5     0.5   \n",
              "\n",
              "        identity_hate  \n",
              "0                 0.5  \n",
              "1                 0.5  \n",
              "2                 0.5  \n",
              "3                 0.5  \n",
              "4                 0.5  \n",
              "...               ...  \n",
              "153159            0.5  \n",
              "153160            0.5  \n",
              "153161            0.5  \n",
              "153162            0.5  \n",
              "153163            0.5  \n",
              "\n",
              "[153164 rows x 7 columns]"
            ],
            "text/html": [
              "\n",
              "  <div id=\"df-1ab47424-e148-44ae-81a8-bc71112ecef7\">\n",
              "    <div class=\"colab-df-container\">\n",
              "      <div>\n",
              "<style scoped>\n",
              "    .dataframe tbody tr th:only-of-type {\n",
              "        vertical-align: middle;\n",
              "    }\n",
              "\n",
              "    .dataframe tbody tr th {\n",
              "        vertical-align: top;\n",
              "    }\n",
              "\n",
              "    .dataframe thead th {\n",
              "        text-align: right;\n",
              "    }\n",
              "</style>\n",
              "<table border=\"1\" class=\"dataframe\">\n",
              "  <thead>\n",
              "    <tr style=\"text-align: right;\">\n",
              "      <th></th>\n",
              "      <th>id</th>\n",
              "      <th>toxic</th>\n",
              "      <th>severe_toxic</th>\n",
              "      <th>obscene</th>\n",
              "      <th>threat</th>\n",
              "      <th>insult</th>\n",
              "      <th>identity_hate</th>\n",
              "    </tr>\n",
              "  </thead>\n",
              "  <tbody>\n",
              "    <tr>\n",
              "      <th>0</th>\n",
              "      <td>00001cee341fdb12</td>\n",
              "      <td>0.5</td>\n",
              "      <td>0.5</td>\n",
              "      <td>0.5</td>\n",
              "      <td>0.5</td>\n",
              "      <td>0.5</td>\n",
              "      <td>0.5</td>\n",
              "    </tr>\n",
              "    <tr>\n",
              "      <th>1</th>\n",
              "      <td>0000247867823ef7</td>\n",
              "      <td>0.5</td>\n",
              "      <td>0.5</td>\n",
              "      <td>0.5</td>\n",
              "      <td>0.5</td>\n",
              "      <td>0.5</td>\n",
              "      <td>0.5</td>\n",
              "    </tr>\n",
              "    <tr>\n",
              "      <th>2</th>\n",
              "      <td>00013b17ad220c46</td>\n",
              "      <td>0.5</td>\n",
              "      <td>0.5</td>\n",
              "      <td>0.5</td>\n",
              "      <td>0.5</td>\n",
              "      <td>0.5</td>\n",
              "      <td>0.5</td>\n",
              "    </tr>\n",
              "    <tr>\n",
              "      <th>3</th>\n",
              "      <td>00017563c3f7919a</td>\n",
              "      <td>0.5</td>\n",
              "      <td>0.5</td>\n",
              "      <td>0.5</td>\n",
              "      <td>0.5</td>\n",
              "      <td>0.5</td>\n",
              "      <td>0.5</td>\n",
              "    </tr>\n",
              "    <tr>\n",
              "      <th>4</th>\n",
              "      <td>00017695ad8997eb</td>\n",
              "      <td>0.5</td>\n",
              "      <td>0.5</td>\n",
              "      <td>0.5</td>\n",
              "      <td>0.5</td>\n",
              "      <td>0.5</td>\n",
              "      <td>0.5</td>\n",
              "    </tr>\n",
              "    <tr>\n",
              "      <th>...</th>\n",
              "      <td>...</td>\n",
              "      <td>...</td>\n",
              "      <td>...</td>\n",
              "      <td>...</td>\n",
              "      <td>...</td>\n",
              "      <td>...</td>\n",
              "      <td>...</td>\n",
              "    </tr>\n",
              "    <tr>\n",
              "      <th>153159</th>\n",
              "      <td>fffcd0960ee309b5</td>\n",
              "      <td>0.5</td>\n",
              "      <td>0.5</td>\n",
              "      <td>0.5</td>\n",
              "      <td>0.5</td>\n",
              "      <td>0.5</td>\n",
              "      <td>0.5</td>\n",
              "    </tr>\n",
              "    <tr>\n",
              "      <th>153160</th>\n",
              "      <td>fffd7a9a6eb32c16</td>\n",
              "      <td>0.5</td>\n",
              "      <td>0.5</td>\n",
              "      <td>0.5</td>\n",
              "      <td>0.5</td>\n",
              "      <td>0.5</td>\n",
              "      <td>0.5</td>\n",
              "    </tr>\n",
              "    <tr>\n",
              "      <th>153161</th>\n",
              "      <td>fffda9e8d6fafa9e</td>\n",
              "      <td>0.5</td>\n",
              "      <td>0.5</td>\n",
              "      <td>0.5</td>\n",
              "      <td>0.5</td>\n",
              "      <td>0.5</td>\n",
              "      <td>0.5</td>\n",
              "    </tr>\n",
              "    <tr>\n",
              "      <th>153162</th>\n",
              "      <td>fffe8f1340a79fc2</td>\n",
              "      <td>0.5</td>\n",
              "      <td>0.5</td>\n",
              "      <td>0.5</td>\n",
              "      <td>0.5</td>\n",
              "      <td>0.5</td>\n",
              "      <td>0.5</td>\n",
              "    </tr>\n",
              "    <tr>\n",
              "      <th>153163</th>\n",
              "      <td>ffffce3fb183ee80</td>\n",
              "      <td>0.5</td>\n",
              "      <td>0.5</td>\n",
              "      <td>0.5</td>\n",
              "      <td>0.5</td>\n",
              "      <td>0.5</td>\n",
              "      <td>0.5</td>\n",
              "    </tr>\n",
              "  </tbody>\n",
              "</table>\n",
              "<p>153164 rows × 7 columns</p>\n",
              "</div>\n",
              "      <button class=\"colab-df-convert\" onclick=\"convertToInteractive('df-1ab47424-e148-44ae-81a8-bc71112ecef7')\"\n",
              "              title=\"Convert this dataframe to an interactive table.\"\n",
              "              style=\"display:none;\">\n",
              "        \n",
              "  <svg xmlns=\"http://www.w3.org/2000/svg\" height=\"24px\"viewBox=\"0 0 24 24\"\n",
              "       width=\"24px\">\n",
              "    <path d=\"M0 0h24v24H0V0z\" fill=\"none\"/>\n",
              "    <path d=\"M18.56 5.44l.94 2.06.94-2.06 2.06-.94-2.06-.94-.94-2.06-.94 2.06-2.06.94zm-11 1L8.5 8.5l.94-2.06 2.06-.94-2.06-.94L8.5 2.5l-.94 2.06-2.06.94zm10 10l.94 2.06.94-2.06 2.06-.94-2.06-.94-.94-2.06-.94 2.06-2.06.94z\"/><path d=\"M17.41 7.96l-1.37-1.37c-.4-.4-.92-.59-1.43-.59-.52 0-1.04.2-1.43.59L10.3 9.45l-7.72 7.72c-.78.78-.78 2.05 0 2.83L4 21.41c.39.39.9.59 1.41.59.51 0 1.02-.2 1.41-.59l7.78-7.78 2.81-2.81c.8-.78.8-2.07 0-2.86zM5.41 20L4 18.59l7.72-7.72 1.47 1.35L5.41 20z\"/>\n",
              "  </svg>\n",
              "      </button>\n",
              "      \n",
              "  <style>\n",
              "    .colab-df-container {\n",
              "      display:flex;\n",
              "      flex-wrap:wrap;\n",
              "      gap: 12px;\n",
              "    }\n",
              "\n",
              "    .colab-df-convert {\n",
              "      background-color: #E8F0FE;\n",
              "      border: none;\n",
              "      border-radius: 50%;\n",
              "      cursor: pointer;\n",
              "      display: none;\n",
              "      fill: #1967D2;\n",
              "      height: 32px;\n",
              "      padding: 0 0 0 0;\n",
              "      width: 32px;\n",
              "    }\n",
              "\n",
              "    .colab-df-convert:hover {\n",
              "      background-color: #E2EBFA;\n",
              "      box-shadow: 0px 1px 2px rgba(60, 64, 67, 0.3), 0px 1px 3px 1px rgba(60, 64, 67, 0.15);\n",
              "      fill: #174EA6;\n",
              "    }\n",
              "\n",
              "    [theme=dark] .colab-df-convert {\n",
              "      background-color: #3B4455;\n",
              "      fill: #D2E3FC;\n",
              "    }\n",
              "\n",
              "    [theme=dark] .colab-df-convert:hover {\n",
              "      background-color: #434B5C;\n",
              "      box-shadow: 0px 1px 3px 1px rgba(0, 0, 0, 0.15);\n",
              "      filter: drop-shadow(0px 1px 2px rgba(0, 0, 0, 0.3));\n",
              "      fill: #FFFFFF;\n",
              "    }\n",
              "  </style>\n",
              "\n",
              "      <script>\n",
              "        const buttonEl =\n",
              "          document.querySelector('#df-1ab47424-e148-44ae-81a8-bc71112ecef7 button.colab-df-convert');\n",
              "        buttonEl.style.display =\n",
              "          google.colab.kernel.accessAllowed ? 'block' : 'none';\n",
              "\n",
              "        async function convertToInteractive(key) {\n",
              "          const element = document.querySelector('#df-1ab47424-e148-44ae-81a8-bc71112ecef7');\n",
              "          const dataTable =\n",
              "            await google.colab.kernel.invokeFunction('convertToInteractive',\n",
              "                                                     [key], {});\n",
              "          if (!dataTable) return;\n",
              "\n",
              "          const docLinkHtml = 'Like what you see? Visit the ' +\n",
              "            '<a target=\"_blank\" href=https://colab.research.google.com/notebooks/data_table.ipynb>data table notebook</a>'\n",
              "            + ' to learn more about interactive tables.';\n",
              "          element.innerHTML = '';\n",
              "          dataTable['output_type'] = 'display_data';\n",
              "          await google.colab.output.renderOutput(dataTable, element);\n",
              "          const docLink = document.createElement('div');\n",
              "          docLink.innerHTML = docLinkHtml;\n",
              "          element.appendChild(docLink);\n",
              "        }\n",
              "      </script>\n",
              "    </div>\n",
              "  </div>\n",
              "  "
            ]
          },
          "metadata": {},
          "execution_count": 138
        }
      ]
    },
    {
      "cell_type": "code",
      "source": [
        "sub_df[target_cols] = test_probs.detach().cpu().numpy()"
      ],
      "metadata": {
        "id": "KuyuAo4ijYCL"
      },
      "execution_count": 158,
      "outputs": []
    },
    {
      "cell_type": "code",
      "source": [
        "sub_df "
      ],
      "metadata": {
        "colab": {
          "base_uri": "https://localhost:8080/",
          "height": 424
        },
        "id": "EVOSM_tjjhe8",
        "outputId": "7f1f80db-589f-4d61-c1dc-223373016d77"
      },
      "execution_count": 159,
      "outputs": [
        {
          "output_type": "execute_result",
          "data": {
            "text/plain": [
              "                      id     toxic  severe_toxic   obscene    threat  \\\n",
              "0       00001cee341fdb12  0.728558      0.563263  0.708848  0.504899   \n",
              "1       0000247867823ef7  0.504017      0.500021  0.500527  0.500043   \n",
              "2       00013b17ad220c46  0.501276      0.500016  0.500273  0.500056   \n",
              "3       00017563c3f7919a  0.500878      0.500008  0.500194  0.500034   \n",
              "4       00017695ad8997eb  0.503497      0.500039  0.500699  0.500051   \n",
              "...                  ...       ...           ...       ...       ...   \n",
              "153159  fffcd0960ee309b5  0.503677      0.500026  0.500603  0.500044   \n",
              "153160  fffd7a9a6eb32c16  0.506871      0.500042  0.500859  0.500129   \n",
              "153161  fffda9e8d6fafa9e  0.503740      0.500033  0.500642  0.500031   \n",
              "153162  fffe8f1340a79fc2  0.503723      0.500026  0.500523  0.500045   \n",
              "153163  ffffce3fb183ee80  0.705926      0.513429  0.614924  0.503223   \n",
              "\n",
              "          insult  identity_hate  \n",
              "0       0.696969       0.521033  \n",
              "1       0.500712       0.500062  \n",
              "2       0.500201       0.500030  \n",
              "3       0.500186       0.500023  \n",
              "4       0.500610       0.500050  \n",
              "...          ...            ...  \n",
              "153159  0.500607       0.500093  \n",
              "153160  0.501054       0.500127  \n",
              "153161  0.500784       0.500082  \n",
              "153162  0.500686       0.500088  \n",
              "153163  0.616952       0.511393  \n",
              "\n",
              "[153164 rows x 7 columns]"
            ],
            "text/html": [
              "\n",
              "  <div id=\"df-d6284c72-7e0d-4ba9-ae0b-22d12d297c81\">\n",
              "    <div class=\"colab-df-container\">\n",
              "      <div>\n",
              "<style scoped>\n",
              "    .dataframe tbody tr th:only-of-type {\n",
              "        vertical-align: middle;\n",
              "    }\n",
              "\n",
              "    .dataframe tbody tr th {\n",
              "        vertical-align: top;\n",
              "    }\n",
              "\n",
              "    .dataframe thead th {\n",
              "        text-align: right;\n",
              "    }\n",
              "</style>\n",
              "<table border=\"1\" class=\"dataframe\">\n",
              "  <thead>\n",
              "    <tr style=\"text-align: right;\">\n",
              "      <th></th>\n",
              "      <th>id</th>\n",
              "      <th>toxic</th>\n",
              "      <th>severe_toxic</th>\n",
              "      <th>obscene</th>\n",
              "      <th>threat</th>\n",
              "      <th>insult</th>\n",
              "      <th>identity_hate</th>\n",
              "    </tr>\n",
              "  </thead>\n",
              "  <tbody>\n",
              "    <tr>\n",
              "      <th>0</th>\n",
              "      <td>00001cee341fdb12</td>\n",
              "      <td>0.728558</td>\n",
              "      <td>0.563263</td>\n",
              "      <td>0.708848</td>\n",
              "      <td>0.504899</td>\n",
              "      <td>0.696969</td>\n",
              "      <td>0.521033</td>\n",
              "    </tr>\n",
              "    <tr>\n",
              "      <th>1</th>\n",
              "      <td>0000247867823ef7</td>\n",
              "      <td>0.504017</td>\n",
              "      <td>0.500021</td>\n",
              "      <td>0.500527</td>\n",
              "      <td>0.500043</td>\n",
              "      <td>0.500712</td>\n",
              "      <td>0.500062</td>\n",
              "    </tr>\n",
              "    <tr>\n",
              "      <th>2</th>\n",
              "      <td>00013b17ad220c46</td>\n",
              "      <td>0.501276</td>\n",
              "      <td>0.500016</td>\n",
              "      <td>0.500273</td>\n",
              "      <td>0.500056</td>\n",
              "      <td>0.500201</td>\n",
              "      <td>0.500030</td>\n",
              "    </tr>\n",
              "    <tr>\n",
              "      <th>3</th>\n",
              "      <td>00017563c3f7919a</td>\n",
              "      <td>0.500878</td>\n",
              "      <td>0.500008</td>\n",
              "      <td>0.500194</td>\n",
              "      <td>0.500034</td>\n",
              "      <td>0.500186</td>\n",
              "      <td>0.500023</td>\n",
              "    </tr>\n",
              "    <tr>\n",
              "      <th>4</th>\n",
              "      <td>00017695ad8997eb</td>\n",
              "      <td>0.503497</td>\n",
              "      <td>0.500039</td>\n",
              "      <td>0.500699</td>\n",
              "      <td>0.500051</td>\n",
              "      <td>0.500610</td>\n",
              "      <td>0.500050</td>\n",
              "    </tr>\n",
              "    <tr>\n",
              "      <th>...</th>\n",
              "      <td>...</td>\n",
              "      <td>...</td>\n",
              "      <td>...</td>\n",
              "      <td>...</td>\n",
              "      <td>...</td>\n",
              "      <td>...</td>\n",
              "      <td>...</td>\n",
              "    </tr>\n",
              "    <tr>\n",
              "      <th>153159</th>\n",
              "      <td>fffcd0960ee309b5</td>\n",
              "      <td>0.503677</td>\n",
              "      <td>0.500026</td>\n",
              "      <td>0.500603</td>\n",
              "      <td>0.500044</td>\n",
              "      <td>0.500607</td>\n",
              "      <td>0.500093</td>\n",
              "    </tr>\n",
              "    <tr>\n",
              "      <th>153160</th>\n",
              "      <td>fffd7a9a6eb32c16</td>\n",
              "      <td>0.506871</td>\n",
              "      <td>0.500042</td>\n",
              "      <td>0.500859</td>\n",
              "      <td>0.500129</td>\n",
              "      <td>0.501054</td>\n",
              "      <td>0.500127</td>\n",
              "    </tr>\n",
              "    <tr>\n",
              "      <th>153161</th>\n",
              "      <td>fffda9e8d6fafa9e</td>\n",
              "      <td>0.503740</td>\n",
              "      <td>0.500033</td>\n",
              "      <td>0.500642</td>\n",
              "      <td>0.500031</td>\n",
              "      <td>0.500784</td>\n",
              "      <td>0.500082</td>\n",
              "    </tr>\n",
              "    <tr>\n",
              "      <th>153162</th>\n",
              "      <td>fffe8f1340a79fc2</td>\n",
              "      <td>0.503723</td>\n",
              "      <td>0.500026</td>\n",
              "      <td>0.500523</td>\n",
              "      <td>0.500045</td>\n",
              "      <td>0.500686</td>\n",
              "      <td>0.500088</td>\n",
              "    </tr>\n",
              "    <tr>\n",
              "      <th>153163</th>\n",
              "      <td>ffffce3fb183ee80</td>\n",
              "      <td>0.705926</td>\n",
              "      <td>0.513429</td>\n",
              "      <td>0.614924</td>\n",
              "      <td>0.503223</td>\n",
              "      <td>0.616952</td>\n",
              "      <td>0.511393</td>\n",
              "    </tr>\n",
              "  </tbody>\n",
              "</table>\n",
              "<p>153164 rows × 7 columns</p>\n",
              "</div>\n",
              "      <button class=\"colab-df-convert\" onclick=\"convertToInteractive('df-d6284c72-7e0d-4ba9-ae0b-22d12d297c81')\"\n",
              "              title=\"Convert this dataframe to an interactive table.\"\n",
              "              style=\"display:none;\">\n",
              "        \n",
              "  <svg xmlns=\"http://www.w3.org/2000/svg\" height=\"24px\"viewBox=\"0 0 24 24\"\n",
              "       width=\"24px\">\n",
              "    <path d=\"M0 0h24v24H0V0z\" fill=\"none\"/>\n",
              "    <path d=\"M18.56 5.44l.94 2.06.94-2.06 2.06-.94-2.06-.94-.94-2.06-.94 2.06-2.06.94zm-11 1L8.5 8.5l.94-2.06 2.06-.94-2.06-.94L8.5 2.5l-.94 2.06-2.06.94zm10 10l.94 2.06.94-2.06 2.06-.94-2.06-.94-.94-2.06-.94 2.06-2.06.94z\"/><path d=\"M17.41 7.96l-1.37-1.37c-.4-.4-.92-.59-1.43-.59-.52 0-1.04.2-1.43.59L10.3 9.45l-7.72 7.72c-.78.78-.78 2.05 0 2.83L4 21.41c.39.39.9.59 1.41.59.51 0 1.02-.2 1.41-.59l7.78-7.78 2.81-2.81c.8-.78.8-2.07 0-2.86zM5.41 20L4 18.59l7.72-7.72 1.47 1.35L5.41 20z\"/>\n",
              "  </svg>\n",
              "      </button>\n",
              "      \n",
              "  <style>\n",
              "    .colab-df-container {\n",
              "      display:flex;\n",
              "      flex-wrap:wrap;\n",
              "      gap: 12px;\n",
              "    }\n",
              "\n",
              "    .colab-df-convert {\n",
              "      background-color: #E8F0FE;\n",
              "      border: none;\n",
              "      border-radius: 50%;\n",
              "      cursor: pointer;\n",
              "      display: none;\n",
              "      fill: #1967D2;\n",
              "      height: 32px;\n",
              "      padding: 0 0 0 0;\n",
              "      width: 32px;\n",
              "    }\n",
              "\n",
              "    .colab-df-convert:hover {\n",
              "      background-color: #E2EBFA;\n",
              "      box-shadow: 0px 1px 2px rgba(60, 64, 67, 0.3), 0px 1px 3px 1px rgba(60, 64, 67, 0.15);\n",
              "      fill: #174EA6;\n",
              "    }\n",
              "\n",
              "    [theme=dark] .colab-df-convert {\n",
              "      background-color: #3B4455;\n",
              "      fill: #D2E3FC;\n",
              "    }\n",
              "\n",
              "    [theme=dark] .colab-df-convert:hover {\n",
              "      background-color: #434B5C;\n",
              "      box-shadow: 0px 1px 3px 1px rgba(0, 0, 0, 0.15);\n",
              "      filter: drop-shadow(0px 1px 2px rgba(0, 0, 0, 0.3));\n",
              "      fill: #FFFFFF;\n",
              "    }\n",
              "  </style>\n",
              "\n",
              "      <script>\n",
              "        const buttonEl =\n",
              "          document.querySelector('#df-d6284c72-7e0d-4ba9-ae0b-22d12d297c81 button.colab-df-convert');\n",
              "        buttonEl.style.display =\n",
              "          google.colab.kernel.accessAllowed ? 'block' : 'none';\n",
              "\n",
              "        async function convertToInteractive(key) {\n",
              "          const element = document.querySelector('#df-d6284c72-7e0d-4ba9-ae0b-22d12d297c81');\n",
              "          const dataTable =\n",
              "            await google.colab.kernel.invokeFunction('convertToInteractive',\n",
              "                                                     [key], {});\n",
              "          if (!dataTable) return;\n",
              "\n",
              "          const docLinkHtml = 'Like what you see? Visit the ' +\n",
              "            '<a target=\"_blank\" href=https://colab.research.google.com/notebooks/data_table.ipynb>data table notebook</a>'\n",
              "            + ' to learn more about interactive tables.';\n",
              "          element.innerHTML = '';\n",
              "          dataTable['output_type'] = 'display_data';\n",
              "          await google.colab.output.renderOutput(dataTable, element);\n",
              "          const docLink = document.createElement('div');\n",
              "          docLink.innerHTML = docLinkHtml;\n",
              "          element.appendChild(docLink);\n",
              "        }\n",
              "      </script>\n",
              "    </div>\n",
              "  </div>\n",
              "  "
            ]
          },
          "metadata": {},
          "execution_count": 159
        }
      ]
    },
    {
      "cell_type": "code",
      "source": [
        "sub_df.to_csv('new_submission.csv',index=None)"
      ],
      "metadata": {
        "id": "6yDGNl_wjnzn"
      },
      "execution_count": 161,
      "outputs": []
    },
    {
      "cell_type": "code",
      "source": [
        "!head submission.csv"
      ],
      "metadata": {
        "colab": {
          "base_uri": "https://localhost:8080/"
        },
        "id": "pHH6-evVjtOC",
        "outputId": "72d5f6d0-071a-4d9a-f5cd-cd68b582ab4d"
      },
      "execution_count": 162,
      "outputs": [
        {
          "output_type": "stream",
          "name": "stdout",
          "text": [
            "id,toxic,severe_toxic,obscene,threat,insult,identity_hate\n",
            "00001cee341fdb12,0.728558,0.5632625,0.7088479,0.5048994,0.69696873,0.5210332\n",
            "0000247867823ef7,0.50401735,0.5000207,0.50052655,0.50004256,0.5007118,0.50006175\n",
            "00013b17ad220c46,0.50127625,0.50001645,0.50027263,0.5000559,0.5002013,0.50003046\n",
            "00017563c3f7919a,0.5008776,0.50000817,0.5001936,0.5000339,0.50018626,0.5000227\n",
            "00017695ad8997eb,0.5034975,0.5000393,0.5006989,0.50005126,0.5006103,0.5000496\n",
            "0001ea8717f6de06,0.50097525,0.5000102,0.5002149,0.50005275,0.50014365,0.5000251\n",
            "00024115d4cbde0f,0.5029313,0.5000138,0.50048023,0.50005794,0.5005074,0.5000435\n",
            "000247e83dcc1211,0.5532686,0.5004593,0.50971204,0.5005126,0.5103323,0.50105083\n",
            "00025358d4737918,0.5503142,0.50033593,0.50375307,0.5007399,0.5068253,0.5011486\n"
          ]
        }
      ]
    },
    {
      "cell_type": "code",
      "source": [
        "sample_df = raw_df.sample(10)"
      ],
      "metadata": {
        "id": "1NN-Io03juzN"
      },
      "execution_count": 153,
      "outputs": []
    },
    {
      "cell_type": "code",
      "source": [
        "sample_df"
      ],
      "metadata": {
        "colab": {
          "base_uri": "https://localhost:8080/",
          "height": 363
        },
        "id": "PCFT4bWYk0fV",
        "outputId": "43a796b2-d63f-47bd-8c01-5fbf98c16ce7"
      },
      "execution_count": 154,
      "outputs": [
        {
          "output_type": "execute_result",
          "data": {
            "text/plain": [
              "                      id                                       comment_text  \\\n",
              "62755   a7e718688f610f43  Hi, thanks for the prompt reply, ideally we wo...   \n",
              "30998   525804f5914fa875  Fred Carama \\n\\nYou voted to delete this artic...   \n",
              "58765   9d5e694ea225d63d  Your typical semi-religious or non-religious  ...   \n",
              "444     012158a8030c1bd0  Men's ranking Figure: While nice to look at, m...   \n",
              "151764  827fcf2b4c598191  \"\\nWas the NYT consistently used for years as ...   \n",
              "69066   b8c57b40eb76460e  |.]]Please share your thoughts on the matter a...   \n",
              "118410  78ae445fba2e55cf  \"= Traffic drives improvement ===\\n\\nThe outli...   \n",
              "129268  b366b590c19f9dea  \"\\n\\nDennis, I'd really love to hear an answer...   \n",
              "45388   795fce3639951b2a  Lostpedia further reading \\n\\nYou seem to have...   \n",
              "11049   1d304402e5bdf46c  \"\\n\\nArgh, you assehole. Not only did you give...   \n",
              "\n",
              "        toxic  severe_toxic  obscene  threat  insult  identity_hate  \n",
              "62755       0             0        0       0       0              0  \n",
              "30998       0             0        0       0       0              0  \n",
              "58765       0             0        0       0       0              0  \n",
              "444         0             0        0       0       0              0  \n",
              "151764      0             0        0       0       0              0  \n",
              "69066       0             0        0       0       0              0  \n",
              "118410      0             0        0       0       0              0  \n",
              "129268      0             0        0       0       0              0  \n",
              "45388       0             0        0       0       0              0  \n",
              "11049       1             0        1       0       1              0  "
            ],
            "text/html": [
              "\n",
              "  <div id=\"df-056f8028-05db-4dc4-b5a4-a6b24d10ee28\">\n",
              "    <div class=\"colab-df-container\">\n",
              "      <div>\n",
              "<style scoped>\n",
              "    .dataframe tbody tr th:only-of-type {\n",
              "        vertical-align: middle;\n",
              "    }\n",
              "\n",
              "    .dataframe tbody tr th {\n",
              "        vertical-align: top;\n",
              "    }\n",
              "\n",
              "    .dataframe thead th {\n",
              "        text-align: right;\n",
              "    }\n",
              "</style>\n",
              "<table border=\"1\" class=\"dataframe\">\n",
              "  <thead>\n",
              "    <tr style=\"text-align: right;\">\n",
              "      <th></th>\n",
              "      <th>id</th>\n",
              "      <th>comment_text</th>\n",
              "      <th>toxic</th>\n",
              "      <th>severe_toxic</th>\n",
              "      <th>obscene</th>\n",
              "      <th>threat</th>\n",
              "      <th>insult</th>\n",
              "      <th>identity_hate</th>\n",
              "    </tr>\n",
              "  </thead>\n",
              "  <tbody>\n",
              "    <tr>\n",
              "      <th>62755</th>\n",
              "      <td>a7e718688f610f43</td>\n",
              "      <td>Hi, thanks for the prompt reply, ideally we wo...</td>\n",
              "      <td>0</td>\n",
              "      <td>0</td>\n",
              "      <td>0</td>\n",
              "      <td>0</td>\n",
              "      <td>0</td>\n",
              "      <td>0</td>\n",
              "    </tr>\n",
              "    <tr>\n",
              "      <th>30998</th>\n",
              "      <td>525804f5914fa875</td>\n",
              "      <td>Fred Carama \\n\\nYou voted to delete this artic...</td>\n",
              "      <td>0</td>\n",
              "      <td>0</td>\n",
              "      <td>0</td>\n",
              "      <td>0</td>\n",
              "      <td>0</td>\n",
              "      <td>0</td>\n",
              "    </tr>\n",
              "    <tr>\n",
              "      <th>58765</th>\n",
              "      <td>9d5e694ea225d63d</td>\n",
              "      <td>Your typical semi-religious or non-religious  ...</td>\n",
              "      <td>0</td>\n",
              "      <td>0</td>\n",
              "      <td>0</td>\n",
              "      <td>0</td>\n",
              "      <td>0</td>\n",
              "      <td>0</td>\n",
              "    </tr>\n",
              "    <tr>\n",
              "      <th>444</th>\n",
              "      <td>012158a8030c1bd0</td>\n",
              "      <td>Men's ranking Figure: While nice to look at, m...</td>\n",
              "      <td>0</td>\n",
              "      <td>0</td>\n",
              "      <td>0</td>\n",
              "      <td>0</td>\n",
              "      <td>0</td>\n",
              "      <td>0</td>\n",
              "    </tr>\n",
              "    <tr>\n",
              "      <th>151764</th>\n",
              "      <td>827fcf2b4c598191</td>\n",
              "      <td>\"\\nWas the NYT consistently used for years as ...</td>\n",
              "      <td>0</td>\n",
              "      <td>0</td>\n",
              "      <td>0</td>\n",
              "      <td>0</td>\n",
              "      <td>0</td>\n",
              "      <td>0</td>\n",
              "    </tr>\n",
              "    <tr>\n",
              "      <th>69066</th>\n",
              "      <td>b8c57b40eb76460e</td>\n",
              "      <td>|.]]Please share your thoughts on the matter a...</td>\n",
              "      <td>0</td>\n",
              "      <td>0</td>\n",
              "      <td>0</td>\n",
              "      <td>0</td>\n",
              "      <td>0</td>\n",
              "      <td>0</td>\n",
              "    </tr>\n",
              "    <tr>\n",
              "      <th>118410</th>\n",
              "      <td>78ae445fba2e55cf</td>\n",
              "      <td>\"= Traffic drives improvement ===\\n\\nThe outli...</td>\n",
              "      <td>0</td>\n",
              "      <td>0</td>\n",
              "      <td>0</td>\n",
              "      <td>0</td>\n",
              "      <td>0</td>\n",
              "      <td>0</td>\n",
              "    </tr>\n",
              "    <tr>\n",
              "      <th>129268</th>\n",
              "      <td>b366b590c19f9dea</td>\n",
              "      <td>\"\\n\\nDennis, I'd really love to hear an answer...</td>\n",
              "      <td>0</td>\n",
              "      <td>0</td>\n",
              "      <td>0</td>\n",
              "      <td>0</td>\n",
              "      <td>0</td>\n",
              "      <td>0</td>\n",
              "    </tr>\n",
              "    <tr>\n",
              "      <th>45388</th>\n",
              "      <td>795fce3639951b2a</td>\n",
              "      <td>Lostpedia further reading \\n\\nYou seem to have...</td>\n",
              "      <td>0</td>\n",
              "      <td>0</td>\n",
              "      <td>0</td>\n",
              "      <td>0</td>\n",
              "      <td>0</td>\n",
              "      <td>0</td>\n",
              "    </tr>\n",
              "    <tr>\n",
              "      <th>11049</th>\n",
              "      <td>1d304402e5bdf46c</td>\n",
              "      <td>\"\\n\\nArgh, you assehole. Not only did you give...</td>\n",
              "      <td>1</td>\n",
              "      <td>0</td>\n",
              "      <td>1</td>\n",
              "      <td>0</td>\n",
              "      <td>1</td>\n",
              "      <td>0</td>\n",
              "    </tr>\n",
              "  </tbody>\n",
              "</table>\n",
              "</div>\n",
              "      <button class=\"colab-df-convert\" onclick=\"convertToInteractive('df-056f8028-05db-4dc4-b5a4-a6b24d10ee28')\"\n",
              "              title=\"Convert this dataframe to an interactive table.\"\n",
              "              style=\"display:none;\">\n",
              "        \n",
              "  <svg xmlns=\"http://www.w3.org/2000/svg\" height=\"24px\"viewBox=\"0 0 24 24\"\n",
              "       width=\"24px\">\n",
              "    <path d=\"M0 0h24v24H0V0z\" fill=\"none\"/>\n",
              "    <path d=\"M18.56 5.44l.94 2.06.94-2.06 2.06-.94-2.06-.94-.94-2.06-.94 2.06-2.06.94zm-11 1L8.5 8.5l.94-2.06 2.06-.94-2.06-.94L8.5 2.5l-.94 2.06-2.06.94zm10 10l.94 2.06.94-2.06 2.06-.94-2.06-.94-.94-2.06-.94 2.06-2.06.94z\"/><path d=\"M17.41 7.96l-1.37-1.37c-.4-.4-.92-.59-1.43-.59-.52 0-1.04.2-1.43.59L10.3 9.45l-7.72 7.72c-.78.78-.78 2.05 0 2.83L4 21.41c.39.39.9.59 1.41.59.51 0 1.02-.2 1.41-.59l7.78-7.78 2.81-2.81c.8-.78.8-2.07 0-2.86zM5.41 20L4 18.59l7.72-7.72 1.47 1.35L5.41 20z\"/>\n",
              "  </svg>\n",
              "      </button>\n",
              "      \n",
              "  <style>\n",
              "    .colab-df-container {\n",
              "      display:flex;\n",
              "      flex-wrap:wrap;\n",
              "      gap: 12px;\n",
              "    }\n",
              "\n",
              "    .colab-df-convert {\n",
              "      background-color: #E8F0FE;\n",
              "      border: none;\n",
              "      border-radius: 50%;\n",
              "      cursor: pointer;\n",
              "      display: none;\n",
              "      fill: #1967D2;\n",
              "      height: 32px;\n",
              "      padding: 0 0 0 0;\n",
              "      width: 32px;\n",
              "    }\n",
              "\n",
              "    .colab-df-convert:hover {\n",
              "      background-color: #E2EBFA;\n",
              "      box-shadow: 0px 1px 2px rgba(60, 64, 67, 0.3), 0px 1px 3px 1px rgba(60, 64, 67, 0.15);\n",
              "      fill: #174EA6;\n",
              "    }\n",
              "\n",
              "    [theme=dark] .colab-df-convert {\n",
              "      background-color: #3B4455;\n",
              "      fill: #D2E3FC;\n",
              "    }\n",
              "\n",
              "    [theme=dark] .colab-df-convert:hover {\n",
              "      background-color: #434B5C;\n",
              "      box-shadow: 0px 1px 3px 1px rgba(0, 0, 0, 0.15);\n",
              "      filter: drop-shadow(0px 1px 2px rgba(0, 0, 0, 0.3));\n",
              "      fill: #FFFFFF;\n",
              "    }\n",
              "  </style>\n",
              "\n",
              "      <script>\n",
              "        const buttonEl =\n",
              "          document.querySelector('#df-056f8028-05db-4dc4-b5a4-a6b24d10ee28 button.colab-df-convert');\n",
              "        buttonEl.style.display =\n",
              "          google.colab.kernel.accessAllowed ? 'block' : 'none';\n",
              "\n",
              "        async function convertToInteractive(key) {\n",
              "          const element = document.querySelector('#df-056f8028-05db-4dc4-b5a4-a6b24d10ee28');\n",
              "          const dataTable =\n",
              "            await google.colab.kernel.invokeFunction('convertToInteractive',\n",
              "                                                     [key], {});\n",
              "          if (!dataTable) return;\n",
              "\n",
              "          const docLinkHtml = 'Like what you see? Visit the ' +\n",
              "            '<a target=\"_blank\" href=https://colab.research.google.com/notebooks/data_table.ipynb>data table notebook</a>'\n",
              "            + ' to learn more about interactive tables.';\n",
              "          element.innerHTML = '';\n",
              "          dataTable['output_type'] = 'display_data';\n",
              "          await google.colab.output.renderOutput(dataTable, element);\n",
              "          const docLink = document.createElement('div');\n",
              "          docLink.innerHTML = docLinkHtml;\n",
              "          element.appendChild(docLink);\n",
              "        }\n",
              "      </script>\n",
              "    </div>\n",
              "  </div>\n",
              "  "
            ]
          },
          "metadata": {},
          "execution_count": 154
        }
      ]
    },
    {
      "cell_type": "code",
      "source": [
        "sample_ds = JigsawDataset(sample_df)"
      ],
      "metadata": {
        "id": "VslxNfUOk1IU"
      },
      "execution_count": 155,
      "outputs": []
    },
    {
      "cell_type": "code",
      "source": [
        "sample_dl = DataLoader(sample_ds,batch_size=10)"
      ],
      "metadata": {
        "id": "hbnniRO8lBM8"
      },
      "execution_count": 156,
      "outputs": []
    },
    {
      "cell_type": "code",
      "source": [
        "sample_preds = trainer.predict(model,sample_dl)"
      ],
      "metadata": {
        "colab": {
          "base_uri": "https://localhost:8080/",
          "height": 66,
          "referenced_widgets": [
            "4b36230dd8064e088c822643fc8ca8d0",
            "f175369874734fe1bc3c529543a26fec",
            "6a74eb12236d4dc98d57565e3e67aca1",
            "1b69b0a5477b4eb7a8e159155888b324",
            "bbe8463b7fa248f1a304ba2dd3614b16",
            "19271c6d5ca040c89fc323973ce517aa",
            "d8af521ef41a41d3b145d7c830cb935e",
            "8694e17119014702bed5bb2da0cd6227",
            "77d84569241b47f0b1a7601dcfec2d57",
            "c6d98cd98f2b480fb3bf5870d7798489",
            "82e580da083240b0838b54b2d891c021"
          ]
        },
        "id": "UUPROQxzlFJR",
        "outputId": "ebd2d733-2ffe-494c-ef90-0d179765cde9"
      },
      "execution_count": 163,
      "outputs": [
        {
          "output_type": "stream",
          "name": "stderr",
          "text": [
            "INFO:pytorch_lightning.accelerators.cuda:LOCAL_RANK: 0 - CUDA_VISIBLE_DEVICES: [0]\n"
          ]
        },
        {
          "output_type": "display_data",
          "data": {
            "text/plain": [
              "Predicting: 468it [00:00, ?it/s]"
            ],
            "application/vnd.jupyter.widget-view+json": {
              "version_major": 2,
              "version_minor": 0,
              "model_id": "4b36230dd8064e088c822643fc8ca8d0"
            }
          },
          "metadata": {}
        }
      ]
    },
    {
      "cell_type": "code",
      "source": [
        "sample_probs = torch.sigmoid(sample_preds[0])"
      ],
      "metadata": {
        "id": "VyOa9gxdlkkv"
      },
      "execution_count": 164,
      "outputs": []
    },
    {
      "cell_type": "code",
      "source": [
        "(sample_probs>0.55).int()"
      ],
      "metadata": {
        "colab": {
          "base_uri": "https://localhost:8080/"
        },
        "id": "qd0Uh4CqlpJj",
        "outputId": "48a5fce1-ae1c-4d81-c2af-bf1560a6ecf8"
      },
      "execution_count": 173,
      "outputs": [
        {
          "output_type": "execute_result",
          "data": {
            "text/plain": [
              "tensor([[0, 0, 0, 0, 0, 0],\n",
              "        [0, 0, 0, 0, 0, 0],\n",
              "        [0, 0, 0, 0, 0, 0],\n",
              "        [0, 0, 0, 0, 0, 0],\n",
              "        [0, 0, 0, 0, 0, 0],\n",
              "        [0, 0, 0, 0, 0, 0],\n",
              "        [0, 0, 0, 0, 0, 0],\n",
              "        [0, 0, 0, 0, 0, 0],\n",
              "        [0, 0, 0, 0, 0, 0],\n",
              "        [1, 0, 1, 0, 1, 0]], dtype=torch.int32)"
            ]
          },
          "metadata": {},
          "execution_count": 173
        }
      ]
    },
    {
      "cell_type": "code",
      "source": [
        "sample_df"
      ],
      "metadata": {
        "colab": {
          "base_uri": "https://localhost:8080/",
          "height": 363
        },
        "id": "0Zi7mVixlp8r",
        "outputId": "c304299f-1b79-4bbc-928d-ebd9597b8b57"
      },
      "execution_count": 174,
      "outputs": [
        {
          "output_type": "execute_result",
          "data": {
            "text/plain": [
              "                      id                                       comment_text  \\\n",
              "62755   a7e718688f610f43  Hi, thanks for the prompt reply, ideally we wo...   \n",
              "30998   525804f5914fa875  Fred Carama \\n\\nYou voted to delete this artic...   \n",
              "58765   9d5e694ea225d63d  Your typical semi-religious or non-religious  ...   \n",
              "444     012158a8030c1bd0  Men's ranking Figure: While nice to look at, m...   \n",
              "151764  827fcf2b4c598191  \"\\nWas the NYT consistently used for years as ...   \n",
              "69066   b8c57b40eb76460e  |.]]Please share your thoughts on the matter a...   \n",
              "118410  78ae445fba2e55cf  \"= Traffic drives improvement ===\\n\\nThe outli...   \n",
              "129268  b366b590c19f9dea  \"\\n\\nDennis, I'd really love to hear an answer...   \n",
              "45388   795fce3639951b2a  Lostpedia further reading \\n\\nYou seem to have...   \n",
              "11049   1d304402e5bdf46c  \"\\n\\nArgh, you assehole. Not only did you give...   \n",
              "\n",
              "        toxic  severe_toxic  obscene  threat  insult  identity_hate  \n",
              "62755       0             0        0       0       0              0  \n",
              "30998       0             0        0       0       0              0  \n",
              "58765       0             0        0       0       0              0  \n",
              "444         0             0        0       0       0              0  \n",
              "151764      0             0        0       0       0              0  \n",
              "69066       0             0        0       0       0              0  \n",
              "118410      0             0        0       0       0              0  \n",
              "129268      0             0        0       0       0              0  \n",
              "45388       0             0        0       0       0              0  \n",
              "11049       1             0        1       0       1              0  "
            ],
            "text/html": [
              "\n",
              "  <div id=\"df-da8ed2f9-c3d9-4e4b-8278-0ef18bc38659\">\n",
              "    <div class=\"colab-df-container\">\n",
              "      <div>\n",
              "<style scoped>\n",
              "    .dataframe tbody tr th:only-of-type {\n",
              "        vertical-align: middle;\n",
              "    }\n",
              "\n",
              "    .dataframe tbody tr th {\n",
              "        vertical-align: top;\n",
              "    }\n",
              "\n",
              "    .dataframe thead th {\n",
              "        text-align: right;\n",
              "    }\n",
              "</style>\n",
              "<table border=\"1\" class=\"dataframe\">\n",
              "  <thead>\n",
              "    <tr style=\"text-align: right;\">\n",
              "      <th></th>\n",
              "      <th>id</th>\n",
              "      <th>comment_text</th>\n",
              "      <th>toxic</th>\n",
              "      <th>severe_toxic</th>\n",
              "      <th>obscene</th>\n",
              "      <th>threat</th>\n",
              "      <th>insult</th>\n",
              "      <th>identity_hate</th>\n",
              "    </tr>\n",
              "  </thead>\n",
              "  <tbody>\n",
              "    <tr>\n",
              "      <th>62755</th>\n",
              "      <td>a7e718688f610f43</td>\n",
              "      <td>Hi, thanks for the prompt reply, ideally we wo...</td>\n",
              "      <td>0</td>\n",
              "      <td>0</td>\n",
              "      <td>0</td>\n",
              "      <td>0</td>\n",
              "      <td>0</td>\n",
              "      <td>0</td>\n",
              "    </tr>\n",
              "    <tr>\n",
              "      <th>30998</th>\n",
              "      <td>525804f5914fa875</td>\n",
              "      <td>Fred Carama \\n\\nYou voted to delete this artic...</td>\n",
              "      <td>0</td>\n",
              "      <td>0</td>\n",
              "      <td>0</td>\n",
              "      <td>0</td>\n",
              "      <td>0</td>\n",
              "      <td>0</td>\n",
              "    </tr>\n",
              "    <tr>\n",
              "      <th>58765</th>\n",
              "      <td>9d5e694ea225d63d</td>\n",
              "      <td>Your typical semi-religious or non-religious  ...</td>\n",
              "      <td>0</td>\n",
              "      <td>0</td>\n",
              "      <td>0</td>\n",
              "      <td>0</td>\n",
              "      <td>0</td>\n",
              "      <td>0</td>\n",
              "    </tr>\n",
              "    <tr>\n",
              "      <th>444</th>\n",
              "      <td>012158a8030c1bd0</td>\n",
              "      <td>Men's ranking Figure: While nice to look at, m...</td>\n",
              "      <td>0</td>\n",
              "      <td>0</td>\n",
              "      <td>0</td>\n",
              "      <td>0</td>\n",
              "      <td>0</td>\n",
              "      <td>0</td>\n",
              "    </tr>\n",
              "    <tr>\n",
              "      <th>151764</th>\n",
              "      <td>827fcf2b4c598191</td>\n",
              "      <td>\"\\nWas the NYT consistently used for years as ...</td>\n",
              "      <td>0</td>\n",
              "      <td>0</td>\n",
              "      <td>0</td>\n",
              "      <td>0</td>\n",
              "      <td>0</td>\n",
              "      <td>0</td>\n",
              "    </tr>\n",
              "    <tr>\n",
              "      <th>69066</th>\n",
              "      <td>b8c57b40eb76460e</td>\n",
              "      <td>|.]]Please share your thoughts on the matter a...</td>\n",
              "      <td>0</td>\n",
              "      <td>0</td>\n",
              "      <td>0</td>\n",
              "      <td>0</td>\n",
              "      <td>0</td>\n",
              "      <td>0</td>\n",
              "    </tr>\n",
              "    <tr>\n",
              "      <th>118410</th>\n",
              "      <td>78ae445fba2e55cf</td>\n",
              "      <td>\"= Traffic drives improvement ===\\n\\nThe outli...</td>\n",
              "      <td>0</td>\n",
              "      <td>0</td>\n",
              "      <td>0</td>\n",
              "      <td>0</td>\n",
              "      <td>0</td>\n",
              "      <td>0</td>\n",
              "    </tr>\n",
              "    <tr>\n",
              "      <th>129268</th>\n",
              "      <td>b366b590c19f9dea</td>\n",
              "      <td>\"\\n\\nDennis, I'd really love to hear an answer...</td>\n",
              "      <td>0</td>\n",
              "      <td>0</td>\n",
              "      <td>0</td>\n",
              "      <td>0</td>\n",
              "      <td>0</td>\n",
              "      <td>0</td>\n",
              "    </tr>\n",
              "    <tr>\n",
              "      <th>45388</th>\n",
              "      <td>795fce3639951b2a</td>\n",
              "      <td>Lostpedia further reading \\n\\nYou seem to have...</td>\n",
              "      <td>0</td>\n",
              "      <td>0</td>\n",
              "      <td>0</td>\n",
              "      <td>0</td>\n",
              "      <td>0</td>\n",
              "      <td>0</td>\n",
              "    </tr>\n",
              "    <tr>\n",
              "      <th>11049</th>\n",
              "      <td>1d304402e5bdf46c</td>\n",
              "      <td>\"\\n\\nArgh, you assehole. Not only did you give...</td>\n",
              "      <td>1</td>\n",
              "      <td>0</td>\n",
              "      <td>1</td>\n",
              "      <td>0</td>\n",
              "      <td>1</td>\n",
              "      <td>0</td>\n",
              "    </tr>\n",
              "  </tbody>\n",
              "</table>\n",
              "</div>\n",
              "      <button class=\"colab-df-convert\" onclick=\"convertToInteractive('df-da8ed2f9-c3d9-4e4b-8278-0ef18bc38659')\"\n",
              "              title=\"Convert this dataframe to an interactive table.\"\n",
              "              style=\"display:none;\">\n",
              "        \n",
              "  <svg xmlns=\"http://www.w3.org/2000/svg\" height=\"24px\"viewBox=\"0 0 24 24\"\n",
              "       width=\"24px\">\n",
              "    <path d=\"M0 0h24v24H0V0z\" fill=\"none\"/>\n",
              "    <path d=\"M18.56 5.44l.94 2.06.94-2.06 2.06-.94-2.06-.94-.94-2.06-.94 2.06-2.06.94zm-11 1L8.5 8.5l.94-2.06 2.06-.94-2.06-.94L8.5 2.5l-.94 2.06-2.06.94zm10 10l.94 2.06.94-2.06 2.06-.94-2.06-.94-.94-2.06-.94 2.06-2.06.94z\"/><path d=\"M17.41 7.96l-1.37-1.37c-.4-.4-.92-.59-1.43-.59-.52 0-1.04.2-1.43.59L10.3 9.45l-7.72 7.72c-.78.78-.78 2.05 0 2.83L4 21.41c.39.39.9.59 1.41.59.51 0 1.02-.2 1.41-.59l7.78-7.78 2.81-2.81c.8-.78.8-2.07 0-2.86zM5.41 20L4 18.59l7.72-7.72 1.47 1.35L5.41 20z\"/>\n",
              "  </svg>\n",
              "      </button>\n",
              "      \n",
              "  <style>\n",
              "    .colab-df-container {\n",
              "      display:flex;\n",
              "      flex-wrap:wrap;\n",
              "      gap: 12px;\n",
              "    }\n",
              "\n",
              "    .colab-df-convert {\n",
              "      background-color: #E8F0FE;\n",
              "      border: none;\n",
              "      border-radius: 50%;\n",
              "      cursor: pointer;\n",
              "      display: none;\n",
              "      fill: #1967D2;\n",
              "      height: 32px;\n",
              "      padding: 0 0 0 0;\n",
              "      width: 32px;\n",
              "    }\n",
              "\n",
              "    .colab-df-convert:hover {\n",
              "      background-color: #E2EBFA;\n",
              "      box-shadow: 0px 1px 2px rgba(60, 64, 67, 0.3), 0px 1px 3px 1px rgba(60, 64, 67, 0.15);\n",
              "      fill: #174EA6;\n",
              "    }\n",
              "\n",
              "    [theme=dark] .colab-df-convert {\n",
              "      background-color: #3B4455;\n",
              "      fill: #D2E3FC;\n",
              "    }\n",
              "\n",
              "    [theme=dark] .colab-df-convert:hover {\n",
              "      background-color: #434B5C;\n",
              "      box-shadow: 0px 1px 3px 1px rgba(0, 0, 0, 0.15);\n",
              "      filter: drop-shadow(0px 1px 2px rgba(0, 0, 0, 0.3));\n",
              "      fill: #FFFFFF;\n",
              "    }\n",
              "  </style>\n",
              "\n",
              "      <script>\n",
              "        const buttonEl =\n",
              "          document.querySelector('#df-da8ed2f9-c3d9-4e4b-8278-0ef18bc38659 button.colab-df-convert');\n",
              "        buttonEl.style.display =\n",
              "          google.colab.kernel.accessAllowed ? 'block' : 'none';\n",
              "\n",
              "        async function convertToInteractive(key) {\n",
              "          const element = document.querySelector('#df-da8ed2f9-c3d9-4e4b-8278-0ef18bc38659');\n",
              "          const dataTable =\n",
              "            await google.colab.kernel.invokeFunction('convertToInteractive',\n",
              "                                                     [key], {});\n",
              "          if (!dataTable) return;\n",
              "\n",
              "          const docLinkHtml = 'Like what you see? Visit the ' +\n",
              "            '<a target=\"_blank\" href=https://colab.research.google.com/notebooks/data_table.ipynb>data table notebook</a>'\n",
              "            + ' to learn more about interactive tables.';\n",
              "          element.innerHTML = '';\n",
              "          dataTable['output_type'] = 'display_data';\n",
              "          await google.colab.output.renderOutput(dataTable, element);\n",
              "          const docLink = document.createElement('div');\n",
              "          docLink.innerHTML = docLinkHtml;\n",
              "          element.appendChild(docLink);\n",
              "        }\n",
              "      </script>\n",
              "    </div>\n",
              "  </div>\n",
              "  "
            ]
          },
          "metadata": {},
          "execution_count": 174
        }
      ]
    },
    {
      "cell_type": "code",
      "source": [],
      "metadata": {
        "id": "Eq9AuZPxlrmC"
      },
      "execution_count": null,
      "outputs": []
    }
  ]
}